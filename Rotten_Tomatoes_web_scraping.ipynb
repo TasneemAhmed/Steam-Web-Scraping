{
  "nbformat": 4,
  "nbformat_minor": 0,
  "metadata": {
    "colab": {
      "name": "Rotten Tomatoes - web scraping.ipynb",
      "provenance": [],
      "authorship_tag": "ABX9TyN8HAvXffvjf2HBs6IEXyFZ",
      "include_colab_link": true
    },
    "kernelspec": {
      "name": "python3",
      "display_name": "Python 3"
    },
    "language_info": {
      "name": "python"
    }
  },
  "cells": [
    {
      "cell_type": "markdown",
      "metadata": {
        "id": "view-in-github",
        "colab_type": "text"
      },
      "source": [
        "<a href=\"https://colab.research.google.com/github/TasneemAhmed/Steam-Web-Scraping/blob/rotten-tomatoes-web-scraping/Rotten_Tomatoes_web_scraping.ipynb\" target=\"_parent\"><img src=\"https://colab.research.google.com/assets/colab-badge.svg\" alt=\"Open In Colab\"/></a>"
      ]
    },
    {
      "cell_type": "markdown",
      "metadata": {
        "id": "LXylRWa3Lkmo"
      },
      "source": [
        "# **1. Importing packages (requests & bs4)**"
      ]
    },
    {
      "cell_type": "code",
      "metadata": {
        "id": "dXHuJhVSLJgy"
      },
      "source": [
        "import requests\n",
        "from bs4 import BeautifulSoup"
      ],
      "execution_count": null,
      "outputs": []
    },
    {
      "cell_type": "markdown",
      "metadata": {
        "id": "Wz6zJF1RLxVv"
      },
      "source": [
        "# **2. Sending get request and show response as HTML**"
      ]
    },
    {
      "cell_type": "code",
      "metadata": {
        "colab": {
          "base_uri": "https://localhost:8080/"
        },
        "id": "N4GSlayPMm0L",
        "outputId": "af4c889f-c178-4b75-c42c-a971749f59f6"
      },
      "source": [
        "base_url = requests.get(\"https://editorial.rottentomatoes.com/guide/140-essential-action-movies-to-watch-now/\")\n",
        "base_url.status_code"
      ],
      "execution_count": null,
      "outputs": [
        {
          "output_type": "execute_result",
          "data": {
            "text/plain": [
              "200"
            ]
          },
          "metadata": {},
          "execution_count": 68
        }
      ]
    },
    {
      "cell_type": "code",
      "metadata": {
        "id": "Ycjxk4WtMnBU"
      },
      "source": [
        "html_response = base_url.content"
      ],
      "execution_count": null,
      "outputs": []
    },
    {
      "cell_type": "markdown",
      "metadata": {
        "id": "x8P4LKxZL8-2"
      },
      "source": [
        "# **3. Create Beautiful Soup object and passing html response & parser**"
      ]
    },
    {
      "cell_type": "code",
      "metadata": {
        "id": "5oDZQlhLPrFm"
      },
      "source": [
        "soup = BeautifulSoup(html_response, 'lxml')"
      ],
      "execution_count": null,
      "outputs": []
    },
    {
      "cell_type": "code",
      "metadata": {
        "id": "g9TIxaYEPrVI"
      },
      "source": [
        "with open('Rotten Tomatoes web scraping using lxml parser', 'wb') as file:\n",
        "    file.write(soup.prettify('UTF-8'))"
      ],
      "execution_count": null,
      "outputs": []
    },
    {
      "cell_type": "markdown",
      "metadata": {
        "id": "gzcsAJ1ZMP_N"
      },
      "source": [
        "# **4. Obtaining the elements and contain all data**"
      ]
    },
    {
      "cell_type": "code",
      "metadata": {
        "colab": {
          "base_uri": "https://localhost:8080/"
        },
        "id": "HTCWbygtgQej",
        "outputId": "876ce9b9-f10b-4b3f-bf7a-86cd625c77c0"
      },
      "source": [
        "div_titles = soup.find_all('div', class_ = 'article_movie_title')\n",
        "div_titles"
      ],
      "execution_count": null,
      "outputs": [
        {
          "output_type": "execute_result",
          "data": {
            "text/plain": [
              "[<div class=\"article_movie_title\" style=\"float: left;\">\n",
              " <div><h2><a href=\"https://www.rottentomatoes.com/m/1018009-running_scared\">Running Scared</a> <span class=\"subtle start-year\">(1986)</span> <span class=\"icon tiny rotten\" title=\"Rotten\"></span> <span class=\"tMeterScore\">57%</span></h2></div>\n",
              " </div>, <div class=\"article_movie_title\" style=\"float: left;\">\n",
              " <div><h2><a href=\"https://www.rottentomatoes.com/m/equilibrium\">Equilibrium</a> <span class=\"subtle start-year\">(2002)</span> <span class=\"icon tiny rotten\" title=\"Rotten\"></span> <span class=\"tMeterScore\">41%</span></h2></div>\n",
              " </div>, <div class=\"article_movie_title\" style=\"float: left;\">\n",
              " <div><h2><a href=\"https://www.rottentomatoes.com/m/hero\">Hero</a> <span class=\"subtle start-year\">(2002)</span> <span class=\"icon tiny certified\" title=\"Certified Fresh\"></span> <span class=\"tMeterScore\">94%</span></h2></div>\n",
              " </div>, <div class=\"article_movie_title\" style=\"float: left;\">\n",
              " <div><h2><a href=\"https://www.rottentomatoes.com/m/1017666-road_house\">Road House</a> <span class=\"subtle start-year\">(1989)</span> <span class=\"icon tiny rotten\" title=\"Rotten\"></span> <span class=\"tMeterScore\">40%</span></h2></div>\n",
              " </div>, <div class=\"article_movie_title\" style=\"float: left;\">\n",
              " <div><h2><a href=\"https://www.rottentomatoes.com/m/unstoppable-2010\">Unstoppable</a> <span class=\"subtle start-year\">(2010)</span> <span class=\"icon tiny certified\" title=\"Certified Fresh\"></span> <span class=\"tMeterScore\">87%</span></h2></div>\n",
              " </div>, <div class=\"article_movie_title\" style=\"float: left;\">\n",
              " <div><h2><a href=\"https://www.rottentomatoes.com/m/1018699-shaft\">Shaft</a> <span class=\"subtle start-year\">(1971)</span> <span class=\"icon tiny certified\" title=\"Certified Fresh\"></span> <span class=\"tMeterScore\">88%</span></h2></div>\n",
              " </div>, <div class=\"article_movie_title\" style=\"float: left;\">\n",
              " <div><h2><a href=\"https://www.rottentomatoes.com/m/the_villainess\">The Villainess</a> <span class=\"subtle start-year\">(2017)</span> <span class=\"icon tiny certified\" title=\"Certified Fresh\"></span> <span class=\"tMeterScore\">85%</span></h2></div>\n",
              " </div>, <div class=\"article_movie_title\" style=\"float: left;\">\n",
              " <div><h2><a href=\"https://www.rottentomatoes.com/m/highlander\">Highlander</a> <span class=\"subtle start-year\">(1986)</span> <span class=\"icon tiny fresh\" title=\"Fresh\"></span> <span class=\"tMeterScore\">70%</span></h2></div>\n",
              " </div>, <div class=\"article_movie_title\" style=\"float: left;\">\n",
              " <div><h2><a href=\"https://www.rottentomatoes.com/m/die_hard_2_1990\">Die Hard 2</a> <span class=\"subtle start-year\">(1990)</span> <span class=\"icon tiny fresh\" title=\"Fresh\"></span> <span class=\"tMeterScore\">69%</span></h2></div>\n",
              " </div>, <div class=\"article_movie_title\" style=\"float: left;\">\n",
              " <div><h2><a href=\"https://www.rottentomatoes.com/m/national_treasure\">National Treasure</a> <span class=\"subtle start-year\">(2004)</span> <span class=\"icon tiny rotten\" title=\"Rotten\"></span> <span class=\"tMeterScore\">46%</span></h2></div>\n",
              " </div>, <div class=\"article_movie_title\" style=\"float: left;\">\n",
              " <div><h2><a href=\"https://www.rottentomatoes.com/m/protector\">The Protector</a> <span class=\"subtle start-year\">(2005)</span> <span class=\"icon tiny rotten\" title=\"Rotten\"></span> <span class=\"tMeterScore\">53%</span></h2></div>\n",
              " </div>, <div class=\"article_movie_title\" style=\"float: left;\">\n",
              " <div><h2><a href=\"https://www.rottentomatoes.com/m/revenge_2018\">Revenge</a> <span class=\"subtle start-year\">(2017)</span> <span class=\"icon tiny certified\" title=\"Certified Fresh\"></span> <span class=\"tMeterScore\">93%</span></h2></div>\n",
              " </div>, <div class=\"article_movie_title\" style=\"float: left;\">\n",
              " <div><h2><a href=\"https://www.rottentomatoes.com/m/el_mariachi\">El Mariachi</a> <span class=\"subtle start-year\">(1992)</span> <span class=\"icon tiny certified\" title=\"Certified Fresh\"></span> <span class=\"tMeterScore\">91%</span></h2></div>\n",
              " </div>, <div class=\"article_movie_title\" style=\"float: left;\">\n",
              " <div><h2><a href=\"https://www.rottentomatoes.com/m/touch_of_zen\">A Touch of Zen</a> <span class=\"subtle start-year\">(1971)</span> <span class=\"icon tiny fresh\" title=\"Fresh\"></span> <span class=\"tMeterScore\">97%</span></h2></div>\n",
              " </div>, <div class=\"article_movie_title\" style=\"float: left;\">\n",
              " <div><h2><a href=\"https://www.rottentomatoes.com/m/top_gun\">Top Gun</a> <span class=\"subtle start-year\">(1986)</span> <span class=\"icon tiny rotten\" title=\"Rotten\"></span> <span class=\"tMeterScore\">58%</span></h2></div>\n",
              " </div>, <div class=\"article_movie_title\" style=\"float: left;\">\n",
              " <div><h2><a href=\"https://www.rottentomatoes.com/m/con_air\">Con Air</a> <span class=\"subtle start-year\">(1997)</span> <span class=\"icon tiny rotten\" title=\"Rotten\"></span> <span class=\"tMeterScore\">56%</span></h2></div>\n",
              " </div>, <div class=\"article_movie_title\" style=\"float: left;\">\n",
              " <div><h2><a href=\"https://www.rottentomatoes.com/m/the_expendables_2\">The Expendables 2</a> <span class=\"subtle start-year\">(2012)</span> <span class=\"icon tiny fresh\" title=\"Fresh\"></span> <span class=\"tMeterScore\">67%</span></h2></div>\n",
              " </div>, <div class=\"article_movie_title\" style=\"float: left;\">\n",
              " <div><h2><a href=\"https://www.rottentomatoes.com/m/1087270-mummy\">The Mummy</a> <span class=\"subtle start-year\">(1999)</span> <span class=\"icon tiny fresh\" title=\"Fresh\"></span> <span class=\"tMeterScore\">61%</span></h2></div>\n",
              " </div>, <div class=\"article_movie_title\" style=\"float: left;\">\n",
              " <div><h2><a href=\"https:\"></a> <span class=\"subtle start-year\">()</span> <span class=\"tMeterScore\"></span></h2></div>\n",
              " </div>, <div class=\"article_movie_title\" style=\"float: left;\">\n",
              " <div><h2><a href=\"https://www.rottentomatoes.com/m/rush_hour\">Rush Hour</a> <span class=\"subtle start-year\">(1998)</span> <span class=\"icon tiny fresh\" title=\"Fresh\"></span> <span class=\"tMeterScore\">61%</span></h2></div>\n",
              " </div>, <div class=\"article_movie_title\" style=\"float: left;\">\n",
              " <div><h2><a href=\"https://www.rottentomatoes.com/m/the_equalizer_2013\">The Equalizer</a> <span class=\"subtle start-year\">(2014)</span> <span class=\"icon tiny fresh\" title=\"Fresh\"></span> <span class=\"tMeterScore\">60%</span></h2></div>\n",
              " </div>, <div class=\"article_movie_title\" style=\"float: left;\">\n",
              " <div><h2><a href=\"https://www.rottentomatoes.com/m/captain_america_civil_war\">Captain America: Civil War</a> <span class=\"subtle start-year\">(2016)</span> <span class=\"icon tiny certified\" title=\"Certified Fresh\"></span> <span class=\"tMeterScore\">90%</span></h2></div>\n",
              " </div>, <div class=\"article_movie_title\" style=\"float: left;\">\n",
              " <div><h2><a href=\"https://www.rottentomatoes.com/m/air_force_one\">Air Force One</a> <span class=\"subtle start-year\">(1997)</span> <span class=\"icon tiny certified\" title=\"Certified Fresh\"></span> <span class=\"tMeterScore\">78%</span></h2></div>\n",
              " </div>, <div class=\"article_movie_title\" style=\"float: left;\">\n",
              " <div><h2><a href=\"https://www.rottentomatoes.com/m/bloodsport\">Bloodsport</a> <span class=\"subtle start-year\">(1988)</span> <span class=\"icon tiny rotten\" title=\"Rotten\"></span> <span class=\"tMeterScore\">40%</span></h2></div>\n",
              " </div>, <div class=\"article_movie_title\" style=\"float: left;\">\n",
              " <div><h2><a href=\"https://www.rottentomatoes.com/m/1083484-blade\">Blade</a> <span class=\"subtle start-year\">(1998)</span> <span class=\"icon tiny rotten\" title=\"Rotten\"></span> <span class=\"tMeterScore\">57%</span></h2></div>\n",
              " </div>, <div class=\"article_movie_title\" style=\"float: left;\">\n",
              " <div><h2><a href=\"https://www.rottentomatoes.com/m/1062483-bad_boys\">Bad Boys</a> <span class=\"subtle start-year\">(1995)</span> <span class=\"icon tiny rotten\" title=\"Rotten\"></span> <span class=\"tMeterScore\">42%</span></h2></div>\n",
              " </div>, <div class=\"article_movie_title\" style=\"float: left;\">\n",
              " <div><h2><a href=\"https://www.rottentomatoes.com/m/die_hard_with_a_vengeance\">Die Hard With a Vengeance</a> <span class=\"subtle start-year\">(1995)</span> <span class=\"icon tiny fresh\" title=\"Fresh\"></span> <span class=\"tMeterScore\">60%</span></h2></div>\n",
              " </div>, <div class=\"article_movie_title\" style=\"float: left;\">\n",
              " <div><h2><a href=\"https://www.rottentomatoes.com/m/running_man\">The Running Man</a> <span class=\"subtle start-year\">(1987)</span> <span class=\"icon tiny fresh\" title=\"Fresh\"></span> <span class=\"tMeterScore\">66%</span></h2></div>\n",
              " </div>, <div class=\"article_movie_title\" style=\"float: left;\">\n",
              " <div><h2><a href=\"https://www.rottentomatoes.com/m/code_of_silence\">Code of Silence</a> <span class=\"subtle start-year\">(1985)</span> <span class=\"icon tiny fresh\" title=\"Fresh\"></span> <span class=\"tMeterScore\">70%</span></h2></div>\n",
              " </div>, <div class=\"article_movie_title\" style=\"float: left;\">\n",
              " <div><h2><a href=\"https://www.rottentomatoes.com/m/shoot_em_up\">Shoot 'Em Up</a> <span class=\"subtle start-year\">(2007)</span> <span class=\"icon tiny fresh\" title=\"Fresh\"></span> <span class=\"tMeterScore\">67%</span></h2></div>\n",
              " </div>, <div class=\"article_movie_title\" style=\"float: left;\">\n",
              " <div><h2><a href=\"https://www.rottentomatoes.com/m/crank\">Crank</a> <span class=\"subtle start-year\">(2006)</span> <span class=\"icon tiny fresh\" title=\"Fresh\"></span> <span class=\"tMeterScore\">61%</span></h2></div>\n",
              " </div>, <div class=\"article_movie_title\" style=\"float: left;\">\n",
              " <div><h2><a href=\"https://www.rottentomatoes.com/m/machete\">Machete</a> <span class=\"subtle start-year\">(2010)</span> <span class=\"icon tiny certified\" title=\"Certified Fresh\"></span> <span class=\"tMeterScore\">72%</span></h2></div>\n",
              " </div>, <div class=\"article_movie_title\" style=\"float: left;\">\n",
              " <div><h2><a href=\"https://www.rottentomatoes.com/m/drive_2011\">Drive</a> <span class=\"subtle start-year\">(2011)</span> <span class=\"icon tiny certified\" title=\"Certified Fresh\"></span> <span class=\"tMeterScore\">93%</span></h2></div>\n",
              " </div>, <div class=\"article_movie_title\" style=\"float: left;\">\n",
              " <div><h2><a href=\"https://www.rottentomatoes.com/m/1001781-batman\">Batman</a> <span class=\"subtle start-year\">(1989)</span> <span class=\"icon tiny fresh\" title=\"Fresh\"></span> <span class=\"tMeterScore\">71%</span></h2></div>\n",
              " </div>, <div class=\"article_movie_title\" style=\"float: left;\">\n",
              " <div><h2><a href=\"https://www.rottentomatoes.com/m/under_siege\">Under Siege</a> <span class=\"subtle start-year\">(1992)</span> <span class=\"icon tiny fresh\" title=\"Fresh\"></span> <span class=\"tMeterScore\">79%</span></h2></div>\n",
              " </div>, <div class=\"article_movie_title\" style=\"float: left;\">\n",
              " <div><h2><a href=\"https://www.rottentomatoes.com/m/1071806-independence_day\">Independence Day</a> <span class=\"subtle start-year\">(1996)</span> <span class=\"icon tiny fresh\" title=\"Fresh\"></span> <span class=\"tMeterScore\">68%</span></h2></div>\n",
              " </div>, <div class=\"article_movie_title\" style=\"float: left;\">\n",
              " <div><h2><a href=\"https://www.rottentomatoes.com/m/bullitt\">Bullitt</a> <span class=\"subtle start-year\">(1968)</span> <span class=\"icon tiny certified\" title=\"Certified Fresh\"></span> <span class=\"tMeterScore\">98%</span></h2></div>\n",
              " </div>, <div class=\"article_movie_title\" style=\"float: left;\">\n",
              " <div><h2><a href=\"https://www.rottentomatoes.com/m/1174279-wanted\">Wanted</a> <span class=\"subtle start-year\">(2008)</span> <span class=\"icon tiny certified\" title=\"Certified Fresh\"></span> <span class=\"tMeterScore\">71%</span></h2></div>\n",
              " </div>, <div class=\"article_movie_title\" style=\"float: left;\">\n",
              " <div><h2><a href=\"https://www.rottentomatoes.com/m/superman_the_movie\">Superman: The Movie</a> <span class=\"subtle start-year\">(1978)</span> <span class=\"icon tiny certified\" title=\"Certified Fresh\"></span> <span class=\"tMeterScore\">94%</span></h2></div>\n",
              " </div>, <div class=\"article_movie_title\" style=\"float: left;\">\n",
              " <div><h2><a href=\"https://www.rottentomatoes.com/m/ronin\">Ronin</a> <span class=\"subtle start-year\">(1998)</span> <span class=\"icon tiny fresh\" title=\"Fresh\"></span> <span class=\"tMeterScore\">68%</span></h2></div>\n",
              " </div>, <div class=\"article_movie_title\" style=\"float: left;\">\n",
              " <div><h2><a href=\"https://www.rottentomatoes.com/m/they_live\">They Live</a> <span class=\"subtle start-year\">(1988)</span> <span class=\"icon tiny certified\" title=\"Certified Fresh\"></span> <span class=\"tMeterScore\">85%</span></h2></div>\n",
              " </div>, <div class=\"article_movie_title\" style=\"float: left;\">\n",
              " <div><h2><a href=\"https://www.rottentomatoes.com/m/1044214-cliffhanger\">Cliffhanger</a> <span class=\"subtle start-year\">(1993)</span> <span class=\"icon tiny fresh\" title=\"Fresh\"></span> <span class=\"tMeterScore\">67%</span></h2></div>\n",
              " </div>, <div class=\"article_movie_title\" style=\"float: left;\">\n",
              " <div><h2><a href=\"https://www.rottentomatoes.com/m/marvels_the_avengers\">Marvel's the Avengers</a> <span class=\"subtle start-year\">(2012)</span> <span class=\"icon tiny certified\" title=\"Certified Fresh\"></span> <span class=\"tMeterScore\">91%</span></h2></div>\n",
              " </div>, <div class=\"article_movie_title\" style=\"float: left;\">\n",
              " <div><h2><a href=\"https://www.rottentomatoes.com/m/hot_fuzz\">Hot Fuzz</a> <span class=\"subtle start-year\">(2007)</span> <span class=\"icon tiny certified\" title=\"Certified Fresh\"></span> <span class=\"tMeterScore\">91%</span></h2></div>\n",
              " </div>, <div class=\"article_movie_title\" style=\"float: left;\">\n",
              " <div><h2><a href=\"https://www.rottentomatoes.com/m/1023205-warriors\">The Warriors</a> <span class=\"subtle start-year\">(1979)</span> <span class=\"icon tiny certified\" title=\"Certified Fresh\"></span> <span class=\"tMeterScore\">87%</span></h2></div>\n",
              " </div>, <div class=\"article_movie_title\" style=\"float: left;\">\n",
              " <div><h2><a href=\"https://www.rottentomatoes.com/m/starship_troopers\">Starship Troopers</a> <span class=\"subtle start-year\">(1997)</span> <span class=\"icon tiny fresh\" title=\"Fresh\"></span> <span class=\"tMeterScore\">66%</span></h2></div>\n",
              " </div>, <div class=\"article_movie_title\" style=\"float: left;\">\n",
              " <div><h2><a href=\"https://www.rottentomatoes.com/m/elite_squad_the_enemy_within\">Elite Squad 2</a> <span class=\"subtle start-year\">(2010)</span> <span class=\"icon tiny certified\" title=\"Certified Fresh\"></span> <span class=\"tMeterScore\">91%</span></h2></div>\n",
              " </div>, <div class=\"article_movie_title\" style=\"float: left;\">\n",
              " <div><h2><a href=\"https://www.rottentomatoes.com/m/point_break\">Point Break</a> <span class=\"subtle start-year\">(1991)</span> <span class=\"icon tiny fresh\" title=\"Fresh\"></span> <span class=\"tMeterScore\">69%</span></h2></div>\n",
              " </div>, <div class=\"article_movie_title\" style=\"float: left;\">\n",
              " <div><h2><a href=\"https://www.rottentomatoes.com/m/long_kiss_goodnight\">The Long Kiss Goodnight</a> <span class=\"subtle start-year\">(1996)</span> <span class=\"icon tiny fresh\" title=\"Fresh\"></span> <span class=\"tMeterScore\">70%</span></h2></div>\n",
              " </div>, <div class=\"article_movie_title\" style=\"float: left;\">\n",
              " <div><h2><a href=\"https://www.rottentomatoes.com/m/the_guest_2014\">The Guest</a> <span class=\"subtle start-year\">(2014)</span> <span class=\"icon tiny certified\" title=\"Certified Fresh\"></span> <span class=\"tMeterScore\">92%</span></h2></div>\n",
              " </div>, <div class=\"article_movie_title\" style=\"float: left;\">\n",
              " <div><h2><a href=\"https://www.rottentomatoes.com/m/taken\">Taken</a> <span class=\"subtle start-year\">(2008)</span> <span class=\"icon tiny rotten\" title=\"Rotten\"></span> <span class=\"tMeterScore\">59%</span></h2></div>\n",
              " </div>, <div class=\"article_movie_title\" style=\"float: left;\">\n",
              " <div><h2><a href=\"https://www.rottentomatoes.com/m/300\">300</a> <span class=\"subtle start-year\">(2006)</span> <span class=\"icon tiny fresh\" title=\"Fresh\"></span> <span class=\"tMeterScore\">61%</span></h2></div>\n",
              " </div>, <div class=\"article_movie_title\" style=\"float: left;\">\n",
              " <div><h2><a href=\"https://www.rottentomatoes.com/m/true_lies\">True Lies</a> <span class=\"subtle start-year\">(1994)</span> <span class=\"icon tiny fresh\" title=\"Fresh\"></span> <span class=\"tMeterScore\">71%</span></h2></div>\n",
              " </div>, <div class=\"article_movie_title\" style=\"float: left;\">\n",
              " <div><h2><a href=\"https://www.rottentomatoes.com/m/demolition_man\">Demolition Man</a> <span class=\"subtle start-year\">(1993)</span> <span class=\"icon tiny fresh\" title=\"Fresh\"></span> <span class=\"tMeterScore\">60%</span></h2></div>\n",
              " </div>, <div class=\"article_movie_title\" style=\"float: left;\">\n",
              " <div><h2><a href=\"https://www.rottentomatoes.com/m/hardcore_henry\">Hardcore Henry</a> <span class=\"subtle start-year\">(2015)</span> <span class=\"icon tiny rotten\" title=\"Rotten\"></span> <span class=\"tMeterScore\">51%</span></h2></div>\n",
              " </div>, <div class=\"article_movie_title\" style=\"float: left;\">\n",
              " <div><h2><a href=\"https://www.rottentomatoes.com/m/police_story\">Police Story</a> <span class=\"subtle start-year\">(1985)</span> <span class=\"icon tiny fresh\" title=\"Fresh\"></span> <span class=\"tMeterScore\">93%</span></h2></div>\n",
              " </div>, <div class=\"article_movie_title\" style=\"float: left;\">\n",
              " <div><h2><a href=\"https://www.rottentomatoes.com/m/brotherhood_of_the_wolf\">Brotherhood of the Wolf</a> <span class=\"subtle start-year\">(2001)</span> <span class=\"icon tiny fresh\" title=\"Fresh\"></span> <span class=\"tMeterScore\">73%</span></h2></div>\n",
              " </div>, <div class=\"article_movie_title\" style=\"float: left;\">\n",
              " <div><h2><a href=\"https://www.rottentomatoes.com/m/kingsman_the_secret_service\">Kingsman: The Secret Service</a> <span class=\"subtle start-year\">(2014)</span> <span class=\"icon tiny certified\" title=\"Certified Fresh\"></span> <span class=\"tMeterScore\">75%</span></h2></div>\n",
              " </div>, <div class=\"article_movie_title\" style=\"float: left;\">\n",
              " <div><h2><a href=\"https://www.rottentomatoes.com/m/fifth_element\">The Fifth Element</a> <span class=\"subtle start-year\">(1997)</span> <span class=\"icon tiny fresh\" title=\"Fresh\"></span> <span class=\"tMeterScore\">71%</span></h2></div>\n",
              " </div>, <div class=\"article_movie_title\" style=\"float: left;\">\n",
              " <div><h2><a href=\"https://www.rottentomatoes.com/m/big_trouble_in_little_china\">Big Trouble in Little China</a> <span class=\"subtle start-year\">(1986)</span> <span class=\"icon tiny certified\" title=\"Certified Fresh\"></span> <span class=\"tMeterScore\">74%</span></h2></div>\n",
              " </div>, <div class=\"article_movie_title\" style=\"float: left;\">\n",
              " <div><h2><a href=\"https://www.rottentomatoes.com/m/atomic_blonde_2017\">Atomic Blonde</a> <span class=\"subtle start-year\">(2017)</span> <span class=\"icon tiny certified\" title=\"Certified Fresh\"></span> <span class=\"tMeterScore\">79%</span></h2></div>\n",
              " </div>, <div class=\"article_movie_title\" style=\"float: left;\">\n",
              " <div><h2><a href=\"https://www.rottentomatoes.com/m/rumble_in_the_bronx\">Rumble in the Bronx</a> <span class=\"subtle start-year\">(1995)</span> <span class=\"icon tiny certified\" title=\"Certified Fresh\"></span> <span class=\"tMeterScore\">80%</span></h2></div>\n",
              " </div>, <div class=\"article_movie_title\" style=\"float: left;\">\n",
              " <div><h2><a href=\"https://www.rottentomatoes.com/m/district_b13\">District B13</a> <span class=\"subtle start-year\">(2004)</span> <span class=\"icon tiny certified\" title=\"Certified Fresh\"></span> <span class=\"tMeterScore\">80%</span></h2></div>\n",
              " </div>, <div class=\"article_movie_title\" style=\"float: left;\">\n",
              " <div><h2><a href=\"https://www.rottentomatoes.com/m/beverly_hills_cop\">Beverly Hills Cop</a> <span class=\"subtle start-year\">(1984)</span> <span class=\"icon tiny certified\" title=\"Certified Fresh\"></span> <span class=\"tMeterScore\">83%</span></h2></div>\n",
              " </div>, <div class=\"article_movie_title\" style=\"float: left;\">\n",
              " <div><h2><a href=\"https://www.rottentomatoes.com/m/ongbak\">Ong-Bak: The Thai Warrior</a> <span class=\"subtle start-year\">(2003)</span> <span class=\"icon tiny certified\" title=\"Certified Fresh\"></span> <span class=\"tMeterScore\">85%</span></h2></div>\n",
              " </div>, <div class=\"article_movie_title\" style=\"float: left;\">\n",
              " <div><h2><a href=\"https://www.rottentomatoes.com/m/collateral\">Collateral</a> <span class=\"subtle start-year\">(2004)</span> <span class=\"icon tiny certified\" title=\"Certified Fresh\"></span> <span class=\"tMeterScore\">86%</span></h2></div>\n",
              " </div>, <div class=\"article_movie_title\" style=\"float: left;\">\n",
              " <div><h2><a href=\"https://www.rottentomatoes.com/m/1075984-iron_monkey\">Iron Monkey</a> <span class=\"subtle start-year\">(1993)</span> <span class=\"icon tiny certified\" title=\"Certified Fresh\"></span> <span class=\"tMeterScore\">91%</span></h2></div>\n",
              " </div>, <div class=\"article_movie_title\" style=\"float: left;\">\n",
              " <div><h2><a href=\"https://www.rottentomatoes.com/m/1006717-escape_from_new_york\">Escape From New York</a> <span class=\"subtle start-year\">(1981)</span> <span class=\"icon tiny certified\" title=\"Certified Fresh\"></span> <span class=\"tMeterScore\">86%</span></h2></div>\n",
              " </div>, <div class=\"article_movie_title\" style=\"float: left;\">\n",
              " <div><h2><a href=\"https://www.rottentomatoes.com/m/battle_royale\">Battle Royale</a> <span class=\"subtle start-year\">(2000)</span> <span class=\"icon tiny certified\" title=\"Certified Fresh\"></span> <span class=\"tMeterScore\">88%</span></h2></div>\n",
              " </div>, <div class=\"article_movie_title\" style=\"float: left;\">\n",
              " <div><h2><a href=\"https://www.rottentomatoes.com/m/spiderman_2\">Spider-Man 2</a> <span class=\"subtle start-year\">(2004)</span> <span class=\"icon tiny certified\" title=\"Certified Fresh\"></span> <span class=\"tMeterScore\">93%</span></h2></div>\n",
              " </div>, <div class=\"article_movie_title\" style=\"float: left;\">\n",
              " <div><h2><a href=\"https://www.rottentomatoes.com/m/13_assassins_2011\">13 Assassins</a> <span class=\"subtle start-year\">(2010)</span> <span class=\"icon tiny certified\" title=\"Certified Fresh\"></span> <span class=\"tMeterScore\">95%</span></h2></div>\n",
              " </div>, <div class=\"article_movie_title\" style=\"float: left;\">\n",
              " <div><h2><a href=\"https://www.rottentomatoes.com/m/full_contact\">Full Contact</a> <span class=\"subtle start-year\">(1992)</span> <span class=\"icon tiny fresh\" title=\"Fresh\"></span> <span class=\"tMeterScore\">88%</span></h2></div>\n",
              " </div>, <div class=\"article_movie_title\" style=\"float: left;\">\n",
              " <div><h2><a href=\"https://www.rottentomatoes.com/m/indiana_jones_and_the_last_crusade\">Indiana Jones and the Last Crusade</a> <span class=\"subtle start-year\">(1989)</span> <span class=\"icon tiny certified\" title=\"Certified Fresh\"></span> <span class=\"tMeterScore\">88%</span></h2></div>\n",
              " </div>, <div class=\"article_movie_title\" style=\"float: left;\">\n",
              " <div><h2><a href=\"https://www.rottentomatoes.com/m/kung_fu_hustle\">Kung Fu Hustle</a> <span class=\"subtle start-year\">(2004)</span> <span class=\"icon tiny certified\" title=\"Certified Fresh\"></span> <span class=\"tMeterScore\">91%</span></h2></div>\n",
              " </div>, <div class=\"article_movie_title\" style=\"float: left;\">\n",
              " <div><h2><a href=\"https://www.rottentomatoes.com/m/better_tomorrow\">A Better Tomorrow</a> <span class=\"subtle start-year\">(1986)</span> <span class=\"icon tiny fresh\" title=\"Fresh\"></span> <span class=\"tMeterScore\">93%</span></h2></div>\n",
              " </div>, <div class=\"article_movie_title\" style=\"float: left;\">\n",
              " <div><h2><a href=\"https://www.rottentomatoes.com/m/iron_man\">Iron Man</a> <span class=\"subtle start-year\">(2008)</span> <span class=\"icon tiny certified\" title=\"Certified Fresh\"></span> <span class=\"tMeterScore\">94%</span></h2></div>\n",
              " </div>, <div class=\"article_movie_title\" style=\"float: left;\">\n",
              " <div><h2><a href=\"https://www.rottentomatoes.com/m/the_night_comes_for_us\">The Night Comes for Us</a> <span class=\"subtle start-year\">(2018)</span> <span class=\"icon tiny fresh\" title=\"Fresh\"></span> <span class=\"tMeterScore\">91%</span></h2></div>\n",
              " </div>, <div class=\"article_movie_title\" style=\"float: left;\">\n",
              " <div><h2><a href=\"https://www.rottentomatoes.com/m/logan_2017\">Logan</a> <span class=\"subtle start-year\">(2017)</span> <span class=\"icon tiny certified\" title=\"Certified Fresh\"></span> <span class=\"tMeterScore\">94%</span></h2></div>\n",
              " </div>, <div class=\"article_movie_title\" style=\"float: left;\">\n",
              " <div><h2><a href=\"https://www.rottentomatoes.com/m/goldfinger\">Goldfinger</a> <span class=\"subtle start-year\">(1964)</span> <span class=\"icon tiny certified\" title=\"Certified Fresh\"></span> <span class=\"tMeterScore\">99%</span></h2></div>\n",
              " </div>, <div class=\"article_movie_title\" style=\"float: left;\">\n",
              " <div><h2><a href=\"https://www.rottentomatoes.com/m/1001280-assault_on_precinct_13\">Assault on Precinct 13</a> <span class=\"subtle start-year\">(1976)</span> <span class=\"icon tiny certified\" title=\"Certified Fresh\"></span> <span class=\"tMeterScore\">96%</span></h2></div>\n",
              " </div>, <div class=\"article_movie_title\" style=\"float: left;\">\n",
              " <div><h2><a href=\"https://www.rottentomatoes.com/m/wonder_woman_2017\">Wonder Woman</a> <span class=\"subtle start-year\">(2017)</span> <span class=\"icon tiny certified\" title=\"Certified Fresh\"></span> <span class=\"tMeterScore\">93%</span></h2></div>\n",
              " </div>, <div class=\"article_movie_title\" style=\"float: left;\">\n",
              " <div><h2><a href=\"https://www.rottentomatoes.com/m/chinese_connection\">The Chinese Connection</a> <span class=\"subtle start-year\">(1972)</span> <span class=\"icon tiny fresh\" title=\"Fresh\"></span> <span class=\"tMeterScore\">83%</span></h2></div>\n",
              " </div>, <div class=\"article_movie_title\" style=\"float: left;\">\n",
              " <div><h2><a href=\"https://www.rottentomatoes.com/m/captain_america_the_winter_soldier_2014\">Captain America: The Winter Soldier</a> <span class=\"subtle start-year\">(2014)</span> <span class=\"icon tiny certified\" title=\"Certified Fresh\"></span> <span class=\"tMeterScore\">90%</span></h2></div>\n",
              " </div>, <div class=\"article_movie_title\" style=\"float: left;\">\n",
              " <div><h2><a href=\"https://www.rottentomatoes.com/m/oldboy\">Oldboy</a> <span class=\"subtle start-year\">(2003)</span> <span class=\"icon tiny certified\" title=\"Certified Fresh\"></span> <span class=\"tMeterScore\">81%</span></h2></div>\n",
              " </div>, <div class=\"article_movie_title\" style=\"float: left;\">\n",
              " <div><h2><a href=\"https://www.rottentomatoes.com/m/french_connection\">The French Connection</a> <span class=\"subtle start-year\">(1971)</span> <span class=\"icon tiny certified\" title=\"Certified Fresh\"></span> <span class=\"tMeterScore\">98%</span></h2></div>\n",
              " </div>, <div class=\"article_movie_title\" style=\"float: left;\">\n",
              " <div><h2><a href=\"https://www.rottentomatoes.com/m/furious_7\">Furious 7</a> <span class=\"subtle start-year\">(2015)</span> <span class=\"icon tiny certified\" title=\"Certified Fresh\"></span> <span class=\"tMeterScore\">82%</span></h2></div>\n",
              " </div>, <div class=\"article_movie_title\" style=\"float: left;\">\n",
              " <div><h2><a href=\"https://www.rottentomatoes.com/m/la_femme_nikita\">La Femme Nikita</a> <span class=\"subtle start-year\">(1990)</span> <span class=\"icon tiny certified\" title=\"Certified Fresh\"></span> <span class=\"tMeterScore\">89%</span></h2></div>\n",
              " </div>, <div class=\"article_movie_title\" style=\"float: left;\">\n",
              " <div><h2><a href=\"https://www.rottentomatoes.com/m/supercop\">Supercop</a> <span class=\"subtle start-year\">(1992)</span> <span class=\"icon tiny certified\" title=\"Certified Fresh\"></span> <span class=\"tMeterScore\">96%</span></h2></div>\n",
              " </div>, <div class=\"article_movie_title\" style=\"float: left;\">\n",
              " <div><h2><a href=\"https://www.rottentomatoes.com/m/dirty_harry\">Dirty Harry</a> <span class=\"subtle start-year\">(1971)</span> <span class=\"icon tiny certified\" title=\"Certified Fresh\"></span> <span class=\"tMeterScore\">87%</span></h2></div>\n",
              " </div>, <div class=\"article_movie_title\" style=\"float: left;\">\n",
              " <div><h2><a href=\"https://www.rottentomatoes.com/m/live_die_repeat_edge_of_tomorrow\">Edge of Tomorrow</a> <span class=\"subtle start-year\">(2014)</span> <span class=\"icon tiny certified\" title=\"Certified Fresh\"></span> <span class=\"tMeterScore\">91%</span></h2></div>\n",
              " </div>, <div class=\"article_movie_title\" style=\"float: left;\">\n",
              " <div><h2><a href=\"https://www.rottentomatoes.com/m/x2_xmen_united\">X2</a> <span class=\"subtle start-year\">(2003)</span> <span class=\"icon tiny certified\" title=\"Certified Fresh\"></span> <span class=\"tMeterScore\">85%</span></h2></div>\n",
              " </div>, <div class=\"article_movie_title\" style=\"float: left;\">\n",
              " <div><h2><a href=\"https://www.rottentomatoes.com/m/1046129-fugitive\">The Fugitive</a> <span class=\"subtle start-year\">(1993)</span> <span class=\"icon tiny certified\" title=\"Certified Fresh\"></span> <span class=\"tMeterScore\">96%</span></h2></div>\n",
              " </div>, <div class=\"article_movie_title\" style=\"float: left;\">\n",
              " <div><h2><a href=\"https://www.rottentomatoes.com/m/black_panther_2018\">Black Panther</a> <span class=\"subtle start-year\">(2018)</span> <span class=\"icon tiny certified\" title=\"Certified Fresh\"></span> <span class=\"tMeterScore\">96%</span></h2></div>\n",
              " </div>, <div class=\"article_movie_title\" style=\"float: left;\">\n",
              " <div><h2><a href=\"https://www.rottentomatoes.com/m/inception\">Inception</a> <span class=\"subtle start-year\">(2010)</span> <span class=\"icon tiny certified\" title=\"Certified Fresh\"></span> <span class=\"tMeterScore\">87%</span></h2></div>\n",
              " </div>, <div class=\"article_movie_title\" style=\"float: left;\">\n",
              " <div><h2><a href=\"https://www.rottentomatoes.com/m/1065684-braveheart\">Braveheart</a> <span class=\"subtle start-year\">(1995)</span> <span class=\"icon tiny certified\" title=\"Certified Fresh\"></span> <span class=\"tMeterScore\">79%</span></h2></div>\n",
              " </div>, <div class=\"article_movie_title\" style=\"float: left;\">\n",
              " <div><h2><a href=\"https://www.rottentomatoes.com/m/minority_report\">Minority Report</a> <span class=\"subtle start-year\">(2002)</span> <span class=\"icon tiny certified\" title=\"Certified Fresh\"></span> <span class=\"tMeterScore\">90%</span></h2></div>\n",
              " </div>, <div class=\"article_movie_title\" style=\"float: left;\">\n",
              " <div><h2><a href=\"https://www.rottentomatoes.com/m/avengers_endgame\">Avengers: Endgame</a> <span class=\"subtle start-year\">(2019)</span> <span class=\"icon tiny certified\" title=\"Certified Fresh\"></span> <span class=\"tMeterScore\">94%</span></h2></div>\n",
              " </div>, <div class=\"article_movie_title\" style=\"float: left;\">\n",
              " <div><h2><a href=\"https://www.rottentomatoes.com/m/dredd\">Dredd</a> <span class=\"subtle start-year\">(2012)</span> <span class=\"icon tiny certified\" title=\"Certified Fresh\"></span> <span class=\"tMeterScore\">79%</span></h2></div>\n",
              " </div>, <div class=\"article_movie_title\" style=\"float: left;\">\n",
              " <div><h2><a href=\"https://www.rottentomatoes.com/m/bourne_identity\">The Bourne Identity</a> <span class=\"subtle start-year\">(2002)</span> <span class=\"icon tiny certified\" title=\"Certified Fresh\"></span> <span class=\"tMeterScore\">83%</span></h2></div>\n",
              " </div>, <div class=\"article_movie_title\" style=\"float: left;\">\n",
              " <div><h2><a href=\"https://www.rottentomatoes.com/m/ip_man\">Ip Man</a> <span class=\"subtle start-year\">(2008)</span> <span class=\"icon tiny fresh\" title=\"Fresh\"></span> <span class=\"tMeterScore\">86%</span></h2></div>\n",
              " </div>, <div class=\"article_movie_title\" style=\"float: left;\">\n",
              " <div><h2><a href=\"https://www.rottentomatoes.com/m/faceoff\">Face/Off</a> <span class=\"subtle start-year\">(1997)</span> <span class=\"icon tiny certified\" title=\"Certified Fresh\"></span> <span class=\"tMeterScore\">92%</span></h2></div>\n",
              " </div>, <div class=\"article_movie_title\" style=\"float: left;\">\n",
              " <div><h2><a href=\"https://www.rottentomatoes.com/m/to_live_and_die_in_la\">To Live and Die in L.A.</a> <span class=\"subtle start-year\">(1985)</span> <span class=\"icon tiny certified\" title=\"Certified Fresh\"></span> <span class=\"tMeterScore\">85%</span></h2></div>\n",
              " </div>, <div class=\"article_movie_title\" style=\"float: left;\">\n",
              " <div><h2><a href=\"https://www.rottentomatoes.com/m/the_dark_knight\">The Dark Knight</a> <span class=\"subtle start-year\">(2008)</span> <span class=\"icon tiny certified\" title=\"Certified Fresh\"></span> <span class=\"tMeterScore\">94%</span></h2></div>\n",
              " </div>, <div class=\"article_movie_title\" style=\"float: left;\">\n",
              " <div><h2><a href=\"https://www.rottentomatoes.com/m/mission_impossible_ghost_protocol\">Mission: Impossible -- Ghost Protocol</a> <span class=\"subtle start-year\">(2011)</span> <span class=\"icon tiny certified\" title=\"Certified Fresh\"></span> <span class=\"tMeterScore\">93%</span></h2></div>\n",
              " </div>, <div class=\"article_movie_title\" style=\"float: left;\">\n",
              " <div><h2><a href=\"https://www.rottentomatoes.com/m/fast_five\">Fast Five</a> <span class=\"subtle start-year\">(2011)</span> <span class=\"icon tiny certified\" title=\"Certified Fresh\"></span> <span class=\"tMeterScore\">77%</span></h2></div>\n",
              " </div>, <div class=\"article_movie_title\" style=\"float: left;\">\n",
              " <div><h2><a href=\"https://www.rottentomatoes.com/m/lethal_weapon\">Lethal Weapon</a> <span class=\"subtle start-year\">(1987)</span> <span class=\"icon tiny certified\" title=\"Certified Fresh\"></span> <span class=\"tMeterScore\">80%</span></h2></div>\n",
              " </div>, <div class=\"article_movie_title\" style=\"float: left;\">\n",
              " <div><h2><a href=\"https://www.rottentomatoes.com/m/1072011-rock\">The Rock</a> <span class=\"subtle start-year\">(1996)</span> <span class=\"icon tiny fresh\" title=\"Fresh\"></span> <span class=\"tMeterScore\">68%</span></h2></div>\n",
              " </div>, <div class=\"article_movie_title\" style=\"float: left;\">\n",
              " <div><h2><a href=\"https://www.rottentomatoes.com/m/1017712-robocop\">RoboCop</a> <span class=\"subtle start-year\">(1987)</span> <span class=\"icon tiny certified\" title=\"Certified Fresh\"></span> <span class=\"tMeterScore\">90%</span></h2></div>\n",
              " </div>, <div class=\"article_movie_title\" style=\"float: left;\">\n",
              " <div><h2><a href=\"https://www.rottentomatoes.com/m/john_wick_chapter_2\">John Wick: Chapter 2</a> <span class=\"subtle start-year\">(2017)</span> <span class=\"icon tiny certified\" title=\"Certified Fresh\"></span> <span class=\"tMeterScore\">89%</span></h2></div>\n",
              " </div>, <div class=\"article_movie_title\" style=\"float: left;\">\n",
              " <div><h2><a href=\"https://www.rottentomatoes.com/m/casino_royale\">Casino Royale</a> <span class=\"subtle start-year\">(2006)</span> <span class=\"icon tiny certified\" title=\"Certified Fresh\"></span> <span class=\"tMeterScore\">94%</span></h2></div>\n",
              " </div>, <div class=\"article_movie_title\" style=\"float: left;\">\n",
              " <div><h2><a href=\"https://www.rottentomatoes.com/m/baby_driver\">Baby Driver</a> <span class=\"subtle start-year\">(2017)</span> <span class=\"icon tiny certified\" title=\"Certified Fresh\"></span> <span class=\"tMeterScore\">92%</span></h2></div>\n",
              " </div>, <div class=\"article_movie_title\" style=\"float: left;\">\n",
              " <div><h2><a href=\"https://www.rottentomatoes.com/m/fist_of_legend\">Fist of Legend</a> <span class=\"subtle start-year\">(1994)</span> <span class=\"icon tiny fresh\" title=\"Fresh\"></span> <span class=\"tMeterScore\">100%</span></h2></div>\n",
              " </div>, <div class=\"article_movie_title\" style=\"float: left;\">\n",
              " <div><h2><a href=\"https://www.rottentomatoes.com/m/1032434-killer\">The Killer</a> <span class=\"subtle start-year\">(1989)</span> <span class=\"icon tiny certified\" title=\"Certified Fresh\"></span> <span class=\"tMeterScore\">98%</span></h2></div>\n",
              " </div>, <div class=\"article_movie_title\" style=\"float: left;\">\n",
              " <div><h2><a href=\"https://www.rottentomatoes.com/m/the_raid_2\">The Raid 2</a> <span class=\"subtle start-year\">(2014)</span> <span class=\"icon tiny certified\" title=\"Certified Fresh\"></span> <span class=\"tMeterScore\">82%</span></h2></div>\n",
              " </div>, <div class=\"article_movie_title\" style=\"float: left;\">\n",
              " <div><h2><a href=\"https://www.rottentomatoes.com/m/enter_the_dragon\">Enter the Dragon</a> <span class=\"subtle start-year\">(1973)</span> <span class=\"icon tiny certified\" title=\"Certified Fresh\"></span> <span class=\"tMeterScore\">95%</span></h2></div>\n",
              " </div>, <div class=\"article_movie_title\" style=\"float: left;\">\n",
              " <div><h2><a href=\"https://www.rottentomatoes.com/m/1004567-commando\">Commando</a> <span class=\"subtle start-year\">(1985)</span> <span class=\"icon tiny fresh\" title=\"Fresh\"></span> <span class=\"tMeterScore\">69%</span></h2></div>\n",
              " </div>, <div class=\"article_movie_title\" style=\"float: left;\">\n",
              " <div><h2><a href=\"https://www.rottentomatoes.com/m/first_blood\">First Blood</a> <span class=\"subtle start-year\">(1982)</span> <span class=\"icon tiny certified\" title=\"Certified Fresh\"></span> <span class=\"tMeterScore\">85%</span></h2></div>\n",
              " </div>, <div class=\"article_movie_title\" style=\"float: left;\">\n",
              " <div><h2><a href=\"https://www.rottentomatoes.com/m/mission_impossible_rogue_nation\">Mission: Impossible Rogue Nation</a> <span class=\"subtle start-year\">(2015)</span> <span class=\"icon tiny certified\" title=\"Certified Fresh\"></span> <span class=\"tMeterScore\">94%</span></h2></div>\n",
              " </div>, <div class=\"article_movie_title\" style=\"float: left;\">\n",
              " <div><h2><a href=\"https://www.rottentomatoes.com/m/terminator\">The Terminator</a> <span class=\"subtle start-year\">(1984)</span> <span class=\"icon tiny certified\" title=\"Certified Fresh\"></span> <span class=\"tMeterScore\">100%</span></h2></div>\n",
              " </div>, <div class=\"article_movie_title\" style=\"float: left;\">\n",
              " <div><h2><a href=\"https://www.rottentomatoes.com/m/gladiator\">Gladiator</a> <span class=\"subtle start-year\">(2000)</span> <span class=\"icon tiny certified\" title=\"Certified Fresh\"></span> <span class=\"tMeterScore\">77%</span></h2></div>\n",
              " </div>, <div class=\"article_movie_title\" style=\"float: left;\">\n",
              " <div><h2><a href=\"https://www.rottentomatoes.com/m/kill_bill_vol_1\">Kill Bill: Vol. 1</a> <span class=\"subtle start-year\">(2003)</span> <span class=\"icon tiny certified\" title=\"Certified Fresh\"></span> <span class=\"tMeterScore\">85%</span></h2></div>\n",
              " </div>, <div class=\"article_movie_title\" style=\"float: left;\">\n",
              " <div><h2><a href=\"https://www.rottentomatoes.com/m/leon_the_professional\">The Professional</a> <span class=\"subtle start-year\">(1994)</span> <span class=\"icon tiny certified\" title=\"Certified Fresh\"></span> <span class=\"tMeterScore\">74%</span></h2></div>\n",
              " </div>, <div class=\"article_movie_title\" style=\"float: left;\">\n",
              " <div><h2><a href=\"https://www.rottentomatoes.com/m/speed_1994\">Speed</a> <span class=\"subtle start-year\">(1994)</span> <span class=\"icon tiny certified\" title=\"Certified Fresh\"></span> <span class=\"tMeterScore\">94%</span></h2></div>\n",
              " </div>, <div class=\"article_movie_title\" style=\"float: left;\">\n",
              " <div><h2><a href=\"https://www.rottentomatoes.com/m/legend_of_drunken_master\">Drunken Master II</a> <span class=\"subtle start-year\">(1994)</span> <span class=\"icon tiny certified\" title=\"Certified Fresh\"></span> <span class=\"tMeterScore\">84%</span></h2></div>\n",
              " </div>, <div class=\"article_movie_title\" style=\"float: left;\">\n",
              " <div><h2><a href=\"https://www.rottentomatoes.com/m/john_wick\">John Wick</a> <span class=\"subtle start-year\">(2014)</span> <span class=\"icon tiny certified\" title=\"Certified Fresh\"></span> <span class=\"tMeterScore\">86%</span></h2></div>\n",
              " </div>, <div class=\"article_movie_title\" style=\"float: left;\">\n",
              " <div><h2><a href=\"https://www.rottentomatoes.com/m/crouching_tiger_hidden_dragon\">Crouching Tiger, Hidden Dragon</a> <span class=\"subtle start-year\">(2000)</span> <span class=\"icon tiny certified\" title=\"Certified Fresh\"></span> <span class=\"tMeterScore\">97%</span></h2></div>\n",
              " </div>, <div class=\"article_movie_title\" style=\"float: left;\">\n",
              " <div><h2><a href=\"https://www.rottentomatoes.com/m/predator\">Predator</a> <span class=\"subtle start-year\">(1987)</span> <span class=\"icon tiny certified\" title=\"Certified Fresh\"></span> <span class=\"tMeterScore\">82%</span></h2></div>\n",
              " </div>, <div class=\"article_movie_title\" style=\"float: left;\">\n",
              " <div><h2><a href=\"https://www.rottentomatoes.com/m/bourne_ultimatum\">The Bourne Ultimatum</a> <span class=\"subtle start-year\">(2007)</span> <span class=\"icon tiny certified\" title=\"Certified Fresh\"></span> <span class=\"tMeterScore\">92%</span></h2></div>\n",
              " </div>, <div class=\"article_movie_title\" style=\"float: left;\">\n",
              " <div><h2><a href=\"https://www.rottentomatoes.com/m/total_recall\">Total Recall</a> <span class=\"subtle start-year\">(1990)</span> <span class=\"icon tiny certified\" title=\"Certified Fresh\"></span> <span class=\"tMeterScore\">82%</span></h2></div>\n",
              " </div>, <div class=\"article_movie_title\" style=\"float: left;\">\n",
              " <div><h2><a href=\"https://www.rottentomatoes.com/m/mad_max_2_the_road_warrior\">Mad Max 2</a> <span class=\"subtle start-year\">(1981)</span> <span class=\"icon tiny certified\" title=\"Certified Fresh\"></span> <span class=\"tMeterScore\">94%</span></h2></div>\n",
              " </div>, <div class=\"article_movie_title\" style=\"float: left;\">\n",
              " <div><h2><a href=\"https://www.rottentomatoes.com/m/heat_1995\">Heat</a> <span class=\"subtle start-year\">(1995)</span> <span class=\"icon tiny certified\" title=\"Certified Fresh\"></span> <span class=\"tMeterScore\">87%</span></h2></div>\n",
              " </div>, <div class=\"article_movie_title\" style=\"float: left;\">\n",
              " <div><h2><a href=\"https://www.rottentomatoes.com/m/the_raid_redemption\">The Raid: Redemption</a> <span class=\"subtle start-year\">(2011)</span> <span class=\"icon tiny certified\" title=\"Certified Fresh\"></span> <span class=\"tMeterScore\">87%</span></h2></div>\n",
              " </div>, <div class=\"article_movie_title\" style=\"float: left;\">\n",
              " <div><h2><a href=\"https://www.rottentomatoes.com/m/mission_impossible_fallout\">Mission: Impossible -- Fallout</a> <span class=\"subtle start-year\">(2018)</span> <span class=\"icon tiny certified\" title=\"Certified Fresh\"></span> <span class=\"tMeterScore\">97%</span></h2></div>\n",
              " </div>, <div class=\"article_movie_title\" style=\"float: left;\">\n",
              " <div><h2><a href=\"https://www.rottentomatoes.com/m/raiders_of_the_lost_ark\">Raiders of the Lost Ark</a> <span class=\"subtle start-year\">(1981)</span> <span class=\"icon tiny certified\" title=\"Certified Fresh\"></span> <span class=\"tMeterScore\">95%</span></h2></div>\n",
              " </div>, <div class=\"article_movie_title\" style=\"float: left;\">\n",
              " <div><h2><a href=\"https://www.rottentomatoes.com/m/1000617-aliens\">Aliens</a> <span class=\"subtle start-year\">(1986)</span> <span class=\"icon tiny certified\" title=\"Certified Fresh\"></span> <span class=\"tMeterScore\">97%</span></h2></div>\n",
              " </div>, <div class=\"article_movie_title\" style=\"float: left;\">\n",
              " <div><h2><a href=\"https://www.rottentomatoes.com/m/hard_boiled\">Hard-Boiled</a> <span class=\"subtle start-year\">(1992)</span> <span class=\"icon tiny fresh\" title=\"Fresh\"></span> <span class=\"tMeterScore\">94%</span></h2></div>\n",
              " </div>, <div class=\"article_movie_title\" style=\"float: left;\">\n",
              " <div><h2><a href=\"https://www.rottentomatoes.com/m/matrix\">The Matrix</a> <span class=\"subtle start-year\">(1999)</span> <span class=\"icon tiny certified\" title=\"Certified Fresh\"></span> <span class=\"tMeterScore\">88%</span></h2></div>\n",
              " </div>, <div class=\"article_movie_title\" style=\"float: left;\">\n",
              " <div><h2><a href=\"https://www.rottentomatoes.com/m/terminator_2_judgment_day\">Terminator 2: Judgment Day</a> <span class=\"subtle start-year\">(1991)</span> <span class=\"icon tiny certified\" title=\"Certified Fresh\"></span> <span class=\"tMeterScore\">93%</span></h2></div>\n",
              " </div>, <div class=\"article_movie_title\" style=\"float: left;\">\n",
              " <div><h2><a href=\"https://www.rottentomatoes.com/m/die_hard\">Die Hard</a> <span class=\"subtle start-year\">(1988)</span> <span class=\"icon tiny certified\" title=\"Certified Fresh\"></span> <span class=\"tMeterScore\">94%</span></h2></div>\n",
              " </div>, <div class=\"article_movie_title\" style=\"float: left;\">\n",
              " <div><h2><a href=\"https://www.rottentomatoes.com/m/mad_max_fury_road\">Mad Max: Fury Road</a> <span class=\"subtle start-year\">(2015)</span> <span class=\"icon tiny certified\" title=\"Certified Fresh\"></span> <span class=\"tMeterScore\">97%</span></h2></div>\n",
              " </div>]"
            ]
          },
          "metadata": {},
          "execution_count": 72
        }
      ]
    },
    {
      "cell_type": "markdown",
      "metadata": {
        "id": "i1TWLkhrhE2s"
      },
      "source": [
        "**1. Create list of heading which contains (title, year, score)**"
      ]
    },
    {
      "cell_type": "code",
      "metadata": {
        "colab": {
          "base_uri": "https://localhost:8080/"
        },
        "id": "rW4AIWqjjj-t",
        "outputId": "dcc1dd3d-0953-423c-8988-c5cf30045533"
      },
      "source": [
        "headings = [div.find('h2') for div in div_titles]\n",
        "headings"
      ],
      "execution_count": null,
      "outputs": [
        {
          "output_type": "execute_result",
          "data": {
            "text/plain": [
              "[<h2><a href=\"https://www.rottentomatoes.com/m/1018009-running_scared\">Running Scared</a> <span class=\"subtle start-year\">(1986)</span> <span class=\"icon tiny rotten\" title=\"Rotten\"></span> <span class=\"tMeterScore\">57%</span></h2>,\n",
              " <h2><a href=\"https://www.rottentomatoes.com/m/equilibrium\">Equilibrium</a> <span class=\"subtle start-year\">(2002)</span> <span class=\"icon tiny rotten\" title=\"Rotten\"></span> <span class=\"tMeterScore\">41%</span></h2>,\n",
              " <h2><a href=\"https://www.rottentomatoes.com/m/hero\">Hero</a> <span class=\"subtle start-year\">(2002)</span> <span class=\"icon tiny certified\" title=\"Certified Fresh\"></span> <span class=\"tMeterScore\">94%</span></h2>,\n",
              " <h2><a href=\"https://www.rottentomatoes.com/m/1017666-road_house\">Road House</a> <span class=\"subtle start-year\">(1989)</span> <span class=\"icon tiny rotten\" title=\"Rotten\"></span> <span class=\"tMeterScore\">40%</span></h2>,\n",
              " <h2><a href=\"https://www.rottentomatoes.com/m/unstoppable-2010\">Unstoppable</a> <span class=\"subtle start-year\">(2010)</span> <span class=\"icon tiny certified\" title=\"Certified Fresh\"></span> <span class=\"tMeterScore\">87%</span></h2>,\n",
              " <h2><a href=\"https://www.rottentomatoes.com/m/1018699-shaft\">Shaft</a> <span class=\"subtle start-year\">(1971)</span> <span class=\"icon tiny certified\" title=\"Certified Fresh\"></span> <span class=\"tMeterScore\">88%</span></h2>,\n",
              " <h2><a href=\"https://www.rottentomatoes.com/m/the_villainess\">The Villainess</a> <span class=\"subtle start-year\">(2017)</span> <span class=\"icon tiny certified\" title=\"Certified Fresh\"></span> <span class=\"tMeterScore\">85%</span></h2>,\n",
              " <h2><a href=\"https://www.rottentomatoes.com/m/highlander\">Highlander</a> <span class=\"subtle start-year\">(1986)</span> <span class=\"icon tiny fresh\" title=\"Fresh\"></span> <span class=\"tMeterScore\">70%</span></h2>,\n",
              " <h2><a href=\"https://www.rottentomatoes.com/m/die_hard_2_1990\">Die Hard 2</a> <span class=\"subtle start-year\">(1990)</span> <span class=\"icon tiny fresh\" title=\"Fresh\"></span> <span class=\"tMeterScore\">69%</span></h2>,\n",
              " <h2><a href=\"https://www.rottentomatoes.com/m/national_treasure\">National Treasure</a> <span class=\"subtle start-year\">(2004)</span> <span class=\"icon tiny rotten\" title=\"Rotten\"></span> <span class=\"tMeterScore\">46%</span></h2>,\n",
              " <h2><a href=\"https://www.rottentomatoes.com/m/protector\">The Protector</a> <span class=\"subtle start-year\">(2005)</span> <span class=\"icon tiny rotten\" title=\"Rotten\"></span> <span class=\"tMeterScore\">53%</span></h2>,\n",
              " <h2><a href=\"https://www.rottentomatoes.com/m/revenge_2018\">Revenge</a> <span class=\"subtle start-year\">(2017)</span> <span class=\"icon tiny certified\" title=\"Certified Fresh\"></span> <span class=\"tMeterScore\">93%</span></h2>,\n",
              " <h2><a href=\"https://www.rottentomatoes.com/m/el_mariachi\">El Mariachi</a> <span class=\"subtle start-year\">(1992)</span> <span class=\"icon tiny certified\" title=\"Certified Fresh\"></span> <span class=\"tMeterScore\">91%</span></h2>,\n",
              " <h2><a href=\"https://www.rottentomatoes.com/m/touch_of_zen\">A Touch of Zen</a> <span class=\"subtle start-year\">(1971)</span> <span class=\"icon tiny fresh\" title=\"Fresh\"></span> <span class=\"tMeterScore\">97%</span></h2>,\n",
              " <h2><a href=\"https://www.rottentomatoes.com/m/top_gun\">Top Gun</a> <span class=\"subtle start-year\">(1986)</span> <span class=\"icon tiny rotten\" title=\"Rotten\"></span> <span class=\"tMeterScore\">58%</span></h2>,\n",
              " <h2><a href=\"https://www.rottentomatoes.com/m/con_air\">Con Air</a> <span class=\"subtle start-year\">(1997)</span> <span class=\"icon tiny rotten\" title=\"Rotten\"></span> <span class=\"tMeterScore\">56%</span></h2>,\n",
              " <h2><a href=\"https://www.rottentomatoes.com/m/the_expendables_2\">The Expendables 2</a> <span class=\"subtle start-year\">(2012)</span> <span class=\"icon tiny fresh\" title=\"Fresh\"></span> <span class=\"tMeterScore\">67%</span></h2>,\n",
              " <h2><a href=\"https://www.rottentomatoes.com/m/1087270-mummy\">The Mummy</a> <span class=\"subtle start-year\">(1999)</span> <span class=\"icon tiny fresh\" title=\"Fresh\"></span> <span class=\"tMeterScore\">61%</span></h2>,\n",
              " <h2><a href=\"https:\"></a> <span class=\"subtle start-year\">()</span> <span class=\"tMeterScore\"></span></h2>,\n",
              " <h2><a href=\"https://www.rottentomatoes.com/m/rush_hour\">Rush Hour</a> <span class=\"subtle start-year\">(1998)</span> <span class=\"icon tiny fresh\" title=\"Fresh\"></span> <span class=\"tMeterScore\">61%</span></h2>,\n",
              " <h2><a href=\"https://www.rottentomatoes.com/m/the_equalizer_2013\">The Equalizer</a> <span class=\"subtle start-year\">(2014)</span> <span class=\"icon tiny fresh\" title=\"Fresh\"></span> <span class=\"tMeterScore\">60%</span></h2>,\n",
              " <h2><a href=\"https://www.rottentomatoes.com/m/captain_america_civil_war\">Captain America: Civil War</a> <span class=\"subtle start-year\">(2016)</span> <span class=\"icon tiny certified\" title=\"Certified Fresh\"></span> <span class=\"tMeterScore\">90%</span></h2>,\n",
              " <h2><a href=\"https://www.rottentomatoes.com/m/air_force_one\">Air Force One</a> <span class=\"subtle start-year\">(1997)</span> <span class=\"icon tiny certified\" title=\"Certified Fresh\"></span> <span class=\"tMeterScore\">78%</span></h2>,\n",
              " <h2><a href=\"https://www.rottentomatoes.com/m/bloodsport\">Bloodsport</a> <span class=\"subtle start-year\">(1988)</span> <span class=\"icon tiny rotten\" title=\"Rotten\"></span> <span class=\"tMeterScore\">40%</span></h2>,\n",
              " <h2><a href=\"https://www.rottentomatoes.com/m/1083484-blade\">Blade</a> <span class=\"subtle start-year\">(1998)</span> <span class=\"icon tiny rotten\" title=\"Rotten\"></span> <span class=\"tMeterScore\">57%</span></h2>,\n",
              " <h2><a href=\"https://www.rottentomatoes.com/m/1062483-bad_boys\">Bad Boys</a> <span class=\"subtle start-year\">(1995)</span> <span class=\"icon tiny rotten\" title=\"Rotten\"></span> <span class=\"tMeterScore\">42%</span></h2>,\n",
              " <h2><a href=\"https://www.rottentomatoes.com/m/die_hard_with_a_vengeance\">Die Hard With a Vengeance</a> <span class=\"subtle start-year\">(1995)</span> <span class=\"icon tiny fresh\" title=\"Fresh\"></span> <span class=\"tMeterScore\">60%</span></h2>,\n",
              " <h2><a href=\"https://www.rottentomatoes.com/m/running_man\">The Running Man</a> <span class=\"subtle start-year\">(1987)</span> <span class=\"icon tiny fresh\" title=\"Fresh\"></span> <span class=\"tMeterScore\">66%</span></h2>,\n",
              " <h2><a href=\"https://www.rottentomatoes.com/m/code_of_silence\">Code of Silence</a> <span class=\"subtle start-year\">(1985)</span> <span class=\"icon tiny fresh\" title=\"Fresh\"></span> <span class=\"tMeterScore\">70%</span></h2>,\n",
              " <h2><a href=\"https://www.rottentomatoes.com/m/shoot_em_up\">Shoot 'Em Up</a> <span class=\"subtle start-year\">(2007)</span> <span class=\"icon tiny fresh\" title=\"Fresh\"></span> <span class=\"tMeterScore\">67%</span></h2>,\n",
              " <h2><a href=\"https://www.rottentomatoes.com/m/crank\">Crank</a> <span class=\"subtle start-year\">(2006)</span> <span class=\"icon tiny fresh\" title=\"Fresh\"></span> <span class=\"tMeterScore\">61%</span></h2>,\n",
              " <h2><a href=\"https://www.rottentomatoes.com/m/machete\">Machete</a> <span class=\"subtle start-year\">(2010)</span> <span class=\"icon tiny certified\" title=\"Certified Fresh\"></span> <span class=\"tMeterScore\">72%</span></h2>,\n",
              " <h2><a href=\"https://www.rottentomatoes.com/m/drive_2011\">Drive</a> <span class=\"subtle start-year\">(2011)</span> <span class=\"icon tiny certified\" title=\"Certified Fresh\"></span> <span class=\"tMeterScore\">93%</span></h2>,\n",
              " <h2><a href=\"https://www.rottentomatoes.com/m/1001781-batman\">Batman</a> <span class=\"subtle start-year\">(1989)</span> <span class=\"icon tiny fresh\" title=\"Fresh\"></span> <span class=\"tMeterScore\">71%</span></h2>,\n",
              " <h2><a href=\"https://www.rottentomatoes.com/m/under_siege\">Under Siege</a> <span class=\"subtle start-year\">(1992)</span> <span class=\"icon tiny fresh\" title=\"Fresh\"></span> <span class=\"tMeterScore\">79%</span></h2>,\n",
              " <h2><a href=\"https://www.rottentomatoes.com/m/1071806-independence_day\">Independence Day</a> <span class=\"subtle start-year\">(1996)</span> <span class=\"icon tiny fresh\" title=\"Fresh\"></span> <span class=\"tMeterScore\">68%</span></h2>,\n",
              " <h2><a href=\"https://www.rottentomatoes.com/m/bullitt\">Bullitt</a> <span class=\"subtle start-year\">(1968)</span> <span class=\"icon tiny certified\" title=\"Certified Fresh\"></span> <span class=\"tMeterScore\">98%</span></h2>,\n",
              " <h2><a href=\"https://www.rottentomatoes.com/m/1174279-wanted\">Wanted</a> <span class=\"subtle start-year\">(2008)</span> <span class=\"icon tiny certified\" title=\"Certified Fresh\"></span> <span class=\"tMeterScore\">71%</span></h2>,\n",
              " <h2><a href=\"https://www.rottentomatoes.com/m/superman_the_movie\">Superman: The Movie</a> <span class=\"subtle start-year\">(1978)</span> <span class=\"icon tiny certified\" title=\"Certified Fresh\"></span> <span class=\"tMeterScore\">94%</span></h2>,\n",
              " <h2><a href=\"https://www.rottentomatoes.com/m/ronin\">Ronin</a> <span class=\"subtle start-year\">(1998)</span> <span class=\"icon tiny fresh\" title=\"Fresh\"></span> <span class=\"tMeterScore\">68%</span></h2>,\n",
              " <h2><a href=\"https://www.rottentomatoes.com/m/they_live\">They Live</a> <span class=\"subtle start-year\">(1988)</span> <span class=\"icon tiny certified\" title=\"Certified Fresh\"></span> <span class=\"tMeterScore\">85%</span></h2>,\n",
              " <h2><a href=\"https://www.rottentomatoes.com/m/1044214-cliffhanger\">Cliffhanger</a> <span class=\"subtle start-year\">(1993)</span> <span class=\"icon tiny fresh\" title=\"Fresh\"></span> <span class=\"tMeterScore\">67%</span></h2>,\n",
              " <h2><a href=\"https://www.rottentomatoes.com/m/marvels_the_avengers\">Marvel's the Avengers</a> <span class=\"subtle start-year\">(2012)</span> <span class=\"icon tiny certified\" title=\"Certified Fresh\"></span> <span class=\"tMeterScore\">91%</span></h2>,\n",
              " <h2><a href=\"https://www.rottentomatoes.com/m/hot_fuzz\">Hot Fuzz</a> <span class=\"subtle start-year\">(2007)</span> <span class=\"icon tiny certified\" title=\"Certified Fresh\"></span> <span class=\"tMeterScore\">91%</span></h2>,\n",
              " <h2><a href=\"https://www.rottentomatoes.com/m/1023205-warriors\">The Warriors</a> <span class=\"subtle start-year\">(1979)</span> <span class=\"icon tiny certified\" title=\"Certified Fresh\"></span> <span class=\"tMeterScore\">87%</span></h2>,\n",
              " <h2><a href=\"https://www.rottentomatoes.com/m/starship_troopers\">Starship Troopers</a> <span class=\"subtle start-year\">(1997)</span> <span class=\"icon tiny fresh\" title=\"Fresh\"></span> <span class=\"tMeterScore\">66%</span></h2>,\n",
              " <h2><a href=\"https://www.rottentomatoes.com/m/elite_squad_the_enemy_within\">Elite Squad 2</a> <span class=\"subtle start-year\">(2010)</span> <span class=\"icon tiny certified\" title=\"Certified Fresh\"></span> <span class=\"tMeterScore\">91%</span></h2>,\n",
              " <h2><a href=\"https://www.rottentomatoes.com/m/point_break\">Point Break</a> <span class=\"subtle start-year\">(1991)</span> <span class=\"icon tiny fresh\" title=\"Fresh\"></span> <span class=\"tMeterScore\">69%</span></h2>,\n",
              " <h2><a href=\"https://www.rottentomatoes.com/m/long_kiss_goodnight\">The Long Kiss Goodnight</a> <span class=\"subtle start-year\">(1996)</span> <span class=\"icon tiny fresh\" title=\"Fresh\"></span> <span class=\"tMeterScore\">70%</span></h2>,\n",
              " <h2><a href=\"https://www.rottentomatoes.com/m/the_guest_2014\">The Guest</a> <span class=\"subtle start-year\">(2014)</span> <span class=\"icon tiny certified\" title=\"Certified Fresh\"></span> <span class=\"tMeterScore\">92%</span></h2>,\n",
              " <h2><a href=\"https://www.rottentomatoes.com/m/taken\">Taken</a> <span class=\"subtle start-year\">(2008)</span> <span class=\"icon tiny rotten\" title=\"Rotten\"></span> <span class=\"tMeterScore\">59%</span></h2>,\n",
              " <h2><a href=\"https://www.rottentomatoes.com/m/300\">300</a> <span class=\"subtle start-year\">(2006)</span> <span class=\"icon tiny fresh\" title=\"Fresh\"></span> <span class=\"tMeterScore\">61%</span></h2>,\n",
              " <h2><a href=\"https://www.rottentomatoes.com/m/true_lies\">True Lies</a> <span class=\"subtle start-year\">(1994)</span> <span class=\"icon tiny fresh\" title=\"Fresh\"></span> <span class=\"tMeterScore\">71%</span></h2>,\n",
              " <h2><a href=\"https://www.rottentomatoes.com/m/demolition_man\">Demolition Man</a> <span class=\"subtle start-year\">(1993)</span> <span class=\"icon tiny fresh\" title=\"Fresh\"></span> <span class=\"tMeterScore\">60%</span></h2>,\n",
              " <h2><a href=\"https://www.rottentomatoes.com/m/hardcore_henry\">Hardcore Henry</a> <span class=\"subtle start-year\">(2015)</span> <span class=\"icon tiny rotten\" title=\"Rotten\"></span> <span class=\"tMeterScore\">51%</span></h2>,\n",
              " <h2><a href=\"https://www.rottentomatoes.com/m/police_story\">Police Story</a> <span class=\"subtle start-year\">(1985)</span> <span class=\"icon tiny fresh\" title=\"Fresh\"></span> <span class=\"tMeterScore\">93%</span></h2>,\n",
              " <h2><a href=\"https://www.rottentomatoes.com/m/brotherhood_of_the_wolf\">Brotherhood of the Wolf</a> <span class=\"subtle start-year\">(2001)</span> <span class=\"icon tiny fresh\" title=\"Fresh\"></span> <span class=\"tMeterScore\">73%</span></h2>,\n",
              " <h2><a href=\"https://www.rottentomatoes.com/m/kingsman_the_secret_service\">Kingsman: The Secret Service</a> <span class=\"subtle start-year\">(2014)</span> <span class=\"icon tiny certified\" title=\"Certified Fresh\"></span> <span class=\"tMeterScore\">75%</span></h2>,\n",
              " <h2><a href=\"https://www.rottentomatoes.com/m/fifth_element\">The Fifth Element</a> <span class=\"subtle start-year\">(1997)</span> <span class=\"icon tiny fresh\" title=\"Fresh\"></span> <span class=\"tMeterScore\">71%</span></h2>,\n",
              " <h2><a href=\"https://www.rottentomatoes.com/m/big_trouble_in_little_china\">Big Trouble in Little China</a> <span class=\"subtle start-year\">(1986)</span> <span class=\"icon tiny certified\" title=\"Certified Fresh\"></span> <span class=\"tMeterScore\">74%</span></h2>,\n",
              " <h2><a href=\"https://www.rottentomatoes.com/m/atomic_blonde_2017\">Atomic Blonde</a> <span class=\"subtle start-year\">(2017)</span> <span class=\"icon tiny certified\" title=\"Certified Fresh\"></span> <span class=\"tMeterScore\">79%</span></h2>,\n",
              " <h2><a href=\"https://www.rottentomatoes.com/m/rumble_in_the_bronx\">Rumble in the Bronx</a> <span class=\"subtle start-year\">(1995)</span> <span class=\"icon tiny certified\" title=\"Certified Fresh\"></span> <span class=\"tMeterScore\">80%</span></h2>,\n",
              " <h2><a href=\"https://www.rottentomatoes.com/m/district_b13\">District B13</a> <span class=\"subtle start-year\">(2004)</span> <span class=\"icon tiny certified\" title=\"Certified Fresh\"></span> <span class=\"tMeterScore\">80%</span></h2>,\n",
              " <h2><a href=\"https://www.rottentomatoes.com/m/beverly_hills_cop\">Beverly Hills Cop</a> <span class=\"subtle start-year\">(1984)</span> <span class=\"icon tiny certified\" title=\"Certified Fresh\"></span> <span class=\"tMeterScore\">83%</span></h2>,\n",
              " <h2><a href=\"https://www.rottentomatoes.com/m/ongbak\">Ong-Bak: The Thai Warrior</a> <span class=\"subtle start-year\">(2003)</span> <span class=\"icon tiny certified\" title=\"Certified Fresh\"></span> <span class=\"tMeterScore\">85%</span></h2>,\n",
              " <h2><a href=\"https://www.rottentomatoes.com/m/collateral\">Collateral</a> <span class=\"subtle start-year\">(2004)</span> <span class=\"icon tiny certified\" title=\"Certified Fresh\"></span> <span class=\"tMeterScore\">86%</span></h2>,\n",
              " <h2><a href=\"https://www.rottentomatoes.com/m/1075984-iron_monkey\">Iron Monkey</a> <span class=\"subtle start-year\">(1993)</span> <span class=\"icon tiny certified\" title=\"Certified Fresh\"></span> <span class=\"tMeterScore\">91%</span></h2>,\n",
              " <h2><a href=\"https://www.rottentomatoes.com/m/1006717-escape_from_new_york\">Escape From New York</a> <span class=\"subtle start-year\">(1981)</span> <span class=\"icon tiny certified\" title=\"Certified Fresh\"></span> <span class=\"tMeterScore\">86%</span></h2>,\n",
              " <h2><a href=\"https://www.rottentomatoes.com/m/battle_royale\">Battle Royale</a> <span class=\"subtle start-year\">(2000)</span> <span class=\"icon tiny certified\" title=\"Certified Fresh\"></span> <span class=\"tMeterScore\">88%</span></h2>,\n",
              " <h2><a href=\"https://www.rottentomatoes.com/m/spiderman_2\">Spider-Man 2</a> <span class=\"subtle start-year\">(2004)</span> <span class=\"icon tiny certified\" title=\"Certified Fresh\"></span> <span class=\"tMeterScore\">93%</span></h2>,\n",
              " <h2><a href=\"https://www.rottentomatoes.com/m/13_assassins_2011\">13 Assassins</a> <span class=\"subtle start-year\">(2010)</span> <span class=\"icon tiny certified\" title=\"Certified Fresh\"></span> <span class=\"tMeterScore\">95%</span></h2>,\n",
              " <h2><a href=\"https://www.rottentomatoes.com/m/full_contact\">Full Contact</a> <span class=\"subtle start-year\">(1992)</span> <span class=\"icon tiny fresh\" title=\"Fresh\"></span> <span class=\"tMeterScore\">88%</span></h2>,\n",
              " <h2><a href=\"https://www.rottentomatoes.com/m/indiana_jones_and_the_last_crusade\">Indiana Jones and the Last Crusade</a> <span class=\"subtle start-year\">(1989)</span> <span class=\"icon tiny certified\" title=\"Certified Fresh\"></span> <span class=\"tMeterScore\">88%</span></h2>,\n",
              " <h2><a href=\"https://www.rottentomatoes.com/m/kung_fu_hustle\">Kung Fu Hustle</a> <span class=\"subtle start-year\">(2004)</span> <span class=\"icon tiny certified\" title=\"Certified Fresh\"></span> <span class=\"tMeterScore\">91%</span></h2>,\n",
              " <h2><a href=\"https://www.rottentomatoes.com/m/better_tomorrow\">A Better Tomorrow</a> <span class=\"subtle start-year\">(1986)</span> <span class=\"icon tiny fresh\" title=\"Fresh\"></span> <span class=\"tMeterScore\">93%</span></h2>,\n",
              " <h2><a href=\"https://www.rottentomatoes.com/m/iron_man\">Iron Man</a> <span class=\"subtle start-year\">(2008)</span> <span class=\"icon tiny certified\" title=\"Certified Fresh\"></span> <span class=\"tMeterScore\">94%</span></h2>,\n",
              " <h2><a href=\"https://www.rottentomatoes.com/m/the_night_comes_for_us\">The Night Comes for Us</a> <span class=\"subtle start-year\">(2018)</span> <span class=\"icon tiny fresh\" title=\"Fresh\"></span> <span class=\"tMeterScore\">91%</span></h2>,\n",
              " <h2><a href=\"https://www.rottentomatoes.com/m/logan_2017\">Logan</a> <span class=\"subtle start-year\">(2017)</span> <span class=\"icon tiny certified\" title=\"Certified Fresh\"></span> <span class=\"tMeterScore\">94%</span></h2>,\n",
              " <h2><a href=\"https://www.rottentomatoes.com/m/goldfinger\">Goldfinger</a> <span class=\"subtle start-year\">(1964)</span> <span class=\"icon tiny certified\" title=\"Certified Fresh\"></span> <span class=\"tMeterScore\">99%</span></h2>,\n",
              " <h2><a href=\"https://www.rottentomatoes.com/m/1001280-assault_on_precinct_13\">Assault on Precinct 13</a> <span class=\"subtle start-year\">(1976)</span> <span class=\"icon tiny certified\" title=\"Certified Fresh\"></span> <span class=\"tMeterScore\">96%</span></h2>,\n",
              " <h2><a href=\"https://www.rottentomatoes.com/m/wonder_woman_2017\">Wonder Woman</a> <span class=\"subtle start-year\">(2017)</span> <span class=\"icon tiny certified\" title=\"Certified Fresh\"></span> <span class=\"tMeterScore\">93%</span></h2>,\n",
              " <h2><a href=\"https://www.rottentomatoes.com/m/chinese_connection\">The Chinese Connection</a> <span class=\"subtle start-year\">(1972)</span> <span class=\"icon tiny fresh\" title=\"Fresh\"></span> <span class=\"tMeterScore\">83%</span></h2>,\n",
              " <h2><a href=\"https://www.rottentomatoes.com/m/captain_america_the_winter_soldier_2014\">Captain America: The Winter Soldier</a> <span class=\"subtle start-year\">(2014)</span> <span class=\"icon tiny certified\" title=\"Certified Fresh\"></span> <span class=\"tMeterScore\">90%</span></h2>,\n",
              " <h2><a href=\"https://www.rottentomatoes.com/m/oldboy\">Oldboy</a> <span class=\"subtle start-year\">(2003)</span> <span class=\"icon tiny certified\" title=\"Certified Fresh\"></span> <span class=\"tMeterScore\">81%</span></h2>,\n",
              " <h2><a href=\"https://www.rottentomatoes.com/m/french_connection\">The French Connection</a> <span class=\"subtle start-year\">(1971)</span> <span class=\"icon tiny certified\" title=\"Certified Fresh\"></span> <span class=\"tMeterScore\">98%</span></h2>,\n",
              " <h2><a href=\"https://www.rottentomatoes.com/m/furious_7\">Furious 7</a> <span class=\"subtle start-year\">(2015)</span> <span class=\"icon tiny certified\" title=\"Certified Fresh\"></span> <span class=\"tMeterScore\">82%</span></h2>,\n",
              " <h2><a href=\"https://www.rottentomatoes.com/m/la_femme_nikita\">La Femme Nikita</a> <span class=\"subtle start-year\">(1990)</span> <span class=\"icon tiny certified\" title=\"Certified Fresh\"></span> <span class=\"tMeterScore\">89%</span></h2>,\n",
              " <h2><a href=\"https://www.rottentomatoes.com/m/supercop\">Supercop</a> <span class=\"subtle start-year\">(1992)</span> <span class=\"icon tiny certified\" title=\"Certified Fresh\"></span> <span class=\"tMeterScore\">96%</span></h2>,\n",
              " <h2><a href=\"https://www.rottentomatoes.com/m/dirty_harry\">Dirty Harry</a> <span class=\"subtle start-year\">(1971)</span> <span class=\"icon tiny certified\" title=\"Certified Fresh\"></span> <span class=\"tMeterScore\">87%</span></h2>,\n",
              " <h2><a href=\"https://www.rottentomatoes.com/m/live_die_repeat_edge_of_tomorrow\">Edge of Tomorrow</a> <span class=\"subtle start-year\">(2014)</span> <span class=\"icon tiny certified\" title=\"Certified Fresh\"></span> <span class=\"tMeterScore\">91%</span></h2>,\n",
              " <h2><a href=\"https://www.rottentomatoes.com/m/x2_xmen_united\">X2</a> <span class=\"subtle start-year\">(2003)</span> <span class=\"icon tiny certified\" title=\"Certified Fresh\"></span> <span class=\"tMeterScore\">85%</span></h2>,\n",
              " <h2><a href=\"https://www.rottentomatoes.com/m/1046129-fugitive\">The Fugitive</a> <span class=\"subtle start-year\">(1993)</span> <span class=\"icon tiny certified\" title=\"Certified Fresh\"></span> <span class=\"tMeterScore\">96%</span></h2>,\n",
              " <h2><a href=\"https://www.rottentomatoes.com/m/black_panther_2018\">Black Panther</a> <span class=\"subtle start-year\">(2018)</span> <span class=\"icon tiny certified\" title=\"Certified Fresh\"></span> <span class=\"tMeterScore\">96%</span></h2>,\n",
              " <h2><a href=\"https://www.rottentomatoes.com/m/inception\">Inception</a> <span class=\"subtle start-year\">(2010)</span> <span class=\"icon tiny certified\" title=\"Certified Fresh\"></span> <span class=\"tMeterScore\">87%</span></h2>,\n",
              " <h2><a href=\"https://www.rottentomatoes.com/m/1065684-braveheart\">Braveheart</a> <span class=\"subtle start-year\">(1995)</span> <span class=\"icon tiny certified\" title=\"Certified Fresh\"></span> <span class=\"tMeterScore\">79%</span></h2>,\n",
              " <h2><a href=\"https://www.rottentomatoes.com/m/minority_report\">Minority Report</a> <span class=\"subtle start-year\">(2002)</span> <span class=\"icon tiny certified\" title=\"Certified Fresh\"></span> <span class=\"tMeterScore\">90%</span></h2>,\n",
              " <h2><a href=\"https://www.rottentomatoes.com/m/avengers_endgame\">Avengers: Endgame</a> <span class=\"subtle start-year\">(2019)</span> <span class=\"icon tiny certified\" title=\"Certified Fresh\"></span> <span class=\"tMeterScore\">94%</span></h2>,\n",
              " <h2><a href=\"https://www.rottentomatoes.com/m/dredd\">Dredd</a> <span class=\"subtle start-year\">(2012)</span> <span class=\"icon tiny certified\" title=\"Certified Fresh\"></span> <span class=\"tMeterScore\">79%</span></h2>,\n",
              " <h2><a href=\"https://www.rottentomatoes.com/m/bourne_identity\">The Bourne Identity</a> <span class=\"subtle start-year\">(2002)</span> <span class=\"icon tiny certified\" title=\"Certified Fresh\"></span> <span class=\"tMeterScore\">83%</span></h2>,\n",
              " <h2><a href=\"https://www.rottentomatoes.com/m/ip_man\">Ip Man</a> <span class=\"subtle start-year\">(2008)</span> <span class=\"icon tiny fresh\" title=\"Fresh\"></span> <span class=\"tMeterScore\">86%</span></h2>,\n",
              " <h2><a href=\"https://www.rottentomatoes.com/m/faceoff\">Face/Off</a> <span class=\"subtle start-year\">(1997)</span> <span class=\"icon tiny certified\" title=\"Certified Fresh\"></span> <span class=\"tMeterScore\">92%</span></h2>,\n",
              " <h2><a href=\"https://www.rottentomatoes.com/m/to_live_and_die_in_la\">To Live and Die in L.A.</a> <span class=\"subtle start-year\">(1985)</span> <span class=\"icon tiny certified\" title=\"Certified Fresh\"></span> <span class=\"tMeterScore\">85%</span></h2>,\n",
              " <h2><a href=\"https://www.rottentomatoes.com/m/the_dark_knight\">The Dark Knight</a> <span class=\"subtle start-year\">(2008)</span> <span class=\"icon tiny certified\" title=\"Certified Fresh\"></span> <span class=\"tMeterScore\">94%</span></h2>,\n",
              " <h2><a href=\"https://www.rottentomatoes.com/m/mission_impossible_ghost_protocol\">Mission: Impossible -- Ghost Protocol</a> <span class=\"subtle start-year\">(2011)</span> <span class=\"icon tiny certified\" title=\"Certified Fresh\"></span> <span class=\"tMeterScore\">93%</span></h2>,\n",
              " <h2><a href=\"https://www.rottentomatoes.com/m/fast_five\">Fast Five</a> <span class=\"subtle start-year\">(2011)</span> <span class=\"icon tiny certified\" title=\"Certified Fresh\"></span> <span class=\"tMeterScore\">77%</span></h2>,\n",
              " <h2><a href=\"https://www.rottentomatoes.com/m/lethal_weapon\">Lethal Weapon</a> <span class=\"subtle start-year\">(1987)</span> <span class=\"icon tiny certified\" title=\"Certified Fresh\"></span> <span class=\"tMeterScore\">80%</span></h2>,\n",
              " <h2><a href=\"https://www.rottentomatoes.com/m/1072011-rock\">The Rock</a> <span class=\"subtle start-year\">(1996)</span> <span class=\"icon tiny fresh\" title=\"Fresh\"></span> <span class=\"tMeterScore\">68%</span></h2>,\n",
              " <h2><a href=\"https://www.rottentomatoes.com/m/1017712-robocop\">RoboCop</a> <span class=\"subtle start-year\">(1987)</span> <span class=\"icon tiny certified\" title=\"Certified Fresh\"></span> <span class=\"tMeterScore\">90%</span></h2>,\n",
              " <h2><a href=\"https://www.rottentomatoes.com/m/john_wick_chapter_2\">John Wick: Chapter 2</a> <span class=\"subtle start-year\">(2017)</span> <span class=\"icon tiny certified\" title=\"Certified Fresh\"></span> <span class=\"tMeterScore\">89%</span></h2>,\n",
              " <h2><a href=\"https://www.rottentomatoes.com/m/casino_royale\">Casino Royale</a> <span class=\"subtle start-year\">(2006)</span> <span class=\"icon tiny certified\" title=\"Certified Fresh\"></span> <span class=\"tMeterScore\">94%</span></h2>,\n",
              " <h2><a href=\"https://www.rottentomatoes.com/m/baby_driver\">Baby Driver</a> <span class=\"subtle start-year\">(2017)</span> <span class=\"icon tiny certified\" title=\"Certified Fresh\"></span> <span class=\"tMeterScore\">92%</span></h2>,\n",
              " <h2><a href=\"https://www.rottentomatoes.com/m/fist_of_legend\">Fist of Legend</a> <span class=\"subtle start-year\">(1994)</span> <span class=\"icon tiny fresh\" title=\"Fresh\"></span> <span class=\"tMeterScore\">100%</span></h2>,\n",
              " <h2><a href=\"https://www.rottentomatoes.com/m/1032434-killer\">The Killer</a> <span class=\"subtle start-year\">(1989)</span> <span class=\"icon tiny certified\" title=\"Certified Fresh\"></span> <span class=\"tMeterScore\">98%</span></h2>,\n",
              " <h2><a href=\"https://www.rottentomatoes.com/m/the_raid_2\">The Raid 2</a> <span class=\"subtle start-year\">(2014)</span> <span class=\"icon tiny certified\" title=\"Certified Fresh\"></span> <span class=\"tMeterScore\">82%</span></h2>,\n",
              " <h2><a href=\"https://www.rottentomatoes.com/m/enter_the_dragon\">Enter the Dragon</a> <span class=\"subtle start-year\">(1973)</span> <span class=\"icon tiny certified\" title=\"Certified Fresh\"></span> <span class=\"tMeterScore\">95%</span></h2>,\n",
              " <h2><a href=\"https://www.rottentomatoes.com/m/1004567-commando\">Commando</a> <span class=\"subtle start-year\">(1985)</span> <span class=\"icon tiny fresh\" title=\"Fresh\"></span> <span class=\"tMeterScore\">69%</span></h2>,\n",
              " <h2><a href=\"https://www.rottentomatoes.com/m/first_blood\">First Blood</a> <span class=\"subtle start-year\">(1982)</span> <span class=\"icon tiny certified\" title=\"Certified Fresh\"></span> <span class=\"tMeterScore\">85%</span></h2>,\n",
              " <h2><a href=\"https://www.rottentomatoes.com/m/mission_impossible_rogue_nation\">Mission: Impossible Rogue Nation</a> <span class=\"subtle start-year\">(2015)</span> <span class=\"icon tiny certified\" title=\"Certified Fresh\"></span> <span class=\"tMeterScore\">94%</span></h2>,\n",
              " <h2><a href=\"https://www.rottentomatoes.com/m/terminator\">The Terminator</a> <span class=\"subtle start-year\">(1984)</span> <span class=\"icon tiny certified\" title=\"Certified Fresh\"></span> <span class=\"tMeterScore\">100%</span></h2>,\n",
              " <h2><a href=\"https://www.rottentomatoes.com/m/gladiator\">Gladiator</a> <span class=\"subtle start-year\">(2000)</span> <span class=\"icon tiny certified\" title=\"Certified Fresh\"></span> <span class=\"tMeterScore\">77%</span></h2>,\n",
              " <h2><a href=\"https://www.rottentomatoes.com/m/kill_bill_vol_1\">Kill Bill: Vol. 1</a> <span class=\"subtle start-year\">(2003)</span> <span class=\"icon tiny certified\" title=\"Certified Fresh\"></span> <span class=\"tMeterScore\">85%</span></h2>,\n",
              " <h2><a href=\"https://www.rottentomatoes.com/m/leon_the_professional\">The Professional</a> <span class=\"subtle start-year\">(1994)</span> <span class=\"icon tiny certified\" title=\"Certified Fresh\"></span> <span class=\"tMeterScore\">74%</span></h2>,\n",
              " <h2><a href=\"https://www.rottentomatoes.com/m/speed_1994\">Speed</a> <span class=\"subtle start-year\">(1994)</span> <span class=\"icon tiny certified\" title=\"Certified Fresh\"></span> <span class=\"tMeterScore\">94%</span></h2>,\n",
              " <h2><a href=\"https://www.rottentomatoes.com/m/legend_of_drunken_master\">Drunken Master II</a> <span class=\"subtle start-year\">(1994)</span> <span class=\"icon tiny certified\" title=\"Certified Fresh\"></span> <span class=\"tMeterScore\">84%</span></h2>,\n",
              " <h2><a href=\"https://www.rottentomatoes.com/m/john_wick\">John Wick</a> <span class=\"subtle start-year\">(2014)</span> <span class=\"icon tiny certified\" title=\"Certified Fresh\"></span> <span class=\"tMeterScore\">86%</span></h2>,\n",
              " <h2><a href=\"https://www.rottentomatoes.com/m/crouching_tiger_hidden_dragon\">Crouching Tiger, Hidden Dragon</a> <span class=\"subtle start-year\">(2000)</span> <span class=\"icon tiny certified\" title=\"Certified Fresh\"></span> <span class=\"tMeterScore\">97%</span></h2>,\n",
              " <h2><a href=\"https://www.rottentomatoes.com/m/predator\">Predator</a> <span class=\"subtle start-year\">(1987)</span> <span class=\"icon tiny certified\" title=\"Certified Fresh\"></span> <span class=\"tMeterScore\">82%</span></h2>,\n",
              " <h2><a href=\"https://www.rottentomatoes.com/m/bourne_ultimatum\">The Bourne Ultimatum</a> <span class=\"subtle start-year\">(2007)</span> <span class=\"icon tiny certified\" title=\"Certified Fresh\"></span> <span class=\"tMeterScore\">92%</span></h2>,\n",
              " <h2><a href=\"https://www.rottentomatoes.com/m/total_recall\">Total Recall</a> <span class=\"subtle start-year\">(1990)</span> <span class=\"icon tiny certified\" title=\"Certified Fresh\"></span> <span class=\"tMeterScore\">82%</span></h2>,\n",
              " <h2><a href=\"https://www.rottentomatoes.com/m/mad_max_2_the_road_warrior\">Mad Max 2</a> <span class=\"subtle start-year\">(1981)</span> <span class=\"icon tiny certified\" title=\"Certified Fresh\"></span> <span class=\"tMeterScore\">94%</span></h2>,\n",
              " <h2><a href=\"https://www.rottentomatoes.com/m/heat_1995\">Heat</a> <span class=\"subtle start-year\">(1995)</span> <span class=\"icon tiny certified\" title=\"Certified Fresh\"></span> <span class=\"tMeterScore\">87%</span></h2>,\n",
              " <h2><a href=\"https://www.rottentomatoes.com/m/the_raid_redemption\">The Raid: Redemption</a> <span class=\"subtle start-year\">(2011)</span> <span class=\"icon tiny certified\" title=\"Certified Fresh\"></span> <span class=\"tMeterScore\">87%</span></h2>,\n",
              " <h2><a href=\"https://www.rottentomatoes.com/m/mission_impossible_fallout\">Mission: Impossible -- Fallout</a> <span class=\"subtle start-year\">(2018)</span> <span class=\"icon tiny certified\" title=\"Certified Fresh\"></span> <span class=\"tMeterScore\">97%</span></h2>,\n",
              " <h2><a href=\"https://www.rottentomatoes.com/m/raiders_of_the_lost_ark\">Raiders of the Lost Ark</a> <span class=\"subtle start-year\">(1981)</span> <span class=\"icon tiny certified\" title=\"Certified Fresh\"></span> <span class=\"tMeterScore\">95%</span></h2>,\n",
              " <h2><a href=\"https://www.rottentomatoes.com/m/1000617-aliens\">Aliens</a> <span class=\"subtle start-year\">(1986)</span> <span class=\"icon tiny certified\" title=\"Certified Fresh\"></span> <span class=\"tMeterScore\">97%</span></h2>,\n",
              " <h2><a href=\"https://www.rottentomatoes.com/m/hard_boiled\">Hard-Boiled</a> <span class=\"subtle start-year\">(1992)</span> <span class=\"icon tiny fresh\" title=\"Fresh\"></span> <span class=\"tMeterScore\">94%</span></h2>,\n",
              " <h2><a href=\"https://www.rottentomatoes.com/m/matrix\">The Matrix</a> <span class=\"subtle start-year\">(1999)</span> <span class=\"icon tiny certified\" title=\"Certified Fresh\"></span> <span class=\"tMeterScore\">88%</span></h2>,\n",
              " <h2><a href=\"https://www.rottentomatoes.com/m/terminator_2_judgment_day\">Terminator 2: Judgment Day</a> <span class=\"subtle start-year\">(1991)</span> <span class=\"icon tiny certified\" title=\"Certified Fresh\"></span> <span class=\"tMeterScore\">93%</span></h2>,\n",
              " <h2><a href=\"https://www.rottentomatoes.com/m/die_hard\">Die Hard</a> <span class=\"subtle start-year\">(1988)</span> <span class=\"icon tiny certified\" title=\"Certified Fresh\"></span> <span class=\"tMeterScore\">94%</span></h2>,\n",
              " <h2><a href=\"https://www.rottentomatoes.com/m/mad_max_fury_road\">Mad Max: Fury Road</a> <span class=\"subtle start-year\">(2015)</span> <span class=\"icon tiny certified\" title=\"Certified Fresh\"></span> <span class=\"tMeterScore\">97%</span></h2>]"
            ]
          },
          "metadata": {},
          "execution_count": 73
        }
      ]
    },
    {
      "cell_type": "markdown",
      "metadata": {
        "id": "QM8sEx8_hR4O"
      },
      "source": [
        "**2. Create list of titles**"
      ]
    },
    {
      "cell_type": "code",
      "metadata": {
        "colab": {
          "base_uri": "https://localhost:8080/"
        },
        "id": "CggS3GVfrdab",
        "outputId": "1c277845-a64f-487a-a225-963793c2e8bb"
      },
      "source": [
        "film_title = [h2.find('a').string for h2 in headings]\n",
        "film_title"
      ],
      "execution_count": null,
      "outputs": [
        {
          "output_type": "execute_result",
          "data": {
            "text/plain": [
              "['Running Scared',\n",
              " 'Equilibrium',\n",
              " 'Hero',\n",
              " 'Road House',\n",
              " 'Unstoppable',\n",
              " 'Shaft',\n",
              " 'The Villainess',\n",
              " 'Highlander',\n",
              " 'Die Hard 2',\n",
              " 'National Treasure',\n",
              " 'The Protector',\n",
              " 'Revenge',\n",
              " 'El Mariachi',\n",
              " 'A Touch of Zen',\n",
              " 'Top Gun',\n",
              " 'Con Air',\n",
              " 'The Expendables 2',\n",
              " 'The Mummy',\n",
              " None,\n",
              " 'Rush Hour',\n",
              " 'The Equalizer',\n",
              " 'Captain America: Civil War',\n",
              " 'Air Force One',\n",
              " 'Bloodsport',\n",
              " 'Blade',\n",
              " 'Bad Boys',\n",
              " 'Die Hard With a Vengeance',\n",
              " 'The Running Man',\n",
              " 'Code of Silence',\n",
              " \"Shoot 'Em Up\",\n",
              " 'Crank',\n",
              " 'Machete',\n",
              " 'Drive',\n",
              " 'Batman',\n",
              " 'Under Siege',\n",
              " 'Independence Day',\n",
              " 'Bullitt',\n",
              " 'Wanted',\n",
              " 'Superman: The Movie',\n",
              " 'Ronin',\n",
              " 'They Live',\n",
              " 'Cliffhanger',\n",
              " \"Marvel's the Avengers\",\n",
              " 'Hot Fuzz',\n",
              " 'The Warriors',\n",
              " 'Starship Troopers',\n",
              " 'Elite Squad 2',\n",
              " 'Point Break',\n",
              " 'The Long Kiss Goodnight',\n",
              " 'The Guest',\n",
              " 'Taken',\n",
              " '300',\n",
              " 'True Lies',\n",
              " 'Demolition Man',\n",
              " 'Hardcore Henry',\n",
              " 'Police Story',\n",
              " 'Brotherhood of the Wolf',\n",
              " 'Kingsman: The Secret Service',\n",
              " 'The Fifth Element',\n",
              " 'Big Trouble in Little China',\n",
              " 'Atomic Blonde',\n",
              " 'Rumble in the Bronx',\n",
              " 'District B13',\n",
              " 'Beverly Hills Cop',\n",
              " 'Ong-Bak: The Thai Warrior',\n",
              " 'Collateral',\n",
              " 'Iron Monkey',\n",
              " 'Escape From New York',\n",
              " 'Battle Royale',\n",
              " 'Spider-Man 2',\n",
              " '13 Assassins',\n",
              " 'Full Contact',\n",
              " 'Indiana Jones and the Last Crusade',\n",
              " 'Kung Fu Hustle',\n",
              " 'A Better Tomorrow',\n",
              " 'Iron Man',\n",
              " 'The Night Comes for Us',\n",
              " 'Logan',\n",
              " 'Goldfinger',\n",
              " 'Assault on Precinct 13',\n",
              " 'Wonder Woman',\n",
              " 'The Chinese Connection',\n",
              " 'Captain America: The Winter Soldier',\n",
              " 'Oldboy',\n",
              " 'The French Connection',\n",
              " 'Furious 7',\n",
              " 'La Femme Nikita',\n",
              " 'Supercop',\n",
              " 'Dirty Harry',\n",
              " 'Edge of Tomorrow',\n",
              " 'X2',\n",
              " 'The Fugitive',\n",
              " 'Black Panther',\n",
              " 'Inception',\n",
              " 'Braveheart',\n",
              " 'Minority Report',\n",
              " 'Avengers: Endgame',\n",
              " 'Dredd',\n",
              " 'The Bourne Identity',\n",
              " 'Ip Man',\n",
              " 'Face/Off',\n",
              " 'To Live and Die in L.A.',\n",
              " 'The Dark Knight',\n",
              " 'Mission: Impossible -- Ghost Protocol',\n",
              " 'Fast Five',\n",
              " 'Lethal Weapon',\n",
              " 'The Rock',\n",
              " 'RoboCop',\n",
              " 'John Wick: Chapter 2',\n",
              " 'Casino Royale',\n",
              " 'Baby Driver',\n",
              " 'Fist of Legend',\n",
              " 'The Killer',\n",
              " 'The Raid 2',\n",
              " 'Enter the Dragon',\n",
              " 'Commando',\n",
              " 'First Blood',\n",
              " 'Mission: Impossible Rogue Nation',\n",
              " 'The Terminator',\n",
              " 'Gladiator',\n",
              " 'Kill Bill: Vol. 1',\n",
              " 'The Professional',\n",
              " 'Speed',\n",
              " 'Drunken Master II',\n",
              " 'John Wick',\n",
              " 'Crouching Tiger, Hidden Dragon',\n",
              " 'Predator',\n",
              " 'The Bourne Ultimatum',\n",
              " 'Total Recall',\n",
              " 'Mad Max 2',\n",
              " 'Heat',\n",
              " 'The Raid: Redemption',\n",
              " 'Mission: Impossible -- Fallout',\n",
              " 'Raiders of the Lost Ark',\n",
              " 'Aliens',\n",
              " 'Hard-Boiled',\n",
              " 'The Matrix',\n",
              " 'Terminator 2: Judgment Day',\n",
              " 'Die Hard',\n",
              " 'Mad Max: Fury Road']"
            ]
          },
          "metadata": {},
          "execution_count": 74
        }
      ]
    },
    {
      "cell_type": "markdown",
      "metadata": {
        "id": "BFHIti4xhagC"
      },
      "source": [
        "**3. Create list of years**\n",
        "\n",
        "3.1 removing brackets from year\n",
        "\n",
        "3.2 casting year from string into int"
      ]
    },
    {
      "cell_type": "code",
      "metadata": {
        "colab": {
          "base_uri": "https://localhost:8080/"
        },
        "id": "HzwtMI8xl-l8",
        "outputId": "74a9d4e5-ed9e-4c66-d9f1-5eed665b422c"
      },
      "source": [
        "years = [h.find('span', class_= 'subtle start-year').string for h in headings]\n",
        "#removing () which surround with year\n",
        "years = [year.strip('()') for year in years]\n",
        "#casting year from string to int, but first check if year is empty return 0 otherwise returns int(y)\n",
        "years = [int(y) if y != '' else 0 for y in years]\n",
        "years"
      ],
      "execution_count": null,
      "outputs": [
        {
          "output_type": "execute_result",
          "data": {
            "text/plain": [
              "[1986,\n",
              " 2002,\n",
              " 2002,\n",
              " 1989,\n",
              " 2010,\n",
              " 1971,\n",
              " 2017,\n",
              " 1986,\n",
              " 1990,\n",
              " 2004,\n",
              " 2005,\n",
              " 2017,\n",
              " 1992,\n",
              " 1971,\n",
              " 1986,\n",
              " 1997,\n",
              " 2012,\n",
              " 1999,\n",
              " 0,\n",
              " 1998,\n",
              " 2014,\n",
              " 2016,\n",
              " 1997,\n",
              " 1988,\n",
              " 1998,\n",
              " 1995,\n",
              " 1995,\n",
              " 1987,\n",
              " 1985,\n",
              " 2007,\n",
              " 2006,\n",
              " 2010,\n",
              " 2011,\n",
              " 1989,\n",
              " 1992,\n",
              " 1996,\n",
              " 1968,\n",
              " 2008,\n",
              " 1978,\n",
              " 1998,\n",
              " 1988,\n",
              " 1993,\n",
              " 2012,\n",
              " 2007,\n",
              " 1979,\n",
              " 1997,\n",
              " 2010,\n",
              " 1991,\n",
              " 1996,\n",
              " 2014,\n",
              " 2008,\n",
              " 2006,\n",
              " 1994,\n",
              " 1993,\n",
              " 2015,\n",
              " 1985,\n",
              " 2001,\n",
              " 2014,\n",
              " 1997,\n",
              " 1986,\n",
              " 2017,\n",
              " 1995,\n",
              " 2004,\n",
              " 1984,\n",
              " 2003,\n",
              " 2004,\n",
              " 1993,\n",
              " 1981,\n",
              " 2000,\n",
              " 2004,\n",
              " 2010,\n",
              " 1992,\n",
              " 1989,\n",
              " 2004,\n",
              " 1986,\n",
              " 2008,\n",
              " 2018,\n",
              " 2017,\n",
              " 1964,\n",
              " 1976,\n",
              " 2017,\n",
              " 1972,\n",
              " 2014,\n",
              " 2003,\n",
              " 1971,\n",
              " 2015,\n",
              " 1990,\n",
              " 1992,\n",
              " 1971,\n",
              " 2014,\n",
              " 2003,\n",
              " 1993,\n",
              " 2018,\n",
              " 2010,\n",
              " 1995,\n",
              " 2002,\n",
              " 2019,\n",
              " 2012,\n",
              " 2002,\n",
              " 2008,\n",
              " 1997,\n",
              " 1985,\n",
              " 2008,\n",
              " 2011,\n",
              " 2011,\n",
              " 1987,\n",
              " 1996,\n",
              " 1987,\n",
              " 2017,\n",
              " 2006,\n",
              " 2017,\n",
              " 1994,\n",
              " 1989,\n",
              " 2014,\n",
              " 1973,\n",
              " 1985,\n",
              " 1982,\n",
              " 2015,\n",
              " 1984,\n",
              " 2000,\n",
              " 2003,\n",
              " 1994,\n",
              " 1994,\n",
              " 1994,\n",
              " 2014,\n",
              " 2000,\n",
              " 1987,\n",
              " 2007,\n",
              " 1990,\n",
              " 1981,\n",
              " 1995,\n",
              " 2011,\n",
              " 2018,\n",
              " 1981,\n",
              " 1986,\n",
              " 1992,\n",
              " 1999,\n",
              " 1991,\n",
              " 1988,\n",
              " 2015]"
            ]
          },
          "metadata": {},
          "execution_count": 78
        }
      ]
    },
    {
      "cell_type": "markdown",
      "metadata": {
        "id": "2ijnRbU6jIuj"
      },
      "source": [
        "**4. Create list of scores**"
      ]
    },
    {
      "cell_type": "code",
      "metadata": {
        "colab": {
          "base_uri": "https://localhost:8080/"
        },
        "id": "itx1LRUUjH3N",
        "outputId": "7c670bef-18dd-4883-a101-9ee16c2d654e"
      },
      "source": [
        "scores = [heading.find(\"span\", class_ = 'tMeterScore').string for heading in headings]\n",
        "\n",
        "#removing % from score if score value doesn't have 'None' otherwise remove %\n",
        "scores = [score.strip('%') if score != None else 0 for score in scores]\n",
        "#casr score from string to int\n",
        "scores = [int(score) for score in scores]\n",
        "scores"
      ],
      "execution_count": null,
      "outputs": [
        {
          "output_type": "execute_result",
          "data": {
            "text/plain": [
              "[57,\n",
              " 41,\n",
              " 94,\n",
              " 40,\n",
              " 87,\n",
              " 88,\n",
              " 85,\n",
              " 70,\n",
              " 69,\n",
              " 46,\n",
              " 53,\n",
              " 93,\n",
              " 91,\n",
              " 97,\n",
              " 58,\n",
              " 56,\n",
              " 67,\n",
              " 61,\n",
              " 0,\n",
              " 61,\n",
              " 60,\n",
              " 90,\n",
              " 78,\n",
              " 40,\n",
              " 57,\n",
              " 42,\n",
              " 60,\n",
              " 66,\n",
              " 70,\n",
              " 67,\n",
              " 61,\n",
              " 72,\n",
              " 93,\n",
              " 71,\n",
              " 79,\n",
              " 68,\n",
              " 98,\n",
              " 71,\n",
              " 94,\n",
              " 68,\n",
              " 85,\n",
              " 67,\n",
              " 91,\n",
              " 91,\n",
              " 87,\n",
              " 66,\n",
              " 91,\n",
              " 69,\n",
              " 70,\n",
              " 92,\n",
              " 59,\n",
              " 61,\n",
              " 71,\n",
              " 60,\n",
              " 51,\n",
              " 93,\n",
              " 73,\n",
              " 75,\n",
              " 71,\n",
              " 74,\n",
              " 79,\n",
              " 80,\n",
              " 80,\n",
              " 83,\n",
              " 85,\n",
              " 86,\n",
              " 91,\n",
              " 86,\n",
              " 88,\n",
              " 93,\n",
              " 95,\n",
              " 88,\n",
              " 88,\n",
              " 91,\n",
              " 93,\n",
              " 94,\n",
              " 91,\n",
              " 94,\n",
              " 99,\n",
              " 96,\n",
              " 93,\n",
              " 83,\n",
              " 90,\n",
              " 81,\n",
              " 98,\n",
              " 82,\n",
              " 89,\n",
              " 96,\n",
              " 87,\n",
              " 91,\n",
              " 85,\n",
              " 96,\n",
              " 96,\n",
              " 87,\n",
              " 79,\n",
              " 90,\n",
              " 94,\n",
              " 79,\n",
              " 83,\n",
              " 86,\n",
              " 92,\n",
              " 85,\n",
              " 94,\n",
              " 93,\n",
              " 77,\n",
              " 80,\n",
              " 68,\n",
              " 90,\n",
              " 89,\n",
              " 94,\n",
              " 92,\n",
              " 100,\n",
              " 98,\n",
              " 82,\n",
              " 95,\n",
              " 69,\n",
              " 85,\n",
              " 94,\n",
              " 100,\n",
              " 77,\n",
              " 85,\n",
              " 74,\n",
              " 94,\n",
              " 84,\n",
              " 86,\n",
              " 97,\n",
              " 82,\n",
              " 92,\n",
              " 82,\n",
              " 94,\n",
              " 87,\n",
              " 87,\n",
              " 97,\n",
              " 95,\n",
              " 97,\n",
              " 94,\n",
              " 88,\n",
              " 93,\n",
              " 94,\n",
              " 97]"
            ]
          },
          "metadata": {},
          "execution_count": 82
        }
      ]
    },
    {
      "cell_type": "markdown",
      "metadata": {
        "id": "L52zZMU-XQ9d"
      },
      "source": [
        "**5. Extracting rest of info(the movie details)**\n",
        "\n",
        "5.1 Critics Consensus\n",
        "\n",
        "5.2 Synopsis\n",
        "\n",
        "5.3 Starring\n",
        "\n",
        "5.4 Directed By"
      ]
    },
    {
      "cell_type": "code",
      "metadata": {
        "colab": {
          "base_uri": "https://localhost:8080/"
        },
        "id": "vqAsxN-sYQTI",
        "outputId": "6e4256a1-0f37-412c-809b-feff8932507a"
      },
      "source": [
        "film_details_divs = soup.find_all('div', {'class' : 'row countdown-item-details'})\n",
        "film_details_divs[0]"
      ],
      "execution_count": null,
      "outputs": [
        {
          "output_type": "execute_result",
          "data": {
            "text/plain": [
              "<div class=\"row countdown-item-details\">\n",
              "<div class=\"col-sm-24\">\n",
              "<div class=\"info countdown-adjusted-score\"><span class=\"descriptor\">Adjusted Score: </span>58270% <span class=\"glyphicon glyphicon-question-sign\" data-html=\"true\" data-original-title=\"The Adjusted Score comes from a weighted formula (Bayesian) that we use that accounts for variation in the number of reviews per movie.\" data-placement=\"top\" data-toggle=\"tooltip\" rel=\"tooltip\" title=\"\"></span></div>\n",
              "<div class=\"info critics-consensus\"><span class=\"descriptor\">Critics Consensus:</span> <em>Running Scared</em> struggles to strike a consistent balance between violent action and humor, but the chemistry between its well-matched leads keeps things entertaining.</div>\n",
              "<div class=\"info synopsis\"><span class=\"descriptor\">Synopsis:</span> Ray and Danny (Gregory Hines, Billy Crystal) are two Chicago police detectives hot on the trail of drug kingpin Julio...<a class=\"\" data-pageheader=\"\" href=\"https://www.rottentomatoes.com/m/1018009-running_scared\" target=\"_top\"> [More]</a></div>\n",
              "<div class=\"info cast\">\n",
              "<span class=\"descriptor\">Starring:</span> <a class=\"\" href=\"//www.rottentomatoes.com/celebrity/gregory_hines\">Gregory Hines</a>, <a class=\"\" href=\"//www.rottentomatoes.com/celebrity/billy_crystal\">Billy Crystal</a>, <a class=\"\" href=\"//www.rottentomatoes.com/celebrity/jimmy_smits\">Jimmy Smits</a>, <a class=\"\" href=\"//www.rottentomatoes.com/celebrity/steven_bauer\">Steven Bauer</a></div>\n",
              "<div class=\"info director\">\n",
              "<span class=\"descriptor\">Directed By:</span> <a class=\"\" href=\"//www.rottentomatoes.com/celebrity/peter_hyams\">Peter Hyams</a></div>\n",
              "</div>\n",
              "</div>"
            ]
          },
          "metadata": {},
          "execution_count": 83
        }
      ]
    },
    {
      "cell_type": "code",
      "metadata": {
        "colab": {
          "base_uri": "https://localhost:8080/"
        },
        "id": "or25hjw8ZFl4",
        "outputId": "c4772129-8f58-4c6f-a0f7-970b00b5bcdb"
      },
      "source": [
        "#crate list of Critics Consensus from each movie\n",
        "critics_consensus = [div.find('div', {'class':'info critics-consensus'}) for div in film_details_divs]\n",
        "critics_consensus = [element.text if element != None else None for element in critics_consensus]\n",
        "critics_consensus"
      ],
      "execution_count": null,
      "outputs": [
        {
          "output_type": "execute_result",
          "data": {
            "text/plain": [
              "['Critics Consensus: Running Scared struggles to strike a consistent balance between violent action and humor, but the chemistry between its well-matched leads keeps things entertaining.',\n",
              " 'Critics Consensus: Equilibrium is a reheated mishmash of other sci-fi movies.',\n",
              " 'Critics Consensus: With death-defying action sequences and epic historic sweep, Hero offers everything a martial arts fan could ask for.',\n",
              " \"Critics Consensus: Whether Road House is simply bad or so bad it's good depends largely on the audience's fondness for Swayze -- and tolerance for violently cheesy action.\",\n",
              " \"Critics Consensus: As fast, loud, and relentless as the train at the center of the story, Unstoppable is perfect popcorn entertainment -- and director Tony Scott's best movie in years.\",\n",
              " 'Critics Consensus: This is the man that would risk his neck for his brother, man. Can you dig it?',\n",
              " 'Critics Consensus: The Villainess offers enough pure kinetic thrills to satisfy genre enthusiasts -- and carve out a bloody niche for itself in modern Korean action cinema.',\n",
              " \"Critics Consensus: People hate Highlander because it's cheesy, bombastic, and absurd. And people love it for the same reasons.\",\n",
              " 'Critics Consensus: It lacks the fresh thrills of its predecessor, but Die Hard 2 still works as an over-the-top -- and reasonably taut -- big-budget sequel, with plenty of set pieces to paper over the plot deficiencies.',\n",
              " \"Critics Consensus: National Treasure is no treasure, but it's a fun ride for those who can forgive its highly improbable plot.\",\n",
              " 'Critics Consensus: Despite some impressive fight scenes, this trimmed-down version of the Thai action pic is an off-putting mix of scant plot, choppy editing, and confusing subtitles and dubbing.',\n",
              " 'Critics Consensus: Revenge slices and dices genre tropes, working within an exploitation framework while adding a timely -- yet never less than viscerally thrilling -- feminist spin.',\n",
              " \"Critics Consensus: Made on a shoestring budget, El Mariachi's story is not new. However, the movie has so much energy that it's thoroughly enjoyable.\",\n",
              " 'Critics Consensus: A brilliantly directed feast for the eyes with an epic story to match, A Touch of Zen marks a groundbreaking achievement in the wuxia genre.',\n",
              " \"Critics Consensus: Though it features some of the most memorable and electrifying aereial footage shot with an expert eye for action, Top Gun offers too little for non-adolescent viewers to chew on when its characters aren't in the air.\",\n",
              " \"Critics Consensus: Con Air won't win any awards for believability - and all involved seem cheerfully aware of it, making some of this blockbuster action outing's biggest flaws fairly easy to forgive.\",\n",
              " \"Critics Consensus: Taut, violent, and suitably self-deprecating, The Expendables 2 gives classic action fans everything they can reasonably expect from a star-studded shoot-'em-up -- for better and for worse.\",\n",
              " \"Critics Consensus: It's difficult to make a persuasive argument for The Mummy as any kind of meaningful cinematic achievement, but it's undeniably fun to watch.\",\n",
              " None,\n",
              " 'Critics Consensus: A kick-ass addition to the cop-buddy film genre.',\n",
              " 'Critics Consensus: The Equalizer is more stylishly violent than meaningful, but with Antoine Fuqua behind the cameras and Denzel Washington dispensing justice, it delivers.',\n",
              " 'Critics Consensus: Captain America: Civil War begins the next wave of Marvel movies with an action-packed superhero blockbuster boasting a decidedly non-cartoonish plot and the courage to explore thought-provoking themes.',\n",
              " 'Critics Consensus: This late-period Harrison Ford actioner is full of palpable, if not entirely seamless, thrills.',\n",
              " \"Critics Consensus: This is where it all began for the Muscles from Brussels, but beyond Van Damme's athleticism, Bloodsport is a cliched, virtually plotless exercise in action movie recycling.\",\n",
              " \"Critics Consensus: Though some may find the plot a bit lacking, Blade's action is fierce, plentiful, and appropriately stylish for a comic book adaptation.\",\n",
              " 'Critics Consensus: Bad Boys stars Will Smith and Martin Lawrence have enjoyable chemistry; unfortunately, director Michael Bay too often drowns it out with set pieces and explosions in place of an actual story.',\n",
              " \"Critics Consensus: Die Hard with a Vengeance benefits from Bruce Willis and Samuel L. Jackson's barbed interplay, but clatters to a bombastic finish in a vain effort to cover for an overall lack of fresh ideas.\",\n",
              " 'Critics Consensus: The Running Man is winking sci-fi satire with ridiculous clothes and workmanlike direction.',\n",
              " 'Critics Consensus: No consensus yet.',\n",
              " \"Critics Consensus: As preposterous and over-the-top as Shoot 'Em Up may be, its humor and non-stop action make for a very enjoyable film.\",\n",
              " \"Critics Consensus: Crank's assaultive style and gleeful depravity may turn off casual action fans, but audiences seeking a strong dose of adrenaline will be thrilled by Jason Statham's raucous race against mortality.\",\n",
              " \"Critics Consensus: Machete is messy, violent, shallow, and tasteless -- and that's precisely the point of one of the summer's most cartoonishly enjoyable films.\",\n",
              " 'Critics Consensus: With its hyper-stylized blend of violence, music, and striking imagery, Drive represents a fully realized vision of arthouse action.',\n",
              " \"Critics Consensus: An eerie, haunting spectacle, Batman succeeds as dark entertainment, even if Jack Nicholson's Joker too often overshadows the title character.\",\n",
              " \"Critics Consensus: A well-directed action thriller that makes the most of its confined setting, Under Siege marks a high point for early '90s action -- and its star's spotty filmography.\",\n",
              " 'Critics Consensus: The plot is thin and so is character development, but as a thrilling, spectacle-filled summer movie, Independence Day delivers.',\n",
              " 'Critics Consensus: Steve McQueen is cool as ice in this thrilling police procedural that also happens to contain arguably the greatest movie car chase ever.',\n",
              " 'Critics Consensus: Wanted is stylish, energetic popcorn fare with witty performances from Angelina Jolie (playing an expert assassin), James McAvoy, and Morgan Freeman that help to distract from its absurdly over-the-top plot.',\n",
              " 'Critics Consensus: Superman deftly blends humor and gravitas, taking advantage of the perfectly cast Christopher Reeve to craft a loving, nostalgic tribute to an American pop culture icon.',\n",
              " 'Critics Consensus: Ronin earns comparisons to The French Connection with strong action, dynamic road chase scenes, and solid performances.',\n",
              " 'Critics Consensus: A politically subversive blend of horror and sci fi, They Live is an underrated genre film from John Carpenter.',\n",
              " \"Critics Consensus: While it can't escape comparisons to the movies it borrows from, Cliffhanger is a tense, action-packed thriller and a showcase for the talents that made Sylvester Stallone a star.\",\n",
              " \"Critics Consensus: Thanks to a script that emphasizes its heroes' humanity and a wealth of superpowered set pieces, The Avengers lives up to its hype and raises the bar for Marvel at the movies.\",\n",
              " 'Critics Consensus: The brilliant minds behind Shaun of the Dead successfully take a shot at the buddy cop genre with Hot Fuzz. The result is a bitingly satiric and hugely entertaining parody.',\n",
              " 'Critics Consensus: As violent as it is stylish, The Warriors is a thrilling piece of pulp filmmaking.',\n",
              " 'Critics Consensus: A fun movie...if you can accept the excessive gore and wooden acting.',\n",
              " 'Critics Consensus: Elite Squad: The Enemy Within is a bleak, violent descent into the Brazilian underbelly, ripping into the favelas with unstoppable and kinetic force.',\n",
              " 'Critics Consensus: Absurd, over-the-top, and often wildly entertaining, Point Break is here to show you that the human spirit is still alive.',\n",
              " 'Critics Consensus: Smart, sharp-witted, and fueled by enjoyably over-the-top action, The Long Kiss Goodnight makes up in impact what it lacks in consistent aim.',\n",
              " 'Critics Consensus: Boasting enough intelligence to bolster its darkly violent thrills, The Guest offers another treat for genre fans from director Adam Wingard.',\n",
              " 'Critics Consensus: Taken is undeniably fun with slick action, but is largely a brainless exercise.',\n",
              " 'Critics Consensus: A simple-minded but visually exciting experience, full of blood, violence, and ready-made movie quotes.',\n",
              " \"Critics Consensus: If it doesn't reach the heights of director James Cameron's and star Arnold Schwarzenegger's previous collaborations, True Lies still packs enough action and humor into its sometimes absurd plot to entertain.\",\n",
              " 'Critics Consensus: A better-than-average sci-fi shoot-em-up with a satirical undercurrent, Demolition Man is bolstered by strong performances by Sylvester Stallone, Wesley Snipes, and Sandra Bullock.',\n",
              " 'Critics Consensus: Hardcore Henry seems poised to reinvent the action flick, but without a story or characters worth caring about, its first-person gimmick quickly loses its thrill.',\n",
              " 'Critics Consensus: Blending brilliant physical comedy with thrillingly choreographed set pieces, Police Story makes a persuasive case for Jackie Chan as one of the all-time genre greats.',\n",
              " 'Critics Consensus: Brotherhood of the Wolf mixes its genres with little logic, but the end result is wildly entertaining.',\n",
              " 'Critics Consensus: Stylish, subversive, and above all fun, Kingsman: The Secret Service finds director Matthew Vaughn sending up the spy genre with gleeful abandon.',\n",
              " \"Critics Consensus: Visually inventive and gleefully over the top, Luc Besson's The Fifth Element is a fantastic piece of pop sci-fi that never takes itself too seriously.\",\n",
              " 'Critics Consensus: Brimming with energy and packed with humor, Big Trouble in Little China distills kung fu B-movies as affectionately as it subverts them.',\n",
              " \"Critics Consensus: Atomic Blonde gets enough mileage out of its stylish action sequences -- and ever-magnetic star -- to make up for a narrative that's somewhat less hard-hitting than its protagonist.\",\n",
              " 'Critics Consensus: An entertaining Jackie Chan stunt-fest in which the impressive action sequences overcome the low production value and by-the-numbers plot.',\n",
              " \"Critics Consensus: A nonstop thrill ride, District B13's dizzying action sequences more than make up for any expository flaws.\",\n",
              " \"Critics Consensus: The buddy cop movie continues its evolution unabated with this Eddie Murphy vehicle that's fast, furious, and funny.\",\n",
              " 'Critics Consensus: While Ong-Bak: The Thai Warrior may be no great shakes as a movie, critics are hailing the emergence of a new star in Tony Jaa, whose athletic performance is drawing comparisons with Bruce Lee, Jackie Chan, and Jet Li.',\n",
              " \"Critics Consensus: Driven by director Michael Mann's trademark visuals and a lean, villainous performance from Tom Cruise, Collateral is a stylish and compelling noir thriller.\",\n",
              " 'Critics Consensus: Iron Monkey may not have the poetic lyricism of Crouching Tiger, it makes up for it in fun and energy.',\n",
              " 'Critics Consensus: Featuring an atmospherically grimy futuristic metropolis, Escape from New York is a strange, entertaining jumble of thrilling action and oddball weirdness.',\n",
              " 'Critics Consensus: Battle Royale is a controversial and violent parable of adolescence, heightening teenage melodrama with life-or-death stakes.',\n",
              " 'Critics Consensus: Boasting an entertaining villain and deeper emotional focus, this is a nimble sequel that improves upon the original.',\n",
              " \"Critics Consensus: Takashi Miike's electric remake of Eiichi Kudo's 1963 period action film is a wild spectacle executed with killer, dizzying panache.\",\n",
              " 'Critics Consensus: No consensus yet.',\n",
              " 'Critics Consensus: Lighter and more comedic than its predecessor, Indiana Jones and the Last Crusade returns the series to the brisk serial adventure of Raiders, while adding a dynamite double act between Harrison Ford and Sean Connery.',\n",
              " 'Critics Consensus: Kung Fu Hustle blends special effects, martial arts, and the Looney Toons to hilarious effect.',\n",
              " 'Critics Consensus: No consensus yet.',\n",
              " \"Critics Consensus: Powered by Robert Downey Jr.'s vibrant charm, Iron Man turbo-charges the superhero genre with a deft intelligence and infectious sense of fun.\",\n",
              " 'Critics Consensus: A bloody thrill ride designed to test the limits of more squeamish viewers, The Night Comes for Us wields a stylishly violent, action-packed punch.',\n",
              " 'Critics Consensus: Hugh Jackman makes the most of his final outing as Wolverine with a gritty, nuanced performance in a violent but surprisingly thoughtful superhero action film that defies genre conventions.',\n",
              " 'Critics Consensus: Goldfinger is where James Bond as we know him comes into focus - it features one of 007\\'s most famous lines (\"A martini. Shaken, not stirred.\") and a wide range of gadgets that would become the series\\' trademark.',\n",
              " \"Critics Consensus: Lean, taut and compellingly gritty, John Carpenter's loose update of Rio Bravo ranks as a cult action classic and one of the filmmaker's best.\",\n",
              " \"Critics Consensus: Thrilling, earnest, and buoyed by Gal Gadot's charismatic performance, Wonder Woman succeeds in spectacular fashion.\",\n",
              " 'Critics Consensus: No consensus yet.',\n",
              " 'Critics Consensus: Suspenseful and politically astute, Captain America: The Winter Soldier is a superior entry in the Avengers canon and is sure to thrill Marvel diehards.',\n",
              " \"Critics Consensus: Violent and definitely not for the squeamish, Park Chan-Wook's visceral Oldboy is a strange, powerful tale of revenge.\",\n",
              " \"Critics Consensus: Realistic, fast-paced and uncommonly smart, The French Connection is bolstered by stellar performances by Gene Hackman and Roy Scheider, not to mention William Friedkin's thrilling production.\",\n",
              " 'Critics Consensus: Serving up a fresh round of over-the-top thrills while adding unexpected dramatic heft, Furious 7 keeps the franchise moving in more ways than one.',\n",
              " 'Critics Consensus: A zany out-of-control thriller that gives lead Anne Parillaud a big character arc and plenty of emotional room to work within.',\n",
              " \"Critics Consensus: Blending hand-to-hand combat with breathtaking stunts and slapstick comedy, Supercop reminds us why Jackie Chan is one of the world's great entertainers.\",\n",
              " 'Critics Consensus: As tough and taciturn as its no-nonsense hero, Dirty Harry delivers a deceptively layered message without sacrificing an ounce of its solid action impact.',\n",
              " 'Critics Consensus: Gripping, well-acted, funny, and clever, Edge of Tomorrow offers entertaining proof that Tom Cruise is still more than capable of shouldering the weight of a blockbuster action thriller.',\n",
              " 'Critics Consensus: Tightly scripted, solidly acted, and impressively ambitious, X2: X-Men United is bigger and better than its predecessor -- and a benchmark for comic sequels in general.',\n",
              " 'Critics Consensus: Exhilarating and intense, this high-impact chase thriller is a model of taut and efficient formula filmmaking, and it features Harrison Ford at his frantic best.',\n",
              " \"Critics Consensus: Black Panther elevates superhero cinema to thrilling new heights while telling one of the MCU's most absorbing stories -- and introducing some of its most fully realized characters.\",\n",
              " 'Critics Consensus: Smart, innovative, and thrilling, Inception is that rare summer blockbuster that succeeds viscerally as well as intellectually.',\n",
              " \"Critics Consensus: Distractingly violent and historically dodgy, Mel Gibson's Braveheart justifies its epic length by delivering enough sweeping action, drama, and romance to match its ambition.\",\n",
              " 'Critics Consensus: Thought-provoking and visceral, Steven Spielberg successfully combines high concept ideas and high octane action in this fast and febrile sci-fi thriller.',\n",
              " \"Critics Consensus: Exciting, entertaining, and emotionally impactful, Avengers: Endgame does whatever it takes to deliver a satisfying finale to Marvel's epic Infinity Saga.\",\n",
              " \"Critics Consensus: Fueled by bombastic violence and impressive special effects, rooted in self-satire and deadpan humor, Dredd 3D does a remarkable job of capturing its source material's gritty spirit.\",\n",
              " 'Critics Consensus: Expertly blending genre formula with bursts of unexpected wit, The Bourne Identity is an action thriller that delivers -- and then some.',\n",
              " 'Critics Consensus: At once beholden to the established conventions of the genre and delightfully subversive of them, Ip Man is one of the most exciting -- and refreshingly character-driven -- martial arts films in years.',\n",
              " 'Critics Consensus: John Travolta and Nicolas Cage play cat-and-mouse (and literally play each other) against a beautifully stylized backdrop of typically elegant, over-the-top John Woo violence.',\n",
              " \"Critics Consensus: With coke fiends, car chases, and Wang Chung galore, To Live and Die in L.A. is perhaps the ultimate '80s action/thriller.\",\n",
              " 'Critics Consensus: Dark, complex, and unforgettable, The Dark Knight succeeds not just as an entertaining comic book film, but as a richly thrilling crime saga.',\n",
              " 'Critics Consensus: Stylish, fast-paced, and loaded with gripping set pieces, the fourth Mission: Impossible is big-budget popcorn entertainment that really works.',\n",
              " 'Critics Consensus: Sleek, loud, and over the top, Fast Five proudly embraces its brainless action thrills and injects new life into the franchise.',\n",
              " 'Critics Consensus: The most successful installment in a phenomenally successful series, Lethal Weapon helped redefine action movies for the 1980s and 1990s.',\n",
              " \"Critics Consensus: For visceral thrills, it can't be beat. Just don't expect The Rock to engage your brain.\",\n",
              " 'Critics Consensus: While over-the-top and gory, Robocop is also a surprisingly smart sci-fi flick that uses ultraviolence to disguise its satire of American culture.',\n",
              " 'Critics Consensus: John Wick: Chapter 2 does what a sequel should -- which in this case means doubling down on the non-stop, thrillingly choreographed action that made its predecessor so much fun.',\n",
              " 'Critics Consensus: Casino Royale disposes of the silliness and gadgetry that plagued recent James Bond outings, and Daniel Craig delivers what fans and critics have been waiting for: a caustic, haunted, intense reinvention of 007.',\n",
              " \"Critics Consensus: Stylish, exciting, and fueled by a killer soundtrack, Baby Driver hits the road and it's gone -- proving fast-paced action movies can be smartly written without sacrificing thrills.\",\n",
              " 'Critics Consensus: No consensus yet.',\n",
              " 'Critics Consensus: The Killer is another hard-boiled action flick from John Woo featuring eye-popping balletic violence and philosophical underpinnings.',\n",
              " 'Critics Consensus: Although its high-energy plot and over-the-top violence may play better with genre aficionados, The Raid 2 definitely delivers more of everything audiences loved about its predecessor.',\n",
              " 'Critics Consensus: Badass to the max, Enter the Dragon is the ultimate kung-fu movie and fitting (if untimely) Bruce Lee swan song.',\n",
              " \"Critics Consensus: The ultimate '80s Schwarzenegger movie, replete with a threadbare plot, outsized action, and endless one-liners.\",\n",
              " \"Critics Consensus: Much darker and more sensitive than the sequels it spawned, First Blood is a thrilling survival adventure that takes full advantage of Sylvester Stallone's acting skills.\",\n",
              " \"Critics Consensus: Mission: Impossible Rogue Nation continues the franchise's thrilling resurgence -- and proves that Tom Cruise remains an action star without equal.\",\n",
              " \"Critics Consensus: With its impressive action sequences, taut economic direction, and relentlessly fast pace, it's clear why The Terminator continues to be an influence on sci-fi and action flicks.\",\n",
              " 'Critics Consensus: Ridley Scott and an excellent cast successfully convey the intensity of Roman gladitorial combat as well as the political intrigue brewing beneath.',\n",
              " 'Critics Consensus: Kill Bill is admittedly little more than a stylish revenge thriller -- albeit one that benefits from a wildly inventive surfeit of style.',\n",
              " \"Critics Consensus: Pivoting on the unusual relationship between seasoned hitman and his 12-year-old apprentice -- a breakout turn by young Natalie Portman -- Luc Besson's Léon is a stylish and oddly affecting thriller.\",\n",
              " 'Critics Consensus: A terrific popcorn thriller, Speed is taut, tense, and energetic, with outstanding performances from Keanu Reeves, Dennis Hopper, and Sandra Bullock.',\n",
              " 'Critics Consensus: Jackie Chan sends up some amazing and entertaining fight sequences in The Legend of Drunken Master.',\n",
              " 'Critics Consensus: Stylish, thrilling, and giddily kinetic, John Wick serves as a satisfying return to action for Keanu Reeves -- and what looks like it could be the first of a franchise.',\n",
              " 'Critics Consensus: The movie that catapulted Ang Lee into the ranks of upper echelon Hollywood filmmakers, Crouching Tiger, Hidden Dragon features a deft mix of amazing martial arts battles, beautiful scenery, and tasteful drama.',\n",
              " 'Critics Consensus: Predator: Part sci-fi, part horror, part action -- all muscle.',\n",
              " 'Critics Consensus: The Bourne Ultimatum is an intelligent, finely tuned non-stop thrill ride. Another strong performance from Matt Damon and sharp camerawork from Paul Greengrass make this the finest installment of the Bourne trilogy.',\n",
              " \"Critics Consensus: Under Paul Verhoeven's frenetic direction, Total Recall is a fast-paced rush of violence, gore, and humor that never slacks.\",\n",
              " 'Critics Consensus: The Road Warrior is everything a bigger-budgeted Mad Max sequel with should be: bigger, faster, louder, but definitely not dumber.',\n",
              " \"Critics Consensus: Though Al Pacino and Robert De Niro share but a handful of screen minutes together, Heat is an engrossing crime drama that draws compelling performances from its stars -- and confirms Michael Mann's mastery of the genre.\",\n",
              " 'Critics Consensus: No frills and all thrills, The Raid: Redemption is an inventive action film expertly paced and edited for maximum entertainment.',\n",
              " 'Critics Consensus: Fast, sleek, and fun, Mission: Impossible - Fallout lives up to the \"impossible\" part of its name by setting yet another high mark for insane set pieces in a franchise full of them.',\n",
              " 'Critics Consensus: Featuring bravura set pieces, sly humor, and white-knuckle action, Raiders of the Lost Ark is one of the most consummately entertaining adventure pictures of all time.',\n",
              " 'Critics Consensus: While Alien was a marvel of slow-building, atmospheric tension, Aliens packs a much more visceral punch, and features a typically strong performance from Sigourney Weaver.',\n",
              " 'Critics Consensus: Boasting impactful action as well as surprising emotional resonance, Hard Boiled is a powerful thriller that hits hard in more ways than one.',\n",
              " \"Critics Consensus: Thanks to the Wachowskis' imaginative vision, The Matrix is a smartly crafted combination of spectacular action and groundbreaking special effects.\",\n",
              " 'Critics Consensus: T2 features thrilling action sequences and eye-popping visual effects, but what takes this sci-fi/ action landmark to the next level is the depth of the human (and cyborg) characters.',\n",
              " 'Critics Consensus: Its many imitators (and sequels) have never come close to matching the taut thrills of the definitive holiday action classic.',\n",
              " \"Critics Consensus: With exhilarating action and a surprising amount of narrative heft, Mad Max: Fury Road brings George Miller's post-apocalyptic franchise roaring vigorously back to life.\"]"
            ]
          },
          "metadata": {},
          "execution_count": 102
        }
      ]
    },
    {
      "cell_type": "markdown",
      "metadata": {
        "id": "86PIwEDearqv"
      },
      "source": [
        "**Way#1: preprocessing text**"
      ]
    },
    {
      "cell_type": "code",
      "metadata": {
        "colab": {
          "base_uri": "https://localhost:8080/"
        },
        "id": "GcqZgM7maxqb",
        "outputId": "ada8ec32-b807-41d4-c978-6d1aecf8bdad"
      },
      "source": [
        "common_phrase = \"Critics Consensus: \"\n",
        "len_common_phrase = len(common_phrase)\n",
        "len_common_phrase"
      ],
      "execution_count": null,
      "outputs": [
        {
          "output_type": "execute_result",
          "data": {
            "text/plain": [
              "19"
            ]
          },
          "metadata": {},
          "execution_count": 103
        }
      ]
    },
    {
      "cell_type": "code",
      "metadata": {
        "colab": {
          "base_uri": "https://localhost:8080/",
          "height": 52
        },
        "id": "O5s9cTFLbr0M",
        "outputId": "98fb3371-c6df-4de9-9a64-448d4727d330"
      },
      "source": [
        "critics_consensus[0][19:]"
      ],
      "execution_count": null,
      "outputs": [
        {
          "output_type": "execute_result",
          "data": {
            "application/vnd.google.colaboratory.intrinsic+json": {
              "type": "string"
            },
            "text/plain": [
              "'Running Scared struggles to strike a consistent balance between violent action and humor, but the chemistry between its well-matched leads keeps things entertaining.'"
            ]
          },
          "metadata": {},
          "execution_count": 104
        }
      ]
    },
    {
      "cell_type": "code",
      "metadata": {
        "colab": {
          "base_uri": "https://localhost:8080/"
        },
        "id": "ONMqiq8vbye3",
        "outputId": "4ea384df-88d0-4500-ec5b-f9e8dbd332d2"
      },
      "source": [
        "critics_consensus = [consensus[len_common_phrase:]  if consensus != None else None for consensus in critics_consensus]\n",
        "critics_consensus\n",
        "#len(critics_consensus)"
      ],
      "execution_count": null,
      "outputs": [
        {
          "output_type": "execute_result",
          "data": {
            "text/plain": [
              "140"
            ]
          },
          "metadata": {},
          "execution_count": 121
        }
      ]
    },
    {
      "cell_type": "markdown",
      "metadata": {
        "id": "5aAvVTTVe0qt"
      },
      "source": [
        "**Directors**"
      ]
    },
    {
      "cell_type": "code",
      "metadata": {
        "colab": {
          "base_uri": "https://localhost:8080/"
        },
        "id": "eVD1Gv-vgBT_",
        "outputId": "399e88e0-408c-4a61-98cf-9372bc080185"
      },
      "source": [
        "film_details_divs[19]"
      ],
      "execution_count": null,
      "outputs": [
        {
          "output_type": "execute_result",
          "data": {
            "text/plain": [
              "<div class=\"row countdown-item-details\">\n",
              "<div class=\"col-sm-24\">\n",
              "<div class=\"info countdown-adjusted-score\"><span class=\"descriptor\">Adjusted Score: </span>63772% <span class=\"glyphicon glyphicon-question-sign\" data-html=\"true\" data-original-title=\"The Adjusted Score comes from a weighted formula (Bayesian) that we use that accounts for variation in the number of reviews per movie.\" data-placement=\"top\" data-toggle=\"tooltip\" rel=\"tooltip\" title=\"\"></span></div>\n",
              "<div class=\"info critics-consensus\"><span class=\"descriptor\">Critics Consensus:</span> A kick-ass addition to the cop-buddy film genre.</div>\n",
              "<div class=\"info synopsis\"><span class=\"descriptor\">Synopsis:</span> When a Chinese diplomat's daughter is kidnapped in Los Angeles, he calls in Hong Kong Detective Inspector Lee (Jackie Chan)...<a class=\"\" data-pageheader=\"\" href=\"https://www.rottentomatoes.com/m/rush_hour\" target=\"_top\"> [More]</a></div>\n",
              "<div class=\"info cast\">\n",
              "<span class=\"descriptor\">Starring:</span> <a class=\"\" href=\"//www.rottentomatoes.com/celebrity/jackie_chan\">Jackie Chan</a>, <a class=\"\" href=\"//www.rottentomatoes.com/celebrity/chris_tucker\">Chris Tucker</a>, <a class=\"\" href=\"//www.rottentomatoes.com/celebrity/tom_wilkenson\">Tom Wilkinson</a>, <a class=\"\" href=\"//www.rottentomatoes.com/celebrity/elizabeth_pena\">Elizabeth Peña</a></div>\n",
              "<div class=\"info director\">\n",
              "<span class=\"descriptor\">Directed By:</span> <a class=\"\" href=\"//www.rottentomatoes.com/celebrity/brett_ratner\">Brett Ratner</a></div>\n",
              "</div>\n",
              "</div>"
            ]
          },
          "metadata": {},
          "execution_count": 111
        }
      ]
    },
    {
      "cell_type": "code",
      "metadata": {
        "colab": {
          "base_uri": "https://localhost:8080/"
        },
        "id": "ySJ17DWqe7_Y",
        "outputId": "3933ffac-dfea-4ecd-d682-6d8ba45cc7d3"
      },
      "source": [
        "directores = [film.find('div', {'class':'info director'}) for film in film_details_divs]\n",
        "directores"
      ],
      "execution_count": null,
      "outputs": [
        {
          "output_type": "execute_result",
          "data": {
            "text/plain": [
              "[<div class=\"info director\">\n",
              " <span class=\"descriptor\">Directed By:</span> <a class=\"\" href=\"//www.rottentomatoes.com/celebrity/peter_hyams\">Peter Hyams</a></div>,\n",
              " <div class=\"info director\">\n",
              " <span class=\"descriptor\">Directed By:</span> <a class=\"\" href=\"//www.rottentomatoes.com/celebrity/kurt_wimmer\">Kurt Wimmer</a></div>,\n",
              " <div class=\"info director\">\n",
              " <span class=\"descriptor\">Directed By:</span> <a class=\"\" href=\"//www.rottentomatoes.com/celebrity/zhang_yimou\">Zhang Yimou</a></div>,\n",
              " <div class=\"info director\">\n",
              " <span class=\"descriptor\">Directed By:</span> <a class=\"\" href=\"//www.rottentomatoes.com/celebrity/rowdy_herrington\">Rowdy Herrington</a></div>,\n",
              " <div class=\"info director\">\n",
              " <span class=\"descriptor\">Directed By:</span> <a class=\"\" href=\"//www.rottentomatoes.com/celebrity/tony_scott\">Tony Scott</a></div>,\n",
              " <div class=\"info director\">\n",
              " <span class=\"descriptor\">Directed By:</span> <a class=\"\" href=\"//www.rottentomatoes.com/celebrity/gordon_parks\">Gordon Parks</a></div>,\n",
              " <div class=\"info director\">\n",
              " <span class=\"descriptor\">Directed By:</span> <a class=\"\" href=\"//www.rottentomatoes.com/celebrity/jeong_byeong_gil\">Jeong Byeong-gil</a></div>,\n",
              " <div class=\"info director\">\n",
              " <span class=\"descriptor\">Directed By:</span> <a class=\"\" href=\"//www.rottentomatoes.com/celebrity/russell_mulcahy\">Russell Mulcahy</a></div>,\n",
              " <div class=\"info director\">\n",
              " <span class=\"descriptor\">Directed By:</span> <a class=\"\" href=\"//www.rottentomatoes.com/celebrity/renny_harlin\">Renny Harlin</a></div>,\n",
              " <div class=\"info director\">\n",
              " <span class=\"descriptor\">Directed By:</span> <a class=\"\" href=\"//www.rottentomatoes.com/celebrity/jon_turteltaub\">Jon Turteltaub</a></div>,\n",
              " <div class=\"info director\">\n",
              " <span class=\"descriptor\">Directed By:</span> <a class=\"\" href=\"//www.rottentomatoes.com/celebrity/prachya_pinkaew\">Prachya Pinkaew</a></div>,\n",
              " <div class=\"info director\">\n",
              " <span class=\"descriptor\">Directed By:</span> <a class=\"\" href=\"//www.rottentomatoes.com/celebrity/coralie_fargeat\">Coralie Fargeat</a></div>,\n",
              " <div class=\"info director\">\n",
              " <span class=\"descriptor\">Directed By:</span> <a class=\"\" href=\"//www.rottentomatoes.com/celebrity/robert_rodriguez\">Robert Rodriguez</a></div>,\n",
              " <div class=\"info director\">\n",
              " <span class=\"descriptor\">Directed By:</span> <a class=\"\" href=\"//www.rottentomatoes.com/celebrity/king_hu\">King Hu</a></div>,\n",
              " <div class=\"info director\">\n",
              " <span class=\"descriptor\">Directed By:</span> <a class=\"\" href=\"//www.rottentomatoes.com/celebrity/tony_scott\">Tony Scott</a></div>,\n",
              " <div class=\"info director\">\n",
              " <span class=\"descriptor\">Directed By:</span> <a class=\"\" href=\"//www.rottentomatoes.com/celebrity/simon_west_2\">Simon West</a></div>,\n",
              " <div class=\"info director\">\n",
              " <span class=\"descriptor\">Directed By:</span> <a class=\"\" href=\"//www.rottentomatoes.com/celebrity/simon_west_2\">Simon West</a></div>,\n",
              " <div class=\"info director\">\n",
              " <span class=\"descriptor\">Directed By:</span> <a class=\"\" href=\"//www.rottentomatoes.com/celebrity/stephen_sommers\">Stephen Sommers</a></div>,\n",
              " None,\n",
              " <div class=\"info director\">\n",
              " <span class=\"descriptor\">Directed By:</span> <a class=\"\" href=\"//www.rottentomatoes.com/celebrity/brett_ratner\">Brett Ratner</a></div>,\n",
              " <div class=\"info director\">\n",
              " <span class=\"descriptor\">Directed By:</span> <a class=\"\" href=\"//www.rottentomatoes.com/celebrity/antoine_fuqua\">Antoine Fuqua</a></div>,\n",
              " <div class=\"info director\">\n",
              " <span class=\"descriptor\">Directed By:</span> <a class=\"\" href=\"//www.rottentomatoes.com/celebrity/anthony_russo\">Anthony Russo</a>, <a class=\"\" href=\"//www.rottentomatoes.com/celebrity/joseph_russo\">Joe Russo</a></div>,\n",
              " <div class=\"info director\">\n",
              " <span class=\"descriptor\">Directed By:</span> <a class=\"\" href=\"//www.rottentomatoes.com/celebrity/wolfgang_petersen\">Wolfgang Petersen</a></div>,\n",
              " <div class=\"info director\">\n",
              " <span class=\"descriptor\">Directed By:</span> <a class=\"\" href=\"//www.rottentomatoes.com/celebrity/newton_d_arnold\">Newt Arnold</a></div>,\n",
              " <div class=\"info director\">\n",
              " <span class=\"descriptor\">Directed By:</span> <a class=\"\" href=\"//www.rottentomatoes.com/celebrity/steve_norrington\">Stephen Norrington</a></div>,\n",
              " <div class=\"info director\">\n",
              " <span class=\"descriptor\">Directed By:</span> <a class=\"\" href=\"//www.rottentomatoes.com/celebrity/michael_bay\">Michael Bay</a></div>,\n",
              " <div class=\"info director\">\n",
              " <span class=\"descriptor\">Directed By:</span> <a class=\"\" href=\"//www.rottentomatoes.com/celebrity/john_mctiernan\">John McTiernan</a></div>,\n",
              " <div class=\"info director\">\n",
              " <span class=\"descriptor\">Directed By:</span> <a class=\"\" href=\"//www.rottentomatoes.com/celebrity/paul_michael_glaser\">Paul Michael Glaser</a></div>,\n",
              " <div class=\"info director\">\n",
              " <span class=\"descriptor\">Directed By:</span> <a class=\"\" href=\"//www.rottentomatoes.com/celebrity/1022918-andrew_davis\">Andrew Davis</a></div>,\n",
              " <div class=\"info director\">\n",
              " <span class=\"descriptor\">Directed By:</span> <a class=\"\" href=\"//www.rottentomatoes.com/celebrity/michael_davis_4\">Michael Davis</a></div>,\n",
              " <div class=\"info director\">\n",
              " <span class=\"descriptor\">Directed By:</span> <a class=\"\" href=\"//www.rottentomatoes.com/celebrity/mark_neveldine\">Mark Neveldine</a>, <a class=\"\" href=\"//www.rottentomatoes.com/celebrity/brian_taylor\">Brian Taylor</a></div>,\n",
              " <div class=\"info director\">\n",
              " <span class=\"descriptor\">Directed By:</span> <a class=\"\" href=\"//www.rottentomatoes.com/celebrity/robert_rodriguez\">Robert Rodriguez</a></div>,\n",
              " <div class=\"info director\">\n",
              " <span class=\"descriptor\">Directed By:</span> <a class=\"\" href=\"//www.rottentomatoes.com/celebrity/nicolaswindingrefn\">Nicolas Winding Refn</a></div>,\n",
              " <div class=\"info director\">\n",
              " <span class=\"descriptor\">Directed By:</span> <a class=\"\" href=\"//www.rottentomatoes.com/celebrity/tim_burton\">Tim Burton</a></div>,\n",
              " <div class=\"info director\">\n",
              " <span class=\"descriptor\">Directed By:</span> <a class=\"\" href=\"//www.rottentomatoes.com/celebrity/1022918-andrew_davis\">Andrew Davis</a></div>,\n",
              " <div class=\"info director\">\n",
              " <span class=\"descriptor\">Directed By:</span> <a class=\"\" href=\"//www.rottentomatoes.com/celebrity/roland_emmerich\">Roland Emmerich</a></div>,\n",
              " <div class=\"info director\">\n",
              " <span class=\"descriptor\">Directed By:</span> <a class=\"\" href=\"//www.rottentomatoes.com/celebrity/peter_yates\">Peter Yates</a></div>,\n",
              " <div class=\"info director\">\n",
              " <span class=\"descriptor\">Directed By:</span> <a class=\"\" href=\"//www.rottentomatoes.com/celebrity/timur_bekmambetov\">Timur Bekmambetov</a></div>,\n",
              " <div class=\"info director\">\n",
              " <span class=\"descriptor\">Directed By:</span> <a class=\"\" href=\"//www.rottentomatoes.com/celebrity/richard_donner\">Richard Donner</a></div>,\n",
              " <div class=\"info director\">\n",
              " <span class=\"descriptor\">Directed By:</span> <a class=\"\" href=\"//www.rottentomatoes.com/celebrity/john_frankenheimer\">John Frankenheimer</a></div>,\n",
              " <div class=\"info director\">\n",
              " <span class=\"descriptor\">Directed By:</span> <a class=\"\" href=\"//www.rottentomatoes.com/celebrity/rip_haight\">John Carpenter</a></div>,\n",
              " <div class=\"info director\">\n",
              " <span class=\"descriptor\">Directed By:</span> <a class=\"\" href=\"//www.rottentomatoes.com/celebrity/renny_harlin\">Renny Harlin</a></div>,\n",
              " <div class=\"info director\">\n",
              " <span class=\"descriptor\">Directed By:</span> <a class=\"\" href=\"//www.rottentomatoes.com/celebrity/1060778-joss_whedon\">Joss Whedon</a></div>,\n",
              " <div class=\"info director\">\n",
              " <span class=\"descriptor\">Directed By:</span> <a class=\"\" href=\"//www.rottentomatoes.com/celebrity/edgar_wright\">Edgar Wright</a></div>,\n",
              " <div class=\"info director\">\n",
              " <span class=\"descriptor\">Directed By:</span> <a class=\"\" href=\"//www.rottentomatoes.com/celebrity/walter_hill\">Walter Hill</a></div>,\n",
              " <div class=\"info director\">\n",
              " <span class=\"descriptor\">Directed By:</span> <a class=\"\" href=\"//www.rottentomatoes.com/celebrity/paul_verhoeven\">Paul Verhoeven</a></div>,\n",
              " <div class=\"info director\">\n",
              " <span class=\"descriptor\">Directed By:</span> <a class=\"\" href=\"//www.rottentomatoes.com/celebrity/jose_padilha\">José Padilha</a></div>,\n",
              " <div class=\"info director\">\n",
              " <span class=\"descriptor\">Directed By:</span> <a class=\"\" href=\"//www.rottentomatoes.com/celebrity/kathryn_bigelow\">Kathryn Bigelow</a></div>,\n",
              " <div class=\"info director\">\n",
              " <span class=\"descriptor\">Directed By:</span> <a class=\"\" href=\"//www.rottentomatoes.com/celebrity/renny_harlin\">Renny Harlin</a></div>,\n",
              " <div class=\"info director\">\n",
              " <span class=\"descriptor\">Directed By:</span> <a class=\"\" href=\"//www.rottentomatoes.com/celebrity/adam_wingard\">Adam Wingard</a></div>,\n",
              " <div class=\"info director\">\n",
              " <span class=\"descriptor\">Directed By:</span> <a class=\"\" href=\"//www.rottentomatoes.com/celebrity/pierre-morel\">Pierre Morel</a></div>,\n",
              " <div class=\"info director\">\n",
              " <span class=\"descriptor\">Directed By:</span> <a class=\"\" href=\"//www.rottentomatoes.com/celebrity/zack_snyder\">Zack Snyder</a></div>,\n",
              " <div class=\"info director\">\n",
              " <span class=\"descriptor\">Directed By:</span> <a class=\"\" href=\"//www.rottentomatoes.com/celebrity/james_cameron\">James Cameron</a></div>,\n",
              " <div class=\"info director\">\n",
              " <span class=\"descriptor\">Directed By:</span> <a class=\"\" href=\"//www.rottentomatoes.com/celebrity/marco_brambilla\">Marco Brambilla</a></div>,\n",
              " <div class=\"info director\">\n",
              " <span class=\"descriptor\">Directed By:</span> <a class=\"\" href=\"//www.rottentomatoes.com/celebrity/ilya_naishuller\">Ilya Naishuller</a></div>,\n",
              " <div class=\"info director\">\n",
              " <span class=\"descriptor\">Directed By:</span> <a class=\"\" href=\"//www.rottentomatoes.com/celebrity/jackie_chan\">Jackie Chan</a>, <a class=\"\" href=\"//www.rottentomatoes.com/celebrity/chihwa_chen\">Chi-Hwa Chen</a></div>,\n",
              " <div class=\"info director\">\n",
              " <span class=\"descriptor\">Directed By:</span> <a class=\"\" href=\"//www.rottentomatoes.com/celebrity/christophe_gans\">Christophe Gans</a></div>,\n",
              " <div class=\"info director\">\n",
              " <span class=\"descriptor\">Directed By:</span> <a class=\"\" href=\"//www.rottentomatoes.com/celebrity/matthew_vaughn\">Matthew Vaughn</a></div>,\n",
              " <div class=\"info director\">\n",
              " <span class=\"descriptor\">Directed By:</span> <a class=\"\" href=\"//www.rottentomatoes.com/celebrity/luc_besson\">Luc Besson</a></div>,\n",
              " <div class=\"info director\">\n",
              " <span class=\"descriptor\">Directed By:</span> <a class=\"\" href=\"//www.rottentomatoes.com/celebrity/rip_haight\">John Carpenter</a></div>,\n",
              " <div class=\"info director\">\n",
              " <span class=\"descriptor\">Directed By:</span> <a class=\"\" href=\"//www.rottentomatoes.com/celebrity/david_leitch\">David Leitch</a></div>,\n",
              " <div class=\"info director\">\n",
              " <span class=\"descriptor\">Directed By:</span> <a class=\"\" href=\"//www.rottentomatoes.com/celebrity/stanley_tong\">Stanley Tong</a></div>,\n",
              " <div class=\"info director\">\n",
              " <span class=\"descriptor\">Directed By:</span> <a class=\"\" href=\"//www.rottentomatoes.com/celebrity/pierre-morel\">Pierre Morel</a></div>,\n",
              " <div class=\"info director\">\n",
              " <span class=\"descriptor\">Directed By:</span> <a class=\"\" href=\"//www.rottentomatoes.com/celebrity/martin_brest\">Martin Brest</a></div>,\n",
              " <div class=\"info director\">\n",
              " <span class=\"descriptor\">Directed By:</span> <a class=\"\" href=\"//www.rottentomatoes.com/celebrity/prachya_pinkaew\">Prachya Pinkaew</a></div>,\n",
              " <div class=\"info director\">\n",
              " <span class=\"descriptor\">Directed By:</span> <a class=\"\" href=\"//www.rottentomatoes.com/celebrity/michael_mann\">Michael Mann</a></div>,\n",
              " <div class=\"info director\">\n",
              " <span class=\"descriptor\">Directed By:</span> <a class=\"\" href=\"//www.rottentomatoes.com/celebrity/yuen_woping\">Woo-Ping Yuen</a></div>,\n",
              " <div class=\"info director\">\n",
              " <span class=\"descriptor\">Directed By:</span> <a class=\"\" href=\"//www.rottentomatoes.com/celebrity/rip_haight\">John Carpenter</a></div>,\n",
              " <div class=\"info director\">\n",
              " <span class=\"descriptor\">Directed By:</span> <a class=\"\" href=\"//www.rottentomatoes.com/celebrity/kinji_fukasaku\">Kinji Fukasaku</a></div>,\n",
              " <div class=\"info director\">\n",
              " <span class=\"descriptor\">Directed By:</span> <a class=\"\" href=\"//www.rottentomatoes.com/celebrity/sam_raimi\">Sam Raimi</a></div>,\n",
              " <div class=\"info director\">\n",
              " <span class=\"descriptor\">Directed By:</span> <a class=\"\" href=\"//www.rottentomatoes.com/celebrity/takashi_miike\">Takashi Miike</a></div>,\n",
              " <div class=\"info director\">\n",
              " <span class=\"descriptor\">Directed By:</span> <a class=\"\" href=\"//www.rottentomatoes.com/celebrity/ringo_lam\">Ringo Lam</a></div>,\n",
              " <div class=\"info director\">\n",
              " <span class=\"descriptor\">Directed By:</span> <a class=\"\" href=\"//www.rottentomatoes.com/celebrity/steve_spielberg\">Steven Spielberg</a></div>,\n",
              " <div class=\"info director\">\n",
              " <span class=\"descriptor\">Directed By:</span> <a class=\"\" href=\"//www.rottentomatoes.com/celebrity/stephen_chow\">Stephen Chow</a></div>,\n",
              " <div class=\"info director\">\n",
              " <span class=\"descriptor\">Directed By:</span> <a class=\"\" href=\"//www.rottentomatoes.com/celebrity/john_woo\">John Woo</a></div>,\n",
              " <div class=\"info director\">\n",
              " <span class=\"descriptor\">Directed By:</span> <a class=\"\" href=\"//www.rottentomatoes.com/celebrity/jon_favreau_2\">Jon Favreau</a></div>,\n",
              " <div class=\"info director\">\n",
              " <span class=\"descriptor\">Directed By:</span> <a class=\"\" href=\"//www.rottentomatoes.com/celebrity/timo_tjahjanto\">Timo Tjahjanto</a></div>,\n",
              " <div class=\"info director\">\n",
              " <span class=\"descriptor\">Directed By:</span> <a class=\"\" href=\"//www.rottentomatoes.com/celebrity/james_mangold\">James Mangold</a></div>,\n",
              " <div class=\"info director\">\n",
              " <span class=\"descriptor\">Directed By:</span> <a class=\"\" href=\"//www.rottentomatoes.com/celebrity/guy_hamilton\">Guy Hamilton</a></div>,\n",
              " <div class=\"info director\">\n",
              " <span class=\"descriptor\">Directed By:</span> <a class=\"\" href=\"//www.rottentomatoes.com/celebrity/rip_haight\">John Carpenter</a></div>,\n",
              " <div class=\"info director\">\n",
              " <span class=\"descriptor\">Directed By:</span> <a class=\"\" href=\"//www.rottentomatoes.com/celebrity/patty_jenkins\">Patty Jenkins</a></div>,\n",
              " <div class=\"info director\">\n",
              " <span class=\"descriptor\">Directed By:</span> <a class=\"\" href=\"//www.rottentomatoes.com/celebrity/wei_lo\">Lo Wei</a></div>,\n",
              " <div class=\"info director\">\n",
              " <span class=\"descriptor\">Directed By:</span> <a class=\"\" href=\"//www.rottentomatoes.com/celebrity/anthony_russo\">Anthony Russo</a>, <a class=\"\" href=\"//www.rottentomatoes.com/celebrity/joseph_russo\">Joe Russo</a></div>,\n",
              " <div class=\"info director\">\n",
              " <span class=\"descriptor\">Directed By:</span> <a class=\"\" href=\"//www.rottentomatoes.com/celebrity/park_chanuk\">Park Chan-wook</a></div>,\n",
              " <div class=\"info director\">\n",
              " <span class=\"descriptor\">Directed By:</span> <a class=\"\" href=\"//www.rottentomatoes.com/celebrity/william_friedkin\">William Friedkin</a></div>,\n",
              " <div class=\"info director\">\n",
              " <span class=\"descriptor\">Directed By:</span> <a class=\"\" href=\"//www.rottentomatoes.com/celebrity/james_wan\">James Wan</a></div>,\n",
              " <div class=\"info director\">\n",
              " <span class=\"descriptor\">Directed By:</span> <a class=\"\" href=\"//www.rottentomatoes.com/celebrity/luc_besson\">Luc Besson</a></div>,\n",
              " <div class=\"info director\">\n",
              " <span class=\"descriptor\">Directed By:</span> <a class=\"\" href=\"//www.rottentomatoes.com/celebrity/stanley_tong\">Stanley Tong</a></div>,\n",
              " <div class=\"info director\">\n",
              " <span class=\"descriptor\">Directed By:</span> <a class=\"\" href=\"//www.rottentomatoes.com/celebrity/don_siegel\">Don Siegel</a></div>,\n",
              " <div class=\"info director\">\n",
              " <span class=\"descriptor\">Directed By:</span> <a class=\"\" href=\"//www.rottentomatoes.com/celebrity/doug_liman\">Doug Liman</a></div>,\n",
              " <div class=\"info director\">\n",
              " <span class=\"descriptor\">Directed By:</span> <a class=\"\" href=\"//www.rottentomatoes.com/celebrity/bryan_singer\">Bryan Singer</a></div>,\n",
              " <div class=\"info director\">\n",
              " <span class=\"descriptor\">Directed By:</span> <a class=\"\" href=\"//www.rottentomatoes.com/celebrity/1022918-andrew_davis\">Andrew Davis</a></div>,\n",
              " <div class=\"info director\">\n",
              " <span class=\"descriptor\">Directed By:</span> <a class=\"\" href=\"//www.rottentomatoes.com/celebrity/ryan_coogler\">Ryan Coogler</a></div>,\n",
              " <div class=\"info director\">\n",
              " <span class=\"descriptor\">Directed By:</span> <a class=\"\" href=\"//www.rottentomatoes.com/celebrity/christopher_nolan\">Christopher Nolan</a></div>,\n",
              " <div class=\"info director\">\n",
              " <span class=\"descriptor\">Directed By:</span> <a class=\"\" href=\"//www.rottentomatoes.com/celebrity/mel_gibson\">Mel Gibson</a></div>,\n",
              " <div class=\"info director\">\n",
              " <span class=\"descriptor\">Directed By:</span> <a class=\"\" href=\"//www.rottentomatoes.com/celebrity/steve_spielberg\">Steven Spielberg</a></div>,\n",
              " <div class=\"info director\">\n",
              " <span class=\"descriptor\">Directed By:</span> <a class=\"\" href=\"//www.rottentomatoes.com/celebrity/anthony_russo\">Anthony Russo</a>, <a class=\"\" href=\"//www.rottentomatoes.com/celebrity/joseph_russo\">Joe Russo</a></div>,\n",
              " <div class=\"info director\">\n",
              " <span class=\"descriptor\">Directed By:</span> <a class=\"\" href=\"//www.rottentomatoes.com/celebrity/pete_travis\">Pete Travis</a></div>,\n",
              " <div class=\"info director\">\n",
              " <span class=\"descriptor\">Directed By:</span> <a class=\"\" href=\"//www.rottentomatoes.com/celebrity/doug_liman\">Doug Liman</a></div>,\n",
              " <div class=\"info director\">\n",
              " <span class=\"descriptor\">Directed By:</span> <a class=\"\" href=\"//www.rottentomatoes.com/celebrity/wilson_yip\">Wilson Yip</a></div>,\n",
              " <div class=\"info director\">\n",
              " <span class=\"descriptor\">Directed By:</span> <a class=\"\" href=\"//www.rottentomatoes.com/celebrity/john_woo\">John Woo</a></div>,\n",
              " <div class=\"info director\">\n",
              " <span class=\"descriptor\">Directed By:</span> <a class=\"\" href=\"//www.rottentomatoes.com/celebrity/william_friedkin\">William Friedkin</a></div>,\n",
              " <div class=\"info director\">\n",
              " <span class=\"descriptor\">Directed By:</span> <a class=\"\" href=\"//www.rottentomatoes.com/celebrity/christopher_nolan\">Christopher Nolan</a></div>,\n",
              " <div class=\"info director\">\n",
              " <span class=\"descriptor\">Directed By:</span> <a class=\"\" href=\"//www.rottentomatoes.com/celebrity/brad_bird\">Brad Bird</a></div>,\n",
              " <div class=\"info director\">\n",
              " <span class=\"descriptor\">Directed By:</span> <a class=\"\" href=\"//www.rottentomatoes.com/celebrity/justin_lin\">Justin Lin</a></div>,\n",
              " <div class=\"info director\">\n",
              " <span class=\"descriptor\">Directed By:</span> <a class=\"\" href=\"//www.rottentomatoes.com/celebrity/richard_donner\">Richard Donner</a></div>,\n",
              " <div class=\"info director\">\n",
              " <span class=\"descriptor\">Directed By:</span> <a class=\"\" href=\"//www.rottentomatoes.com/celebrity/michael_bay\">Michael Bay</a></div>,\n",
              " <div class=\"info director\">\n",
              " <span class=\"descriptor\">Directed By:</span> <a class=\"\" href=\"//www.rottentomatoes.com/celebrity/paul_verhoeven\">Paul Verhoeven</a></div>,\n",
              " <div class=\"info director\">\n",
              " <span class=\"descriptor\">Directed By:</span> <a class=\"\" href=\"//www.rottentomatoes.com/celebrity/chad_stahelski\">Chad Stahelski</a></div>,\n",
              " <div class=\"info director\">\n",
              " <span class=\"descriptor\">Directed By:</span> <a class=\"\" href=\"//www.rottentomatoes.com/celebrity/martin_campbell\">Martin Campbell</a></div>,\n",
              " <div class=\"info director\">\n",
              " <span class=\"descriptor\">Directed By:</span> <a class=\"\" href=\"//www.rottentomatoes.com/celebrity/edgar_wright\">Edgar Wright</a></div>,\n",
              " <div class=\"info director\">\n",
              " <span class=\"descriptor\">Directed By:</span> <a class=\"\" href=\"//www.rottentomatoes.com/celebrity/gordon_chan\">Gordon Chan</a></div>,\n",
              " <div class=\"info director\">\n",
              " <span class=\"descriptor\">Directed By:</span> <a class=\"\" href=\"//www.rottentomatoes.com/celebrity/john_woo\">John Woo</a></div>,\n",
              " <div class=\"info director\">\n",
              " <span class=\"descriptor\">Directed By:</span> <a class=\"\" href=\"//www.rottentomatoes.com/celebrity/gareth_evans\">Gareth Evans</a></div>,\n",
              " <div class=\"info director\">\n",
              " <span class=\"descriptor\">Directed By:</span> <a class=\"\" href=\"//www.rottentomatoes.com/celebrity/robert_clouse\">Robert Clouse</a></div>,\n",
              " <div class=\"info director\">\n",
              " <span class=\"descriptor\">Directed By:</span> <a class=\"\" href=\"//www.rottentomatoes.com/celebrity/mark_l_lester\">Mark L. Lester</a></div>,\n",
              " <div class=\"info director\">\n",
              " <span class=\"descriptor\">Directed By:</span> <a class=\"\" href=\"//www.rottentomatoes.com/celebrity/ted_kotcheff\">Ted Kotcheff</a></div>,\n",
              " <div class=\"info director\">\n",
              " <span class=\"descriptor\">Directed By:</span> <a class=\"\" href=\"//www.rottentomatoes.com/celebrity/christopher_mcquarrie\">Christopher McQuarrie</a></div>,\n",
              " <div class=\"info director\">\n",
              " <span class=\"descriptor\">Directed By:</span> <a class=\"\" href=\"//www.rottentomatoes.com/celebrity/james_cameron\">James Cameron</a></div>,\n",
              " <div class=\"info director\">\n",
              " <span class=\"descriptor\">Directed By:</span> <a class=\"\" href=\"//www.rottentomatoes.com/celebrity/ridley_scott\">Ridley Scott</a></div>,\n",
              " <div class=\"info director\">\n",
              " <span class=\"descriptor\">Directed By:</span> <a class=\"\" href=\"//www.rottentomatoes.com/celebrity/quentin_tarantino\">Quentin Tarantino</a></div>,\n",
              " <div class=\"info director\">\n",
              " <span class=\"descriptor\">Directed By:</span> <a class=\"\" href=\"//www.rottentomatoes.com/celebrity/luc_besson\">Luc Besson</a></div>,\n",
              " <div class=\"info director\">\n",
              " <span class=\"descriptor\">Directed By:</span> <a class=\"\" href=\"//www.rottentomatoes.com/celebrity/jan_de_bont\">Jan de Bont</a></div>,\n",
              " <div class=\"info director\">\n",
              " <span class=\"descriptor\">Directed By:</span> <a class=\"\" href=\"//www.rottentomatoes.com/celebrity/liu_chialiang\">Chia-Liang Liu</a></div>,\n",
              " <div class=\"info director\">\n",
              " <span class=\"descriptor\">Directed By:</span> <a class=\"\" href=\"//www.rottentomatoes.com/celebrity/chad_stahelski\">Chad Stahelski</a></div>,\n",
              " <div class=\"info director\">\n",
              " <span class=\"descriptor\">Directed By:</span> <a class=\"\" href=\"//www.rottentomatoes.com/celebrity/ang_lee\">Ang Lee</a></div>,\n",
              " <div class=\"info director\">\n",
              " <span class=\"descriptor\">Directed By:</span> <a class=\"\" href=\"//www.rottentomatoes.com/celebrity/john_mctiernan\">John McTiernan</a></div>,\n",
              " <div class=\"info director\">\n",
              " <span class=\"descriptor\">Directed By:</span> <a class=\"\" href=\"//www.rottentomatoes.com/celebrity/paul_greengrass\">Paul Greengrass</a></div>,\n",
              " <div class=\"info director\">\n",
              " <span class=\"descriptor\">Directed By:</span> <a class=\"\" href=\"//www.rottentomatoes.com/celebrity/paul_verhoeven\">Paul Verhoeven</a></div>,\n",
              " <div class=\"info director\">\n",
              " <span class=\"descriptor\">Directed By:</span> <a class=\"\" href=\"//www.rottentomatoes.com/celebrity/george_miller\">George Miller</a></div>,\n",
              " <div class=\"info director\">\n",
              " <span class=\"descriptor\">Directed By:</span> <a class=\"\" href=\"//www.rottentomatoes.com/celebrity/michael_mann\">Michael Mann</a></div>,\n",
              " <div class=\"info director\">\n",
              " <span class=\"descriptor\">Directed By:</span> <a class=\"\" href=\"//www.rottentomatoes.com/celebrity/gareth_evans\">Gareth Huw Evans</a></div>,\n",
              " <div class=\"info director\">\n",
              " <span class=\"descriptor\">Directed By:</span> <a class=\"\" href=\"//www.rottentomatoes.com/celebrity/christopher_mcquarrie\">Christopher McQuarrie</a></div>,\n",
              " <div class=\"info director\">\n",
              " <span class=\"descriptor\">Directed By:</span> <a class=\"\" href=\"//www.rottentomatoes.com/celebrity/steve_spielberg\">Steven Spielberg</a></div>,\n",
              " <div class=\"info director\">\n",
              " <span class=\"descriptor\">Directed By:</span> <a class=\"\" href=\"//www.rottentomatoes.com/celebrity/james_cameron\">James Cameron</a></div>,\n",
              " <div class=\"info director\">\n",
              " <span class=\"descriptor\">Directed By:</span> <a class=\"\" href=\"//www.rottentomatoes.com/celebrity/john_woo\">John Woo</a></div>,\n",
              " <div class=\"info director\">\n",
              " <span class=\"descriptor\">Directed By:</span> <a class=\"\" href=\"//www.rottentomatoes.com/celebrity/lilly_wachowski\">Andy Wachowski</a>, <a class=\"\" href=\"//www.rottentomatoes.com/celebrity/lana_wachowski\">Larry Wachowski</a></div>,\n",
              " <div class=\"info director\">\n",
              " <span class=\"descriptor\">Directed By:</span> <a class=\"\" href=\"//www.rottentomatoes.com/celebrity/james_cameron\">James Cameron</a></div>,\n",
              " <div class=\"info director\">\n",
              " <span class=\"descriptor\">Directed By:</span> <a class=\"\" href=\"//www.rottentomatoes.com/celebrity/john_mctiernan\">John McTiernan</a></div>,\n",
              " <div class=\"info director\">\n",
              " <span class=\"descriptor\">Directed By:</span> <a class=\"\" href=\"//www.rottentomatoes.com/celebrity/george_miller\">George Miller</a></div>]"
            ]
          },
          "metadata": {},
          "execution_count": 115
        }
      ]
    },
    {
      "cell_type": "code",
      "metadata": {
        "colab": {
          "base_uri": "https://localhost:8080/"
        },
        "id": "TM9K0Nrfg8dR",
        "outputId": "7348b6cd-4830-4aed-d1a1-66755f9c7190"
      },
      "source": [
        "films_directors = [director.find('a').string if director != None else None for director in directores]\n",
        "films_directors\n",
        "#len(films_directors)"
      ],
      "execution_count": null,
      "outputs": [
        {
          "output_type": "execute_result",
          "data": {
            "text/plain": [
              "140"
            ]
          },
          "metadata": {},
          "execution_count": 120
        }
      ]
    },
    {
      "cell_type": "markdown",
      "metadata": {
        "id": "8AeOVoVyWT5w"
      },
      "source": [
        "**Extract Casting team in movies**"
      ]
    },
    {
      "cell_type": "code",
      "metadata": {
        "colab": {
          "base_uri": "https://localhost:8080/"
        },
        "id": "sCLVYEdVWZ-j",
        "outputId": "e209db0a-c55c-4190-f542-c3805b8e6372"
      },
      "source": [
        "film_details_divs[0]\n"
      ],
      "execution_count": null,
      "outputs": [
        {
          "output_type": "execute_result",
          "data": {
            "text/plain": [
              "<div class=\"row countdown-item-details\">\n",
              "<div class=\"col-sm-24\">\n",
              "<div class=\"info countdown-adjusted-score\"><span class=\"descriptor\">Adjusted Score: </span>58270% <span class=\"glyphicon glyphicon-question-sign\" data-html=\"true\" data-original-title=\"The Adjusted Score comes from a weighted formula (Bayesian) that we use that accounts for variation in the number of reviews per movie.\" data-placement=\"top\" data-toggle=\"tooltip\" rel=\"tooltip\" title=\"\"></span></div>\n",
              "<div class=\"info critics-consensus\"><span class=\"descriptor\">Critics Consensus:</span> <em>Running Scared</em> struggles to strike a consistent balance between violent action and humor, but the chemistry between its well-matched leads keeps things entertaining.</div>\n",
              "<div class=\"info synopsis\"><span class=\"descriptor\">Synopsis:</span> Ray and Danny (Gregory Hines, Billy Crystal) are two Chicago police detectives hot on the trail of drug kingpin Julio...<a class=\"\" data-pageheader=\"\" href=\"https://www.rottentomatoes.com/m/1018009-running_scared\" target=\"_top\"> [More]</a></div>\n",
              "<div class=\"info cast\">\n",
              "<span class=\"descriptor\">Starring:</span> <a class=\"\" href=\"//www.rottentomatoes.com/celebrity/gregory_hines\">Gregory Hines</a>, <a class=\"\" href=\"//www.rottentomatoes.com/celebrity/billy_crystal\">Billy Crystal</a>, <a class=\"\" href=\"//www.rottentomatoes.com/celebrity/jimmy_smits\">Jimmy Smits</a>, <a class=\"\" href=\"//www.rottentomatoes.com/celebrity/steven_bauer\">Steven Bauer</a></div>\n",
              "<div class=\"info director\">\n",
              "<span class=\"descriptor\">Directed By:</span> <a class=\"\" href=\"//www.rottentomatoes.com/celebrity/peter_hyams\">Peter Hyams</a></div>\n",
              "</div>\n",
              "</div>"
            ]
          },
          "metadata": {},
          "execution_count": 91
        }
      ]
    },
    {
      "cell_type": "code",
      "metadata": {
        "colab": {
          "base_uri": "https://localhost:8080/"
        },
        "id": "r-U5O0yyXyvc",
        "outputId": "dd279058-e488-44c8-9080-162d39bdd3f4"
      },
      "source": [
        "casting_divs = soup.find_all('div', {'class':'info cast'})\n",
        "casting_divs[0]"
      ],
      "execution_count": null,
      "outputs": [
        {
          "output_type": "execute_result",
          "data": {
            "text/plain": [
              "<div class=\"info cast\">\n",
              "<span class=\"descriptor\">Starring:</span> <a class=\"\" href=\"//www.rottentomatoes.com/celebrity/gregory_hines\">Gregory Hines</a>, <a class=\"\" href=\"//www.rottentomatoes.com/celebrity/billy_crystal\">Billy Crystal</a>, <a class=\"\" href=\"//www.rottentomatoes.com/celebrity/jimmy_smits\">Jimmy Smits</a>, <a class=\"\" href=\"//www.rottentomatoes.com/celebrity/steven_bauer\">Steven Bauer</a></div>"
            ]
          },
          "metadata": {},
          "execution_count": 92
        }
      ]
    },
    {
      "cell_type": "code",
      "metadata": {
        "colab": {
          "base_uri": "https://localhost:8080/"
        },
        "id": "_cTPJ08eYJEy",
        "outputId": "71973a14-5bd2-47a4-87bb-a4b928e4d9cf"
      },
      "source": [
        "casting_movies = []\n",
        "\n",
        "for div in casting_divs:\n",
        "  link_result = div.find_all('a')\n",
        "  text_result = [link.string for link in link_result]\n",
        "  final_result = \", \".join(text_result)\n",
        "  casting_movies.append(final_result)\n",
        " \n",
        "casting_movies\n",
        "len(casting_movies)"
      ],
      "execution_count": null,
      "outputs": [
        {
          "output_type": "execute_result",
          "data": {
            "text/plain": [
              "139"
            ]
          },
          "metadata": {},
          "execution_count": 130
        }
      ]
    },
    {
      "cell_type": "markdown",
      "metadata": {
        "id": "jJ6BixCsa-WM"
      },
      "source": [
        "**Adjusted Score**"
      ]
    },
    {
      "cell_type": "code",
      "metadata": {
        "colab": {
          "base_uri": "https://localhost:8080/"
        },
        "id": "7LChNJImbEhF",
        "outputId": "57af766c-0fad-41d9-bc93-9a0bcf1f24cb"
      },
      "source": [
        "film_details_divs[0]"
      ],
      "execution_count": null,
      "outputs": [
        {
          "output_type": "execute_result",
          "data": {
            "text/plain": [
              "<div class=\"row countdown-item-details\">\n",
              "<div class=\"col-sm-24\">\n",
              "<div class=\"info countdown-adjusted-score\"><span class=\"descriptor\">Adjusted Score: </span>58270% <span class=\"glyphicon glyphicon-question-sign\" data-html=\"true\" data-original-title=\"The Adjusted Score comes from a weighted formula (Bayesian) that we use that accounts for variation in the number of reviews per movie.\" data-placement=\"top\" data-toggle=\"tooltip\" rel=\"tooltip\" title=\"\"></span></div>\n",
              "<div class=\"info critics-consensus\"><span class=\"descriptor\">Critics Consensus:</span> <em>Running Scared</em> struggles to strike a consistent balance between violent action and humor, but the chemistry between its well-matched leads keeps things entertaining.</div>\n",
              "<div class=\"info synopsis\"><span class=\"descriptor\">Synopsis:</span> Ray and Danny (Gregory Hines, Billy Crystal) are two Chicago police detectives hot on the trail of drug kingpin Julio...<a class=\"\" data-pageheader=\"\" href=\"https://www.rottentomatoes.com/m/1018009-running_scared\" target=\"_top\"> [More]</a></div>\n",
              "<div class=\"info cast\">\n",
              "<span class=\"descriptor\">Starring:</span> <a class=\"\" href=\"//www.rottentomatoes.com/celebrity/gregory_hines\">Gregory Hines</a>, <a class=\"\" href=\"//www.rottentomatoes.com/celebrity/billy_crystal\">Billy Crystal</a>, <a class=\"\" href=\"//www.rottentomatoes.com/celebrity/jimmy_smits\">Jimmy Smits</a>, <a class=\"\" href=\"//www.rottentomatoes.com/celebrity/steven_bauer\">Steven Bauer</a></div>\n",
              "<div class=\"info director\">\n",
              "<span class=\"descriptor\">Directed By:</span> <a class=\"\" href=\"//www.rottentomatoes.com/celebrity/peter_hyams\">Peter Hyams</a></div>\n",
              "</div>\n",
              "</div>"
            ]
          },
          "metadata": {},
          "execution_count": 94
        }
      ]
    },
    {
      "cell_type": "code",
      "metadata": {
        "colab": {
          "base_uri": "https://localhost:8080/"
        },
        "id": "hRyW9H1gbICE",
        "outputId": "7333f4b3-1349-428e-f935-54faea743cc2"
      },
      "source": [
        "adjusted_score_divs = soup.find_all('div', {'class':'info countdown-adjusted-score'})\n",
        "adjusted_score_divs[6]"
      ],
      "execution_count": null,
      "outputs": [
        {
          "output_type": "execute_result",
          "data": {
            "text/plain": [
              "<div class=\"info countdown-adjusted-score\"><span class=\"descriptor\">Adjusted Score: </span>90778% <span class=\"glyphicon glyphicon-question-sign\" data-html=\"true\" data-original-title=\"The Adjusted Score comes from a weighted formula (Bayesian) that we use that accounts for variation in the number of reviews per movie.\" data-placement=\"top\" data-toggle=\"tooltip\" rel=\"tooltip\" title=\"\"></span></div>"
            ]
          },
          "metadata": {},
          "execution_count": 95
        }
      ]
    },
    {
      "cell_type": "code",
      "metadata": {
        "colab": {
          "base_uri": "https://localhost:8080/"
        },
        "id": "lMvTJ7-ydj6f",
        "outputId": "0807ae4b-635c-4763-f4ad-c92cc6c1ef50"
      },
      "source": [
        "#contents[1] : means adjusted_score in second elemnt in div tag\n",
        "adjusted_score = [div.contents[1] for div in adjusted_score_divs]\n",
        "#strip('% '): remove % and space from score\n",
        "adjusted_score = [score.strip('% ') for score in adjusted_score]\n",
        "#casting score from string to int\n",
        "adjusted_score = [int(score) for score in adjusted_score]\n",
        "adjusted_score\n",
        "#len(adjusted_score)"
      ],
      "execution_count": null,
      "outputs": [
        {
          "output_type": "execute_result",
          "data": {
            "text/plain": [
              "139"
            ]
          },
          "metadata": {},
          "execution_count": 119
        }
      ]
    },
    {
      "cell_type": "markdown",
      "metadata": {
        "id": "KoC1xFAAgFJY"
      },
      "source": [
        "**Extract Synopsis**"
      ]
    },
    {
      "cell_type": "code",
      "metadata": {
        "colab": {
          "base_uri": "https://localhost:8080/"
        },
        "id": "b_hMJykZgLw8",
        "outputId": "ee1b44bc-1457-4421-8789-bf35e9e98e22"
      },
      "source": [
        "film_details_divs[5]"
      ],
      "execution_count": null,
      "outputs": [
        {
          "output_type": "execute_result",
          "data": {
            "text/plain": [
              "<div class=\"row countdown-item-details\">\n",
              "<div class=\"col-sm-24\">\n",
              "<div class=\"info countdown-adjusted-score\"><span class=\"descriptor\">Adjusted Score: </span>91970% <span class=\"glyphicon glyphicon-question-sign\" data-html=\"true\" data-original-title=\"The Adjusted Score comes from a weighted formula (Bayesian) that we use that accounts for variation in the number of reviews per movie.\" data-placement=\"top\" data-toggle=\"tooltip\" rel=\"tooltip\" title=\"\"></span></div>\n",
              "<div class=\"info critics-consensus\"><span class=\"descriptor\">Critics Consensus:</span> This is the man that would risk his neck for his brother, man. Can you dig it?</div>\n",
              "<div class=\"info synopsis\"><span class=\"descriptor\">Synopsis:</span> John Shaft (Richard Roundtree) is the ultimate in suave black detectives. He first finds himself up against Bumpy (Moses Gunn),...<a class=\"\" data-pageheader=\"\" href=\"https://www.rottentomatoes.com/m/1018699-shaft\" target=\"_top\"> [More]</a></div>\n",
              "<div class=\"info cast\">\n",
              "<span class=\"descriptor\">Starring:</span> <a class=\"\" href=\"//www.rottentomatoes.com/celebrity/richard_rowntree\">Richard Roundtree</a>, <a class=\"\" href=\"//www.rottentomatoes.com/celebrity/moses_gunn\">Moses Gunn</a>, <a class=\"\" href=\"//www.rottentomatoes.com/celebrity/christopher_st_john\">Christopher St. John</a>, <a class=\"\" href=\"//www.rottentomatoes.com/celebrity/charles_cioffi\">Charles Cioffi</a></div>\n",
              "<div class=\"info director\">\n",
              "<span class=\"descriptor\">Directed By:</span> <a class=\"\" href=\"//www.rottentomatoes.com/celebrity/gordon_parks\">Gordon Parks</a></div>\n",
              "</div>\n",
              "</div>"
            ]
          },
          "metadata": {},
          "execution_count": 97
        }
      ]
    },
    {
      "cell_type": "code",
      "metadata": {
        "id": "xai4-AJXgftu"
      },
      "source": [
        "Synopsis_divs = soup.find_all('div', {'class':'info synopsis'})\n",
        "Synopsis_divs[0]"
      ],
      "execution_count": null,
      "outputs": []
    },
    {
      "cell_type": "code",
      "metadata": {
        "colab": {
          "base_uri": "https://localhost:8080/"
        },
        "id": "c0t3WvJ5g4P0",
        "outputId": "427783fb-a2cf-4e42-a1d6-295137491467"
      },
      "source": [
        "Synopsis = [div.contents[1] for div in Synopsis_divs]\n",
        "Synopsis\n",
        "#len(Synopsis)"
      ],
      "execution_count": null,
      "outputs": [
        {
          "output_type": "execute_result",
          "data": {
            "text/plain": [
              "139"
            ]
          },
          "metadata": {},
          "execution_count": 125
        }
      ]
    },
    {
      "cell_type": "markdown",
      "metadata": {
        "id": "gy0yGR_JjZvy"
      },
      "source": [
        "# **Representing Data in structured Form**"
      ]
    },
    {
      "cell_type": "code",
      "metadata": {
        "id": "LK47JZ9YjyLX"
      },
      "source": [
        "import pandas as pd"
      ],
      "execution_count": null,
      "outputs": []
    },
    {
      "cell_type": "markdown",
      "metadata": {
        "id": "RlRR2xHEjgmI"
      },
      "source": [
        "**1. Representing data as DataFrame**"
      ]
    },
    {
      "cell_type": "code",
      "metadata": {
        "colab": {
          "base_uri": "https://localhost:8080/",
          "height": 1000
        },
        "id": "-rDEaXc4j1xz",
        "outputId": "bb4f02ee-a273-4094-80a0-8a3df080ed4b"
      },
      "source": [
        "movies_info = pd.DataFrame()\n",
        "movies_info['Movie Title'] = film_title\n",
        "movies_info['Year'] = years\n",
        "movies_info['Score'] = scores\n",
        "#By default, if the length of the pandas Series does not match the length of the index of the DataFrame then NaN values will be filled in:\n",
        "movies_info['Cast'] = pd.Series(casting_movies)\n",
        "movies_info['Adjusted Score'] = pd.Series(adjusted_score)\n",
        "movies_info['Synopsis'] = pd.Series(Synopsis)\n",
        "movies_info['Critics Consensus'] = critics_consensus\n",
        "movies_info['Directors'] = films_directors\n",
        "\n",
        "\n",
        "movies_info"
      ],
      "execution_count": null,
      "outputs": [
        {
          "output_type": "execute_result",
          "data": {
            "text/html": [
              "<div>\n",
              "<style scoped>\n",
              "    .dataframe tbody tr th:only-of-type {\n",
              "        vertical-align: middle;\n",
              "    }\n",
              "\n",
              "    .dataframe tbody tr th {\n",
              "        vertical-align: top;\n",
              "    }\n",
              "\n",
              "    .dataframe thead th {\n",
              "        text-align: right;\n",
              "    }\n",
              "</style>\n",
              "<table border=\"1\" class=\"dataframe\">\n",
              "  <thead>\n",
              "    <tr style=\"text-align: right;\">\n",
              "      <th></th>\n",
              "      <th>Movie Title</th>\n",
              "      <th>Year</th>\n",
              "      <th>Score</th>\n",
              "      <th>Cast</th>\n",
              "      <th>Adjusted Score</th>\n",
              "      <th>Synopsis</th>\n",
              "      <th>Critics Consensus</th>\n",
              "      <th>Directors</th>\n",
              "    </tr>\n",
              "  </thead>\n",
              "  <tbody>\n",
              "    <tr>\n",
              "      <th>0</th>\n",
              "      <td>Running Scared</td>\n",
              "      <td>1986</td>\n",
              "      <td>57</td>\n",
              "      <td>[Gregory Hines, Billy Crystal, Jimmy Smits, Steven Bauer]</td>\n",
              "      <td>58270.0</td>\n",
              "      <td>Ray and Danny (Gregory Hines, Billy Crystal) are two Chicago police detectives hot on the trail of drug kingpin Julio...</td>\n",
              "      <td>ggles to strike a consistent balance between violent action and humor, but the chemistry between its well-matched leads keeps things entertaining.</td>\n",
              "      <td>Peter Hyams</td>\n",
              "    </tr>\n",
              "    <tr>\n",
              "      <th>1</th>\n",
              "      <td>Equilibrium</td>\n",
              "      <td>2002</td>\n",
              "      <td>41</td>\n",
              "      <td>[Christian Bale, Emily Watson, Taye Diggs, Angus Macfadyen]</td>\n",
              "      <td>42441.0</td>\n",
              "      <td>In a futuristic world, a regime has eliminated war by suppressing emotions: books, art and music are strictly forbidden and...</td>\n",
              "      <td>heated mishmash of other sci-fi movies.</td>\n",
              "      <td>Kurt Wimmer</td>\n",
              "    </tr>\n",
              "    <tr>\n",
              "      <th>2</th>\n",
              "      <td>Hero</td>\n",
              "      <td>2002</td>\n",
              "      <td>94</td>\n",
              "      <td>[Jet Li, Tony Leung Chiu Wai, Maggie Cheung Man-yuk, Donnie Yen]</td>\n",
              "      <td>101735.0</td>\n",
              "      <td>In this visually arresting martial arts epic set in ancient China, an unnamed fighter (Jet Li) is being honored for...</td>\n",
              "      <td>action sequences and epic historic sweep, Hero offers everything a martial arts fan could ask for.</td>\n",
              "      <td>Zhang Yimou</td>\n",
              "    </tr>\n",
              "    <tr>\n",
              "      <th>3</th>\n",
              "      <td>Road House</td>\n",
              "      <td>1989</td>\n",
              "      <td>40</td>\n",
              "      <td>[Patrick Swayze, Kelly Lynch, Sam Elliott, Ben Gazzara]</td>\n",
              "      <td>43351.0</td>\n",
              "      <td>The Double Deuce is the meanest, loudest and rowdiest bar south of the Mason-Dixon Line, and Dalton (Patrick Swayze) has...</td>\n",
              "      <td>is simply bad or so bad it's good depends largely on the audience's fondness for Swayze -- and tolerance for violently cheesy action.</td>\n",
              "      <td>Rowdy Herrington</td>\n",
              "    </tr>\n",
              "    <tr>\n",
              "      <th>4</th>\n",
              "      <td>Unstoppable</td>\n",
              "      <td>2010</td>\n",
              "      <td>87</td>\n",
              "      <td>[Denzel Washington, Chris Pine, Rosario Dawson, Kevin Dunn]</td>\n",
              "      <td>93189.0</td>\n",
              "      <td>When a massive, unmanned locomotive roars out of control, the threat is more ominous than just a derailment. The train...</td>\n",
              "      <td>relentless as the train at the center of the story, Unstoppable is perfect popcorn entertainment -- and director Tony Scott's best movie in years.</td>\n",
              "      <td>Tony Scott</td>\n",
              "    </tr>\n",
              "    <tr>\n",
              "      <th>...</th>\n",
              "      <td>...</td>\n",
              "      <td>...</td>\n",
              "      <td>...</td>\n",
              "      <td>...</td>\n",
              "      <td>...</td>\n",
              "      <td>...</td>\n",
              "      <td>...</td>\n",
              "      <td>...</td>\n",
              "    </tr>\n",
              "    <tr>\n",
              "      <th>135</th>\n",
              "      <td>Hard-Boiled</td>\n",
              "      <td>1992</td>\n",
              "      <td>94</td>\n",
              "      <td>[Keanu Reeves, Laurence Fishburne, Carrie-Anne Moss, Hugo Weaving]</td>\n",
              "      <td>93987.0</td>\n",
              "      <td>Neo (Keanu Reeves) believes that Morpheus (Laurence Fishburne), an elusive figure considered to be the most dangerous man alive, can...</td>\n",
              "      <td>action as well as surprising emotional resonance, Hard Boiled is a powerful thriller that hits hard in more ways than one.</td>\n",
              "      <td>John Woo</td>\n",
              "    </tr>\n",
              "    <tr>\n",
              "      <th>136</th>\n",
              "      <td>The Matrix</td>\n",
              "      <td>1999</td>\n",
              "      <td>88</td>\n",
              "      <td>[Arnold Schwarzenegger, Linda Hamilton, Edward Furlong, Robert Patrick]</td>\n",
              "      <td>98456.0</td>\n",
              "      <td>In this sequel set eleven years after \"The Terminator,\" young John Connor (Edward Furlong), the key to civilization's victory over...</td>\n",
              "      <td>wskis' imaginative vision, The Matrix is a smartly crafted combination of spectacular action and groundbreaking special effects.</td>\n",
              "      <td>Andy Wachowski</td>\n",
              "    </tr>\n",
              "    <tr>\n",
              "      <th>137</th>\n",
              "      <td>Terminator 2: Judgment Day</td>\n",
              "      <td>1991</td>\n",
              "      <td>93</td>\n",
              "      <td>[Bruce Willis, Alan Rickman, Bonnie Bedelia, Reginald VelJohnson]</td>\n",
              "      <td>99086.0</td>\n",
              "      <td>New York City policeman John McClane (Bruce Willis) is visiting his estranged wife (Bonnie Bedelia) and two daughters on Christmas...</td>\n",
              "      <td>ng action sequences and eye-popping visual effects, but what takes this sci-fi/ action landmark to the next level is the depth of the human (and cyborg) characters.</td>\n",
              "      <td>James Cameron</td>\n",
              "    </tr>\n",
              "    <tr>\n",
              "      <th>138</th>\n",
              "      <td>Die Hard</td>\n",
              "      <td>1988</td>\n",
              "      <td>94</td>\n",
              "      <td>[Tom Hardy, Charlize Theron, Nicholas Hoult, Hugh Keays-Byrne]</td>\n",
              "      <td>114372.0</td>\n",
              "      <td>Years after the collapse of civilization, the tyrannical Immortan Joe enslaves apocalypse survivors inside the desert fortress the Citadel. When...</td>\n",
              "      <td>(and sequels) have never come close to matching the taut thrills of the definitive holiday action classic.</td>\n",
              "      <td>John McTiernan</td>\n",
              "    </tr>\n",
              "    <tr>\n",
              "      <th>139</th>\n",
              "      <td>Mad Max: Fury Road</td>\n",
              "      <td>2015</td>\n",
              "      <td>97</td>\n",
              "      <td>NaN</td>\n",
              "      <td>NaN</td>\n",
              "      <td>NaN</td>\n",
              "      <td>ction and a surprising amount of narrative heft, Mad Max: Fury Road brings George Miller's post-apocalyptic franchise roaring vigorously back to life.</td>\n",
              "      <td>George Miller</td>\n",
              "    </tr>\n",
              "  </tbody>\n",
              "</table>\n",
              "<p>140 rows × 8 columns</p>\n",
              "</div>"
            ],
            "text/plain": [
              "                    Movie Title  ...         Directors\n",
              "0    Running Scared              ...  Peter Hyams     \n",
              "1    Equilibrium                 ...  Kurt Wimmer     \n",
              "2    Hero                        ...  Zhang Yimou     \n",
              "3    Road House                  ...  Rowdy Herrington\n",
              "4    Unstoppable                 ...  Tony Scott      \n",
              "..           ...                 ...         ...      \n",
              "135  Hard-Boiled                 ...  John Woo        \n",
              "136  The Matrix                  ...  Andy Wachowski  \n",
              "137  Terminator 2: Judgment Day  ...  James Cameron   \n",
              "138  Die Hard                    ...  John McTiernan  \n",
              "139  Mad Max: Fury Road          ...  George Miller   \n",
              "\n",
              "[140 rows x 8 columns]"
            ]
          },
          "metadata": {},
          "execution_count": 133
        }
      ]
    },
    {
      "cell_type": "code",
      "metadata": {
        "colab": {
          "base_uri": "https://localhost:8080/",
          "height": 1000
        },
        "id": "CTi-Zk9Tl_yz",
        "outputId": "ed67afdc-22b4-41f1-a365-372ffaced4d8"
      },
      "source": [
        "#to prevent pandas to appreviate/truncate some of columns which have much data\n",
        "pd.set_option('display.max_colwidth', -1)\n",
        "movies_info"
      ],
      "execution_count": null,
      "outputs": [
        {
          "output_type": "stream",
          "name": "stderr",
          "text": [
            "/usr/local/lib/python3.7/dist-packages/ipykernel_launcher.py:2: FutureWarning: Passing a negative integer is deprecated in version 1.0 and will not be supported in future version. Instead, use None to not limit the column width.\n",
            "  \n"
          ]
        },
        {
          "output_type": "execute_result",
          "data": {
            "text/html": [
              "<div>\n",
              "<style scoped>\n",
              "    .dataframe tbody tr th:only-of-type {\n",
              "        vertical-align: middle;\n",
              "    }\n",
              "\n",
              "    .dataframe tbody tr th {\n",
              "        vertical-align: top;\n",
              "    }\n",
              "\n",
              "    .dataframe thead th {\n",
              "        text-align: right;\n",
              "    }\n",
              "</style>\n",
              "<table border=\"1\" class=\"dataframe\">\n",
              "  <thead>\n",
              "    <tr style=\"text-align: right;\">\n",
              "      <th></th>\n",
              "      <th>Movie Title</th>\n",
              "      <th>Year</th>\n",
              "      <th>Score</th>\n",
              "      <th>Cast</th>\n",
              "      <th>Adjusted Score</th>\n",
              "      <th>Synopsis</th>\n",
              "      <th>Critics Consensus</th>\n",
              "      <th>Directors</th>\n",
              "    </tr>\n",
              "  </thead>\n",
              "  <tbody>\n",
              "    <tr>\n",
              "      <th>0</th>\n",
              "      <td>Running Scared</td>\n",
              "      <td>1986</td>\n",
              "      <td>57</td>\n",
              "      <td>[Gregory Hines, Billy Crystal, Jimmy Smits, Steven Bauer]</td>\n",
              "      <td>58270.0</td>\n",
              "      <td>Ray and Danny (Gregory Hines, Billy Crystal) are two Chicago police detectives hot on the trail of drug kingpin Julio...</td>\n",
              "      <td>ggles to strike a consistent balance between violent action and humor, but the chemistry between its well-matched leads keeps things entertaining.</td>\n",
              "      <td>Peter Hyams</td>\n",
              "    </tr>\n",
              "    <tr>\n",
              "      <th>1</th>\n",
              "      <td>Equilibrium</td>\n",
              "      <td>2002</td>\n",
              "      <td>41</td>\n",
              "      <td>[Christian Bale, Emily Watson, Taye Diggs, Angus Macfadyen]</td>\n",
              "      <td>42441.0</td>\n",
              "      <td>In a futuristic world, a regime has eliminated war by suppressing emotions: books, art and music are strictly forbidden and...</td>\n",
              "      <td>heated mishmash of other sci-fi movies.</td>\n",
              "      <td>Kurt Wimmer</td>\n",
              "    </tr>\n",
              "    <tr>\n",
              "      <th>2</th>\n",
              "      <td>Hero</td>\n",
              "      <td>2002</td>\n",
              "      <td>94</td>\n",
              "      <td>[Jet Li, Tony Leung Chiu Wai, Maggie Cheung Man-yuk, Donnie Yen]</td>\n",
              "      <td>101735.0</td>\n",
              "      <td>In this visually arresting martial arts epic set in ancient China, an unnamed fighter (Jet Li) is being honored for...</td>\n",
              "      <td>action sequences and epic historic sweep, Hero offers everything a martial arts fan could ask for.</td>\n",
              "      <td>Zhang Yimou</td>\n",
              "    </tr>\n",
              "    <tr>\n",
              "      <th>3</th>\n",
              "      <td>Road House</td>\n",
              "      <td>1989</td>\n",
              "      <td>40</td>\n",
              "      <td>[Patrick Swayze, Kelly Lynch, Sam Elliott, Ben Gazzara]</td>\n",
              "      <td>43351.0</td>\n",
              "      <td>The Double Deuce is the meanest, loudest and rowdiest bar south of the Mason-Dixon Line, and Dalton (Patrick Swayze) has...</td>\n",
              "      <td>is simply bad or so bad it's good depends largely on the audience's fondness for Swayze -- and tolerance for violently cheesy action.</td>\n",
              "      <td>Rowdy Herrington</td>\n",
              "    </tr>\n",
              "    <tr>\n",
              "      <th>4</th>\n",
              "      <td>Unstoppable</td>\n",
              "      <td>2010</td>\n",
              "      <td>87</td>\n",
              "      <td>[Denzel Washington, Chris Pine, Rosario Dawson, Kevin Dunn]</td>\n",
              "      <td>93189.0</td>\n",
              "      <td>When a massive, unmanned locomotive roars out of control, the threat is more ominous than just a derailment. The train...</td>\n",
              "      <td>relentless as the train at the center of the story, Unstoppable is perfect popcorn entertainment -- and director Tony Scott's best movie in years.</td>\n",
              "      <td>Tony Scott</td>\n",
              "    </tr>\n",
              "    <tr>\n",
              "      <th>...</th>\n",
              "      <td>...</td>\n",
              "      <td>...</td>\n",
              "      <td>...</td>\n",
              "      <td>...</td>\n",
              "      <td>...</td>\n",
              "      <td>...</td>\n",
              "      <td>...</td>\n",
              "      <td>...</td>\n",
              "    </tr>\n",
              "    <tr>\n",
              "      <th>135</th>\n",
              "      <td>Hard-Boiled</td>\n",
              "      <td>1992</td>\n",
              "      <td>94</td>\n",
              "      <td>[Keanu Reeves, Laurence Fishburne, Carrie-Anne Moss, Hugo Weaving]</td>\n",
              "      <td>93987.0</td>\n",
              "      <td>Neo (Keanu Reeves) believes that Morpheus (Laurence Fishburne), an elusive figure considered to be the most dangerous man alive, can...</td>\n",
              "      <td>action as well as surprising emotional resonance, Hard Boiled is a powerful thriller that hits hard in more ways than one.</td>\n",
              "      <td>John Woo</td>\n",
              "    </tr>\n",
              "    <tr>\n",
              "      <th>136</th>\n",
              "      <td>The Matrix</td>\n",
              "      <td>1999</td>\n",
              "      <td>88</td>\n",
              "      <td>[Arnold Schwarzenegger, Linda Hamilton, Edward Furlong, Robert Patrick]</td>\n",
              "      <td>98456.0</td>\n",
              "      <td>In this sequel set eleven years after \"The Terminator,\" young John Connor (Edward Furlong), the key to civilization's victory over...</td>\n",
              "      <td>wskis' imaginative vision, The Matrix is a smartly crafted combination of spectacular action and groundbreaking special effects.</td>\n",
              "      <td>Andy Wachowski</td>\n",
              "    </tr>\n",
              "    <tr>\n",
              "      <th>137</th>\n",
              "      <td>Terminator 2: Judgment Day</td>\n",
              "      <td>1991</td>\n",
              "      <td>93</td>\n",
              "      <td>[Bruce Willis, Alan Rickman, Bonnie Bedelia, Reginald VelJohnson]</td>\n",
              "      <td>99086.0</td>\n",
              "      <td>New York City policeman John McClane (Bruce Willis) is visiting his estranged wife (Bonnie Bedelia) and two daughters on Christmas...</td>\n",
              "      <td>ng action sequences and eye-popping visual effects, but what takes this sci-fi/ action landmark to the next level is the depth of the human (and cyborg) characters.</td>\n",
              "      <td>James Cameron</td>\n",
              "    </tr>\n",
              "    <tr>\n",
              "      <th>138</th>\n",
              "      <td>Die Hard</td>\n",
              "      <td>1988</td>\n",
              "      <td>94</td>\n",
              "      <td>[Tom Hardy, Charlize Theron, Nicholas Hoult, Hugh Keays-Byrne]</td>\n",
              "      <td>114372.0</td>\n",
              "      <td>Years after the collapse of civilization, the tyrannical Immortan Joe enslaves apocalypse survivors inside the desert fortress the Citadel. When...</td>\n",
              "      <td>(and sequels) have never come close to matching the taut thrills of the definitive holiday action classic.</td>\n",
              "      <td>John McTiernan</td>\n",
              "    </tr>\n",
              "    <tr>\n",
              "      <th>139</th>\n",
              "      <td>Mad Max: Fury Road</td>\n",
              "      <td>2015</td>\n",
              "      <td>97</td>\n",
              "      <td>NaN</td>\n",
              "      <td>NaN</td>\n",
              "      <td>NaN</td>\n",
              "      <td>ction and a surprising amount of narrative heft, Mad Max: Fury Road brings George Miller's post-apocalyptic franchise roaring vigorously back to life.</td>\n",
              "      <td>George Miller</td>\n",
              "    </tr>\n",
              "  </tbody>\n",
              "</table>\n",
              "<p>140 rows × 8 columns</p>\n",
              "</div>"
            ],
            "text/plain": [
              "                    Movie Title  ...         Directors\n",
              "0    Running Scared              ...  Peter Hyams     \n",
              "1    Equilibrium                 ...  Kurt Wimmer     \n",
              "2    Hero                        ...  Zhang Yimou     \n",
              "3    Road House                  ...  Rowdy Herrington\n",
              "4    Unstoppable                 ...  Tony Scott      \n",
              "..           ...                 ...         ...      \n",
              "135  Hard-Boiled                 ...  John Woo        \n",
              "136  The Matrix                  ...  Andy Wachowski  \n",
              "137  Terminator 2: Judgment Day  ...  James Cameron   \n",
              "138  Die Hard                    ...  John McTiernan  \n",
              "139  Mad Max: Fury Road          ...  George Miller   \n",
              "\n",
              "[140 rows x 8 columns]"
            ]
          },
          "metadata": {},
          "execution_count": 134
        }
      ]
    },
    {
      "cell_type": "markdown",
      "metadata": {
        "id": "6DXNJuMYjq9y"
      },
      "source": [
        "**2. Exporting data to CSV & Excel file**"
      ]
    },
    {
      "cell_type": "code",
      "metadata": {
        "id": "Huz9Wiv3m6bW"
      },
      "source": [
        "#index= False: remove index which is row number\n",
        "#header= True : remain column names\n",
        "movies_info.to_csv('movies_info.csv', index= False, header= True)"
      ],
      "execution_count": null,
      "outputs": []
    },
    {
      "cell_type": "code",
      "metadata": {
        "id": "rk7GfjyDm6nP"
      },
      "source": [
        "movies_info.to_excel('movies_info.xlsx', index= False, header= True)"
      ],
      "execution_count": null,
      "outputs": []
    }
  ]
}